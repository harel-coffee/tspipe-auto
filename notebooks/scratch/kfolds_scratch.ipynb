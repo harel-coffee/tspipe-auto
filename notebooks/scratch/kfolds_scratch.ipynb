{
 "cells": [
  {
   "cell_type": "code",
   "execution_count": 338,
   "metadata": {},
   "outputs": [
    {
     "name": "stdout",
     "output_type": "stream",
     "text": [
      "The autoreload extension is already loaded. To reload it, use:\n",
      "  %reload_ext autoreload\n"
     ]
    }
   ],
   "source": [
    "import numpy as np\n",
    "import pandas as pd\n",
    "from sklearn.model_selection import ParameterSampler\n",
    "from scipy.stats import randint as sp_randint\n",
    "from scipy.stats import uniform\n",
    "from pathlib import Path\n",
    "import numpy as np\n",
    "from sklearn.model_selection import train_test_split\n",
    "from sklearn import preprocessing\n",
    "import matplotlib.pyplot as plt\n",
    "from numpy.lib.stride_tricks import sliding_window_view\n",
    "import seaborn as sns\n",
    "import re\n",
    "import random\n",
    "from sklearn.base import clone\n",
    "from sklearn.preprocessing import StandardScaler, MinMaxScaler\n",
    "from sklearn.model_selection import StratifiedKFold\n",
    "from src.models.utils import milling_add_y_label_anomaly, under_over_sampler\n",
    "from src.models.random_search_setup import general_params\n",
    "from src.models.classifiers import (\n",
    "    rf_classifier,\n",
    "    xgb_classifier,\n",
    "    knn_classifier,\n",
    "    lr_classifier,\n",
    "    sgd_classifier,\n",
    "    ridge_classifier,\n",
    "    svm_classifier,\n",
    "    nb_classifier,\n",
    ")\n",
    "\n",
    "from sklearn.metrics import (\n",
    "    roc_auc_score,\n",
    "    auc,\n",
    "    precision_recall_curve,\n",
    "    precision_score,\n",
    "    recall_score,\n",
    "    f1_score,\n",
    "    roc_curve,\n",
    ")\n",
    "\n",
    "from src.models.random_search_setup import (\n",
    "    rf_params,\n",
    "    xgb_params,\n",
    "    knn_params,\n",
    "    lr_params,\n",
    "    sgd_params,\n",
    "    ridge_params,\n",
    "    svm_params,\n",
    "    nb_params,\n",
    ")\n",
    "\n",
    "%load_ext autoreload\n",
    "%autoreload 2"
   ]
  },
  {
   "cell_type": "code",
   "execution_count": 2,
   "metadata": {},
   "outputs": [
    {
     "name": "stdout",
     "output_type": "stream",
     "text": [
      "/home/tim/Documents/feat-store/data\n"
     ]
    }
   ],
   "source": [
    "path_data_folder = Path().cwd().parent.parent / 'data'\n",
    "print(path_data_folder)"
   ]
  },
  {
   "cell_type": "code",
   "execution_count": 3,
   "metadata": {},
   "outputs": [],
   "source": [
    "folder_raw_data_milling = path_data_folder / \"raw/milling\"\n",
    "folder_interim_data_milling = path_data_folder / \"interim/milling\"\n",
    "folder_processed_data_milling = path_data_folder / \"processed/milling\""
   ]
  },
  {
   "cell_type": "code",
   "execution_count": 4,
   "metadata": {},
   "outputs": [
    {
     "data": {
      "text/html": [
       "<div>\n",
       "<style scoped>\n",
       "    .dataframe tbody tr th:only-of-type {\n",
       "        vertical-align: middle;\n",
       "    }\n",
       "\n",
       "    .dataframe tbody tr th {\n",
       "        vertical-align: top;\n",
       "    }\n",
       "\n",
       "    .dataframe thead th {\n",
       "        text-align: right;\n",
       "    }\n",
       "</style>\n",
       "<table border=\"1\" class=\"dataframe\">\n",
       "  <thead>\n",
       "    <tr style=\"text-align: right;\">\n",
       "      <th></th>\n",
       "      <th>cut_id</th>\n",
       "      <th>ae_spindle__length</th>\n",
       "      <th>ae_spindle__kurtosis</th>\n",
       "      <th>ae_table__length</th>\n",
       "      <th>ae_table__kurtosis</th>\n",
       "      <th>vib_spindle__length</th>\n",
       "      <th>vib_spindle__kurtosis</th>\n",
       "      <th>vib_table__length</th>\n",
       "      <th>vib_table__kurtosis</th>\n",
       "      <th>smcdc__length</th>\n",
       "      <th>smcdc__kurtosis</th>\n",
       "      <th>smcac__length</th>\n",
       "      <th>smcac__kurtosis</th>\n",
       "      <th>cut_no</th>\n",
       "      <th>case</th>\n",
       "      <th>tool_class</th>\n",
       "    </tr>\n",
       "  </thead>\n",
       "  <tbody>\n",
       "    <tr>\n",
       "      <th>0</th>\n",
       "      <td>0_0</td>\n",
       "      <td>64.0</td>\n",
       "      <td>-0.348446</td>\n",
       "      <td>64.0</td>\n",
       "      <td>-0.190215</td>\n",
       "      <td>64.0</td>\n",
       "      <td>-0.126833</td>\n",
       "      <td>64.0</td>\n",
       "      <td>2.144662</td>\n",
       "      <td>64.0</td>\n",
       "      <td>-0.256599</td>\n",
       "      <td>64.0</td>\n",
       "      <td>-1.367461</td>\n",
       "      <td>0</td>\n",
       "      <td>1</td>\n",
       "      <td>0</td>\n",
       "    </tr>\n",
       "    <tr>\n",
       "      <th>1</th>\n",
       "      <td>0_1</td>\n",
       "      <td>64.0</td>\n",
       "      <td>0.724161</td>\n",
       "      <td>64.0</td>\n",
       "      <td>-0.236114</td>\n",
       "      <td>64.0</td>\n",
       "      <td>0.504015</td>\n",
       "      <td>64.0</td>\n",
       "      <td>2.357173</td>\n",
       "      <td>64.0</td>\n",
       "      <td>0.384966</td>\n",
       "      <td>64.0</td>\n",
       "      <td>-1.248971</td>\n",
       "      <td>0</td>\n",
       "      <td>1</td>\n",
       "      <td>0</td>\n",
       "    </tr>\n",
       "    <tr>\n",
       "      <th>2</th>\n",
       "      <td>0_10</td>\n",
       "      <td>64.0</td>\n",
       "      <td>0.412827</td>\n",
       "      <td>64.0</td>\n",
       "      <td>0.031749</td>\n",
       "      <td>64.0</td>\n",
       "      <td>0.536186</td>\n",
       "      <td>64.0</td>\n",
       "      <td>2.901181</td>\n",
       "      <td>64.0</td>\n",
       "      <td>-0.167447</td>\n",
       "      <td>64.0</td>\n",
       "      <td>-1.327537</td>\n",
       "      <td>0</td>\n",
       "      <td>1</td>\n",
       "      <td>0</td>\n",
       "    </tr>\n",
       "    <tr>\n",
       "      <th>3</th>\n",
       "      <td>0_11</td>\n",
       "      <td>64.0</td>\n",
       "      <td>-0.087264</td>\n",
       "      <td>64.0</td>\n",
       "      <td>-0.376136</td>\n",
       "      <td>64.0</td>\n",
       "      <td>0.511172</td>\n",
       "      <td>64.0</td>\n",
       "      <td>2.578223</td>\n",
       "      <td>64.0</td>\n",
       "      <td>-0.367538</td>\n",
       "      <td>64.0</td>\n",
       "      <td>-1.441127</td>\n",
       "      <td>0</td>\n",
       "      <td>1</td>\n",
       "      <td>0</td>\n",
       "    </tr>\n",
       "    <tr>\n",
       "      <th>4</th>\n",
       "      <td>0_12</td>\n",
       "      <td>64.0</td>\n",
       "      <td>1.012060</td>\n",
       "      <td>64.0</td>\n",
       "      <td>1.804934</td>\n",
       "      <td>64.0</td>\n",
       "      <td>-0.108143</td>\n",
       "      <td>64.0</td>\n",
       "      <td>2.400641</td>\n",
       "      <td>64.0</td>\n",
       "      <td>-0.038878</td>\n",
       "      <td>64.0</td>\n",
       "      <td>-1.279095</td>\n",
       "      <td>0</td>\n",
       "      <td>1</td>\n",
       "      <td>0</td>\n",
       "    </tr>\n",
       "  </tbody>\n",
       "</table>\n",
       "</div>"
      ],
      "text/plain": [
       "  cut_id  ae_spindle__length  ae_spindle__kurtosis  ae_table__length  \\\n",
       "0    0_0                64.0             -0.348446              64.0   \n",
       "1    0_1                64.0              0.724161              64.0   \n",
       "2   0_10                64.0              0.412827              64.0   \n",
       "3   0_11                64.0             -0.087264              64.0   \n",
       "4   0_12                64.0              1.012060              64.0   \n",
       "\n",
       "   ae_table__kurtosis  vib_spindle__length  vib_spindle__kurtosis  \\\n",
       "0           -0.190215                 64.0              -0.126833   \n",
       "1           -0.236114                 64.0               0.504015   \n",
       "2            0.031749                 64.0               0.536186   \n",
       "3           -0.376136                 64.0               0.511172   \n",
       "4            1.804934                 64.0              -0.108143   \n",
       "\n",
       "   vib_table__length  vib_table__kurtosis  smcdc__length  smcdc__kurtosis  \\\n",
       "0               64.0             2.144662           64.0        -0.256599   \n",
       "1               64.0             2.357173           64.0         0.384966   \n",
       "2               64.0             2.901181           64.0        -0.167447   \n",
       "3               64.0             2.578223           64.0        -0.367538   \n",
       "4               64.0             2.400641           64.0        -0.038878   \n",
       "\n",
       "   smcac__length  smcac__kurtosis  cut_no  case  tool_class  \n",
       "0           64.0        -1.367461       0     1           0  \n",
       "1           64.0        -1.248971       0     1           0  \n",
       "2           64.0        -1.327537       0     1           0  \n",
       "3           64.0        -1.441127       0     1           0  \n",
       "4           64.0        -1.279095       0     1           0  "
      ]
     },
     "execution_count": 4,
     "metadata": {},
     "output_type": "execute_result"
    }
   ],
   "source": [
    "# read in the milling features to a pandas dataframe\n",
    "df_feat = pd.read_csv(\n",
    "    folder_processed_data_milling / \"milling.csv\",\n",
    "    )\n",
    "\n",
    "df_feat.head()"
   ]
  },
  {
   "cell_type": "markdown",
   "metadata": {},
   "source": [
    "# Putting It Together"
   ]
  },
  {
   "cell_type": "code",
   "execution_count": 5,
   "metadata": {},
   "outputs": [],
   "source": [
    "def get_classifier_and_params(classifier_string):\n",
    "    if classifier_string == \"rf\":\n",
    "        return rf_classifier, rf_params\n",
    "\n",
    "    elif classifier_string == \"xgb\":\n",
    "        return xgb_classifier, xgb_params\n",
    "\n",
    "    elif classifier_string == \"knn\":\n",
    "        return knn_classifier, knn_params\n",
    "\n",
    "    elif classifier_string == \"lr\":\n",
    "        return lr_classifier, lr_params\n",
    "\n",
    "    elif classifier_string == \"sgd\":\n",
    "        return sgd_classifier, sgd_params\n",
    "\n",
    "    elif classifier_string == \"ridge\":\n",
    "        return ridge_classifier, ridge_params\n",
    "\n",
    "    elif classifier_string == \"svm\":\n",
    "        return svm_classifier, svm_params\n",
    "\n",
    "    elif classifier_string == \"nb\":\n",
    "        return nb_classifier, nb_params\n",
    "\n",
    "    else:\n",
    "        raise ValueError(\"Classifier string not recognized\")"
   ]
  },
  {
   "cell_type": "code",
   "execution_count": 7,
   "metadata": {},
   "outputs": [],
   "source": [
    "def calculate_scores(clf, X_test, y_test,):\n",
    "    \"\"\"Helper function for calculating a bunch of scores\"\"\"\n",
    "\n",
    "    y_pred = clf.predict(X_test)\n",
    "\n",
    "    # need decision function or probability\n",
    "    # should probably remove the try-except at a later date\n",
    "    try:\n",
    "        y_scores = clf.decision_function(X_test)\n",
    "    except:\n",
    "        y_scores = clf.predict_proba(X_test)[:, 1]\n",
    "\n",
    "    n_correct = sum(y_pred == y_test)\n",
    "\n",
    "    # need to use decision scores, or probabilities, in roc_score\n",
    "    precisions, recalls, pr_thresholds = precision_recall_curve(y_test, y_scores)\n",
    "    fpr, tpr, roc_thresholds = roc_curve(y_test, y_scores)\n",
    "\n",
    "    # calculate the precision recall curve and roc_auc curve\n",
    "    # when to use ROC vs. precision-recall curves, Jason Brownlee http://bit.ly/38vEgnW\n",
    "    # https://stats.stackexchange.com/questions/113326/what-is-a-good-auc-for-a-precision-recall-curve\n",
    "    prauc_score = auc(recalls, precisions)\n",
    "    roc_score = roc_auc_score(y_test, y_scores)\n",
    "\n",
    "    # calculate precision, recall, f1 scores\n",
    "    precision_result = precision_score(y_test, y_pred)\n",
    "    recall_result = recall_score(y_test, y_pred)\n",
    "    f1_result = f1_score(y_test, y_pred)\n",
    "\n",
    "\n",
    "    return prauc_score, roc_score, precision_result, recall_result, f1_result, precisions, recalls, pr_thresholds, fpr, tpr, roc_thresholds, y_scores"
   ]
  },
  {
   "cell_type": "code",
   "execution_count": 233,
   "metadata": {},
   "outputs": [
    {
     "name": "stdout",
     "output_type": "stream",
     "text": [
      "classifier: sgd, uo_method: random_over, imbalance_ratio: 0.3\n",
      "\n",
      " {'eta0': 0.22709209944528763, 'fit_intercept': True, 'l1_ratio': 0.4341561991120222, 'learning_rate': 'adaptive', 'loss': 'epsilon_insensitive', 'penalty': 'l2'}\n"
     ]
    },
    {
     "name": "stderr",
     "output_type": "stream",
     "text": [
      "/home/tim/miniconda3/envs/featstore/lib/python3.8/site-packages/sklearn/metrics/_classification.py:1308: UndefinedMetricWarning: Precision is ill-defined and being set to 0.0 due to no predicted samples. Use `zero_division` parameter to control this behavior.\n",
      "  _warn_prf(average, modifier, msg_start, len(result))\n",
      "/home/tim/miniconda3/envs/featstore/lib/python3.8/site-packages/sklearn/metrics/_classification.py:1308: UndefinedMetricWarning: Precision is ill-defined and being set to 0.0 due to no predicted samples. Use `zero_division` parameter to control this behavior.\n",
      "  _warn_prf(average, modifier, msg_start, len(result))\n",
      "/tmp/ipykernel_16806/1144748570.py:101: VisibleDeprecationWarning: Creating an ndarray from ragged nested sequences (which is a list-or-tuple of lists-or-tuples-or ndarrays with different lengths or shapes) is deprecated. If you meant to do this, you must specify 'dtype=object' when creating the ndarray.\n",
      "  precision_array = np.array(precision_list)\n",
      "/tmp/ipykernel_16806/1144748570.py:102: VisibleDeprecationWarning: Creating an ndarray from ragged nested sequences (which is a list-or-tuple of lists-or-tuples-or ndarrays with different lengths or shapes) is deprecated. If you meant to do this, you must specify 'dtype=object' when creating the ndarray.\n",
      "  recall_array = np.array(recall_list)\n"
     ]
    }
   ],
   "source": [
    "Y_LABEL_COL = 'y'\n",
    "\n",
    "# identify if there is another column you want to \n",
    "# stratify on, besides the y label\n",
    "STRATIFICATION_GROUPING_COL = 'cut_no'\n",
    "\n",
    "# list of the columns that are not features columns\n",
    "# (not including the y-label column)\n",
    "META_LABEL_COLS = ['cut_id', 'cut_no', 'case', 'tool_class']\n",
    "\n",
    "RAND_SEARCH_ITER = 10\n",
    "\n",
    "# set a seed for the parameter sampler\n",
    "SAMPLER_SEED = random.randint(0, 2 ** 16)\n",
    "\n",
    "# generate the list of parameters to sample over\n",
    "train_params = list(\n",
    "    ParameterSampler(\n",
    "        general_params, n_iter=RAND_SEARCH_ITER, random_state=SAMPLER_SEED\n",
    "    )\n",
    ")[0]\n",
    "\n",
    "uo_method = train_params['uo_method']\n",
    "scaler_method = train_params['scaler_method']\n",
    "imbalance_ratio = train_params['imbalance_ratio']\n",
    "classifier = train_params['classifier']\n",
    "print(f\"classifier: {classifier}, uo_method: {uo_method}, imbalance_ratio: {imbalance_ratio}\")\n",
    "\n",
    "# get classifier and its parameters\n",
    "clf_function, params = get_classifier_and_params(classifier)\n",
    "\n",
    "# instantiate the model\n",
    "clf, param_dict_raw, param_dict_named = clf_function(SAMPLER_SEED, params)\n",
    "print(\"\\n\", param_dict_raw)\n",
    "\n",
    "# load feature dataframe\n",
    "df = pd.read_csv(\n",
    "    folder_processed_data_milling / \"milling.csv\",\n",
    "    )\n",
    "\n",
    "# add y label\n",
    "df = milling_add_y_label_anomaly(df)\n",
    "\n",
    "# create the x dataframe that has the META_LABEL_COLS drop, along with the `y` column dropped\n",
    "dfx = df.drop(META_LABEL_COLS + [Y_LABEL_COL], axis=1).copy()\n",
    "\n",
    "# create the y dataframe\n",
    "dfy = df[[Y_LABEL_COL]].copy()\n",
    "\n",
    "precision_list = []\n",
    "recall_list = []\n",
    "\n",
    "if STRATIFICATION_GROUPING_COL is not None and STRATIFICATION_GROUPING_COL is not Y_LABEL_COL:\n",
    "    df_strat = df[[STRATIFICATION_GROUPING_COL, Y_LABEL_COL]].drop_duplicates()\n",
    "\n",
    "    skfolds = StratifiedKFold(n_splits=5, shuffle=True, random_state=42)\n",
    "    # use clone to do a deep copy of model without copying attached data\n",
    "    # https://scikit-learn.org/stable/modules/generated/sklearn.base.clone.html\n",
    "    clone_clf = clone(clf)\n",
    "\n",
    "    for train_index, test_index in skfolds.split(df_strat[['cut_no']], df_strat[['y']]):\n",
    "        train_strat_vals = df_strat.iloc[train_index][STRATIFICATION_GROUPING_COL].values\n",
    "        test_strat_vals = df_strat.iloc[test_index][STRATIFICATION_GROUPING_COL].values\n",
    "\n",
    "        x_train = df[df[STRATIFICATION_GROUPING_COL].isin(train_strat_vals)]\n",
    "        y_train = x_train[Y_LABEL_COL].values.astype(int)\n",
    "        x_train = x_train.drop(META_LABEL_COLS + [Y_LABEL_COL], axis=1).values\n",
    "\n",
    "        x_test = df[df[STRATIFICATION_GROUPING_COL].isin(train_strat_vals)]\n",
    "        y_test = x_test[Y_LABEL_COL].values.astype(int)\n",
    "        x_test = x_test.drop(META_LABEL_COLS + [Y_LABEL_COL], axis=1).values\n",
    "\n",
    "        # scale the data (TO DO: create function)\n",
    "        if scaler_method == \"standard\":\n",
    "            scaler = StandardScaler()\n",
    "            scaler.fit(x_train)\n",
    "            x_train = scaler.transform(x_train)\n",
    "            x_test = scaler.transform(x_test)\n",
    "        elif scaler_method == \"min_max\":\n",
    "            scaler = MinMaxScaler()\n",
    "            scaler.fit(x_train)\n",
    "            x_train = scaler.transform(x_train)\n",
    "            x_test = scaler.transform(x_test)\n",
    "        else:\n",
    "            pass\n",
    "\n",
    "        # under-over-sample the data\n",
    "        x_train, y_train = under_over_sampler(\n",
    "            x_train, y_train, method=uo_method, ratio=imbalance_ratio\n",
    "        )\n",
    "\n",
    "        # train model\n",
    "        clone_clf.fit(x_train, y_train)\n",
    "\n",
    "        (prauc_score, roc_score, precision_result, recall_result, f1_result, \n",
    "        precisions, recalls, pr_thresholds, fpr, tpr, roc_thresholds, y_scores) = calculate_scores(clone_clf, x_test, y_test)\n",
    "\n",
    "        precision_list.append(precisions)\n",
    "        recall_list.append(recalls)\n",
    "\n",
    "precision_array = np.array(precision_list)\n",
    "recall_array = np.array(recall_list)\n"
   ]
  },
  {
   "cell_type": "code",
   "execution_count": 252,
   "metadata": {},
   "outputs": [],
   "source": [
    "r = recall_array[1][:]\n",
    "p = precision_array[1][:]\n",
    "\n",
    "def segment_line_by_sliding_window(recall_array, precision_array, x_axis_n=1000):\n",
    "\n",
    "    p_adj = [] # precision adjusted\n",
    "    r_adj = [] # recall adjusted\n",
    "\n",
    "    # break the x-axis up by moving a sliding window along it\n",
    "    for j, i in enumerate(sliding_window_view(np.linspace(0, 1, 10000), 2)):\n",
    "        window_segment = np.where((r >= i[0]) & (r <= i[1]))[0]\n",
    "\n",
    "        # if there are no values in the window, then\n",
    "        # use the last precision value in the window\n",
    "        if len(window_segment) == 0:\n",
    "            r_adj.append(np.mean(i))\n",
    "            p_adj.append(p_adj[-1])\n",
    "        else:\n",
    "            r_adj.append(np.mean(i))\n",
    "            p_adj.append(np.mean(p[window_segment]))\n",
    "\n",
    "    return np.array(r_adj), np.array(p_adj)\n",
    "\n",
    "r_adj, p_adj = segment_line_by_sliding_window(r, p, x_axis_n=10000)"
   ]
  },
  {
   "cell_type": "code",
   "execution_count": 253,
   "metadata": {},
   "outputs": [
    {
     "data": {
      "text/plain": [
       "(1,)"
      ]
     },
     "execution_count": 253,
     "metadata": {},
     "output_type": "execute_result"
    }
   ],
   "source": [
    "y.shape"
   ]
  },
  {
   "cell_type": "code",
   "execution_count": 256,
   "metadata": {},
   "outputs": [
    {
     "data": {
      "text/plain": [
       "(100000,)"
      ]
     },
     "execution_count": 256,
     "metadata": {},
     "output_type": "execute_result"
    }
   ],
   "source": [
    "x = np.linspace(recall_array[1][:].min(), recall_array[1][:].max(), 100000)\n",
    "y = np.interp(x, precision_array[1][:], recall_array[1][:])\n",
    "\n",
    "y.shape"
   ]
  },
  {
   "cell_type": "code",
   "execution_count": 257,
   "metadata": {},
   "outputs": [
    {
     "data": {
      "text/plain": [
       "[<matplotlib.lines.Line2D at 0x7f12ae3fe1f0>]"
      ]
     },
     "execution_count": 257,
     "metadata": {},
     "output_type": "execute_result"
    },
    {
     "data": {
      "image/png": "[encoded data removed]",
      "text/plain": [
       "<Figure size 720x360 with 2 Axes>"
      ]
     },
     "metadata": {},
     "output_type": "display_data"
    }
   ],
   "source": [
    "fig, ax = plt.subplots(1, 2, figsize=(10, 5))\n",
    "ax[0].plot(y,x,)\n",
    "ax[1].plot(recall_array[1][:], precision_array[1][:],)"
   ]
  },
  {
   "cell_type": "code",
   "execution_count": 260,
   "metadata": {},
   "outputs": [
    {
     "data": {
      "text/plain": [
       "[<matplotlib.lines.Line2D at 0x7f12ae52cac0>]"
      ]
     },
     "execution_count": 260,
     "metadata": {},
     "output_type": "execute_result"
    },
    {
     "data": {
      "image/png": "[encoded data removed]",
      "text/plain": [
       "<Figure size 720x720 with 1 Axes>"
      ]
     },
     "metadata": {},
     "output_type": "display_data"
    }
   ],
   "source": [
    "x = np.linspace(0, 1, 10000)\n",
    "\n",
    "ys = []\n",
    "for p, r in zip(precision_array, recall_array):\n",
    "    y = np.interp(x, p, r)\n",
    "    ys.append(y)\n",
    "\n",
    "ys = np.array(ys)\n",
    "\n",
    "\n",
    "fig, axes = plt.subplots(1, 1, figsize=(10, 10))\n",
    "for p, r, in zip(precision_array, recall_array):\n",
    "    axes.plot(r[:], p[:], label='precision-recall curve', color='gray', alpha=0.5)\n",
    "\n",
    "axes.plot(ys.mean(axis=0), x, label='mean')"
   ]
  },
  {
   "cell_type": "code",
   "execution_count": 266,
   "metadata": {},
   "outputs": [],
   "source": []
  },
  {
   "cell_type": "code",
   "execution_count": 280,
   "metadata": {},
   "outputs": [
    {
     "data": {
      "text/plain": [
       "(9, 2)"
      ]
     },
     "execution_count": 280,
     "metadata": {},
     "output_type": "execute_result"
    }
   ],
   "source": [
    "a = np.linspace(0, 1, 10)\n",
    "sliding_a = sliding_window_view(a, 2)\n",
    "sliding_a.shape\n"
   ]
  },
  {
   "cell_type": "code",
   "execution_count": 335,
   "metadata": {},
   "outputs": [],
   "source": []
  },
  {
   "cell_type": "markdown",
   "metadata": {},
   "source": [
    "https://stackoverflow.com/questions/49037902/how-to-interpolate-a-line-between-two-other-lines-in-python"
   ]
  },
  {
   "cell_type": "code",
   "execution_count": 337,
   "metadata": {},
   "outputs": [
    {
     "data": {
      "text/plain": [
       "[<matplotlib.lines.Line2D at 0x7f12ad46c130>]"
      ]
     },
     "execution_count": 337,
     "metadata": {},
     "output_type": "execute_result"
    },
    {
     "data": {
      "image/png": "[encoded data removed]",
      "text/plain": [
       "<Figure size 432x288 with 1 Axes>"
      ]
     },
     "metadata": {},
     "output_type": "display_data"
    }
   ],
   "source": [
    "plt.plot(r_adj, p_adj,)"
   ]
  },
  {
   "cell_type": "code",
   "execution_count": 333,
   "metadata": {},
   "outputs": [
    {
     "data": {
      "text/plain": [
       "[<matplotlib.lines.Line2D at 0x7f12ad48c1f0>]"
      ]
     },
     "execution_count": 333,
     "metadata": {},
     "output_type": "execute_result"
    },
    {
     "data": {
      "image/png": "[encoded data removed]",
      "text/plain": [
       "<Figure size 432x288 with 1 Axes>"
      ]
     },
     "metadata": {},
     "output_type": "display_data"
    }
   ],
   "source": [
    "\n"
   ]
  },
  {
   "cell_type": "code",
   "execution_count": 282,
   "metadata": {},
   "outputs": [
    {
     "data": {
      "text/plain": [
       "array([0.        , 0.11111111])"
      ]
     },
     "execution_count": 282,
     "metadata": {},
     "output_type": "execute_result"
    }
   ],
   "source": [
    "sliding_a[0]"
   ]
  },
  {
   "cell_type": "code",
   "execution_count": 290,
   "metadata": {},
   "outputs": [
    {
     "data": {
      "text/plain": [
       "0.1111111111111111"
      ]
     },
     "execution_count": 290,
     "metadata": {},
     "output_type": "execute_result"
    }
   ],
   "source": [
    "sliding_a[0][1]"
   ]
  },
  {
   "cell_type": "code",
   "execution_count": 291,
   "metadata": {},
   "outputs": [
    {
     "data": {
      "text/plain": [
       "(array([8242, 8243, 8244, 8245, 8246, 8247, 8248, 8249, 8250, 8251, 8252,\n",
       "        8253, 8254, 8255, 8256, 8257, 8258, 8259, 8260, 8261, 8262, 8263,\n",
       "        8264, 8265, 8266, 8267, 8268, 8269, 8270, 8271, 8272, 8273, 8274,\n",
       "        8275, 8276, 8277, 8278, 8279, 8280, 8281, 8282, 8283, 8284, 8285,\n",
       "        8286, 8287, 8288, 8289, 8290, 8291, 8292, 8293, 8294, 8295, 8296,\n",
       "        8297, 8298, 8299, 8300, 8301, 8302, 8303, 8304, 8305, 8306, 8307,\n",
       "        8308, 8309, 8310, 8311, 8312, 8313, 8314, 8315, 8316, 8317, 8318,\n",
       "        8319, 8320, 8321, 8322, 8323, 8324, 8325, 8326, 8327, 8328, 8329,\n",
       "        8330, 8331, 8332, 8333, 8334, 8335, 8336, 8337, 8338, 8339, 8340,\n",
       "        8341, 8342, 8343, 8344, 8345, 8346, 8347, 8348, 8349, 8350, 8351,\n",
       "        8352, 8353, 8354, 8355, 8356, 8357, 8358, 8359, 8360, 8361, 8362,\n",
       "        8363, 8364, 8365, 8366, 8367, 8368, 8369, 8370, 8371, 8372, 8373,\n",
       "        8374, 8375, 8376, 8377, 8378, 8379, 8380, 8381, 8382, 8383, 8384,\n",
       "        8385, 8386, 8387, 8388, 8389, 8390, 8391, 8392, 8393, 8394, 8395,\n",
       "        8396, 8397, 8398, 8399, 8400, 8401, 8402, 8403, 8404, 8405, 8406,\n",
       "        8407, 8408, 8409, 8410, 8411, 8412, 8413, 8414, 8415, 8416, 8417,\n",
       "        8418, 8419, 8420, 8421, 8422, 8423, 8424, 8425, 8426, 8427, 8428,\n",
       "        8429, 8430, 8431, 8432, 8433, 8434, 8435, 8436, 8437, 8438, 8439,\n",
       "        8440, 8441, 8442, 8443, 8444, 8445, 8446, 8447, 8448, 8449, 8450,\n",
       "        8451, 8452, 8453, 8454, 8455, 8456, 8457, 8458, 8459, 8460, 8461,\n",
       "        8462, 8463, 8464, 8465, 8466, 8467, 8468, 8469, 8470, 8471, 8472,\n",
       "        8473, 8474, 8475, 8476, 8477, 8478, 8479, 8480, 8481, 8482, 8483,\n",
       "        8484, 8485, 8486, 8487, 8488, 8489, 8490, 8491, 8492, 8493, 8494,\n",
       "        8495, 8496, 8497, 8498, 8499, 8500, 8501, 8502, 8503, 8504, 8505,\n",
       "        8506, 8507, 8508, 8509, 8510, 8511, 8512, 8513, 8514, 8515, 8516,\n",
       "        8517, 8518, 8519, 8520, 8521, 8522, 8523, 8524, 8525, 8526, 8527,\n",
       "        8528, 8529, 8530, 8531, 8532, 8533, 8534, 8535, 8536, 8537, 8538,\n",
       "        8539, 8540, 8541, 8542, 8543, 8544, 8545, 8546, 8547, 8548, 8549,\n",
       "        8550, 8551, 8552, 8553, 8554, 8555, 8556, 8557, 8558, 8559, 8560,\n",
       "        8561, 8562, 8563, 8564, 8565, 8566, 8567, 8568, 8569, 8570, 8571,\n",
       "        8572, 8573, 8574, 8575, 8576, 8577, 8578, 8579, 8580, 8581, 8582,\n",
       "        8583, 8584, 8585, 8586, 8587, 8588, 8589, 8590, 8591, 8592, 8593,\n",
       "        8594, 8595, 8596, 8597, 8598, 8599, 8600, 8601, 8602, 8603, 8604,\n",
       "        8605, 8606, 8607, 8608, 8609, 8610, 8611, 8612, 8613, 8614, 8615,\n",
       "        8616, 8617, 8618, 8619, 8620, 8621, 8622, 8623, 8624, 8625, 8626,\n",
       "        8627, 8628, 8629, 8630, 8631, 8632, 8633, 8634, 8635, 8636, 8637,\n",
       "        8638, 8639, 8640, 8641, 8642, 8643, 8644, 8645, 8646, 8647, 8648,\n",
       "        8649, 8650, 8651, 8652, 8653, 8654, 8655, 8656, 8657, 8658, 8659,\n",
       "        8660, 8661, 8662, 8663, 8664, 8665, 8666, 8667, 8668, 8669, 8670,\n",
       "        8671, 8672, 8673, 8674, 8675, 8676, 8677, 8678, 8679, 8680, 8681,\n",
       "        8682, 8683, 8684, 8685, 8686, 8687, 8688, 8689, 8690, 8691, 8692,\n",
       "        8693, 8694, 8695, 8696, 8697, 8698, 8699, 8700, 8701, 8702, 8703,\n",
       "        8704, 8705, 8706, 8707, 8708, 8709, 8710, 8711, 8712, 8713, 8714,\n",
       "        8715, 8716, 8717, 8718, 8719, 8720, 8721, 8722, 8723, 8724, 8725,\n",
       "        8726, 8727, 8728, 8729, 8730, 8731, 8732, 8733, 8734, 8735, 8736,\n",
       "        8737, 8738, 8739, 8740, 8741, 8742, 8743, 8744, 8745, 8746, 8747,\n",
       "        8748, 8749, 8750, 8751, 8752, 8753, 8754, 8755, 8756, 8757, 8758,\n",
       "        8759, 8760, 8761, 8762, 8763, 8764, 8765, 8766, 8767, 8768, 8769,\n",
       "        8770, 8771, 8772, 8773, 8774, 8775, 8776, 8777, 8778, 8779, 8780,\n",
       "        8781, 8782, 8783, 8784, 8785, 8786, 8787, 8788, 8789, 8790, 8791,\n",
       "        8792, 8793, 8794, 8795, 8796, 8797, 8798, 8799, 8800, 8801, 8802,\n",
       "        8803, 8804, 8805, 8806, 8807, 8808, 8809, 8810, 8811, 8812, 8813,\n",
       "        8814, 8815, 8816, 8817, 8818, 8819, 8820, 8821, 8822, 8823, 8824,\n",
       "        8825, 8826, 8827, 8828, 8829, 8830, 8831, 8832, 8833, 8834, 8835,\n",
       "        8836, 8837, 8838, 8839, 8840, 8841, 8842, 8843, 8844, 8845, 8846,\n",
       "        8847, 8848, 8849, 8850, 8851, 8852, 8853, 8854, 8855, 8856, 8857,\n",
       "        8858, 8859, 8860, 8861, 8862, 8863, 8864, 8865, 8866, 8867, 8868,\n",
       "        8869, 8870, 8871, 8872]),)"
      ]
     },
     "execution_count": 291,
     "metadata": {},
     "output_type": "execute_result"
    }
   ],
   "source": [
    "r = recall_array[1]\n",
    "np.where((r >= sliding_a[0][0]) & (r <= sliding_a[0][1]))"
   ]
  },
  {
   "cell_type": "code",
   "execution_count": 278,
   "metadata": {},
   "outputs": [
    {
     "data": {
      "text/plain": [
       "(8873, 2)"
      ]
     },
     "execution_count": 278,
     "metadata": {},
     "output_type": "execute_result"
    }
   ],
   "source": [
    "n = np.stack((recall_array[1], precision_array[1]), axis=1)\n",
    "n.shape"
   ]
  },
  {
   "cell_type": "code",
   "execution_count": 279,
   "metadata": {},
   "outputs": [
    {
     "data": {
      "text/plain": [
       "array([[1.        , 0.07980162],\n",
       "       [0.99858757, 0.07969789],\n",
       "       [0.99858757, 0.07970688],\n",
       "       ...,\n",
       "       [0.        , 0.        ],\n",
       "       [0.        , 0.        ],\n",
       "       [0.        , 1.        ]])"
      ]
     },
     "execution_count": 279,
     "metadata": {},
     "output_type": "execute_result"
    }
   ],
   "source": [
    "n"
   ]
  },
  {
   "cell_type": "code",
   "execution_count": 265,
   "metadata": {},
   "outputs": [
    {
     "data": {
      "text/plain": [
       "array([0.22222222, 0.33333333])"
      ]
     },
     "execution_count": 265,
     "metadata": {},
     "output_type": "execute_result"
    }
   ],
   "source": [
    "a[1]"
   ]
  },
  {
   "cell_type": "code",
   "execution_count": 102,
   "metadata": {},
   "outputs": [
    {
     "data": {
      "text/plain": [
       "0.11127219289769648"
      ]
     },
     "execution_count": 102,
     "metadata": {},
     "output_type": "execute_result"
    }
   ],
   "source": [
    "prauc_score"
   ]
  },
  {
   "cell_type": "code",
   "execution_count": 103,
   "metadata": {},
   "outputs": [
    {
     "data": {
      "text/plain": [
       "0.06855407310988176"
      ]
     },
     "execution_count": 103,
     "metadata": {},
     "output_type": "execute_result"
    }
   ],
   "source": [
    "perct_anom = np.sum(y_test) / len(y_test)\n",
    "perct_anom"
   ]
  },
  {
   "cell_type": "code",
   "execution_count": 104,
   "metadata": {},
   "outputs": [],
   "source": [
    "def plot_pr_roc_curves(precisions, recalls, fpr, tpr, roc_score, prauc_score, percent_anomalies_truth=0.073):\n",
    "    # plot the precision recall curves\n",
    "\n",
    "    # sns whitegrid context\n",
    "    sns.set(style=\"white\", context=\"notebook\")\n",
    "    fig, axes = plt.subplots(1, 2, figsize=(12, 6), sharex=True, sharey=True, dpi=150)\n",
    "    fig.tight_layout(pad=5.0)\n",
    "\n",
    "    pal = sns.cubehelix_palette(6, rot=-0.25, light=0.7)\n",
    "\n",
    "    axes[0].plot(\n",
    "        recalls[:-1],\n",
    "        precisions[:-1],\n",
    "        marker=\"\",\n",
    "        label=\"Best model\",\n",
    "        color=pal[5],\n",
    "        linewidth=2,\n",
    "    )\n",
    "\n",
    "    axes[0].plot(\n",
    "        np.array([0, 1]),\n",
    "        np.array([percent_anomalies_truth, percent_anomalies_truth]),\n",
    "        marker=\"\",\n",
    "        linestyle=\"--\",\n",
    "        label=\"No skill model\",\n",
    "        color=\"orange\",\n",
    "        linewidth=2,\n",
    "    )\n",
    "\n",
    "    axes[0].legend()\n",
    "    axes[0].title.set_text(\"Precision-Recall Curve\")\n",
    "    axes[0].set_xlabel(\"Recall\")\n",
    "    axes[0].set_ylabel(\"Precision\")\n",
    "    axes[0].text(\n",
    "        x=-0.05,\n",
    "        y=-0.3,\n",
    "        s=\"Precision-Recall Area-Under-Curve = {:.3f}\".format(prauc_score),\n",
    "        horizontalalignment=\"left\",\n",
    "        verticalalignment=\"center\",\n",
    "        rotation=\"horizontal\",\n",
    "        alpha=1,\n",
    "    )\n",
    "\n",
    "    axes[1].plot(\n",
    "        fpr, tpr, marker=\"\", label=\"Best model\", color=pal[5], linewidth=2,\n",
    "    )\n",
    "\n",
    "    axes[1].plot(\n",
    "        np.array([0, 1]),\n",
    "        np.array([0, 1]),\n",
    "        marker=\"\",\n",
    "        linestyle=\"--\",\n",
    "        label=\"No skill\",\n",
    "        color=\"orange\",\n",
    "        linewidth=2,\n",
    "    )\n",
    "\n",
    "    axes[1].title.set_text(\"ROC Curve\")\n",
    "    axes[1].set_xlabel(\"False Positive Rate\")\n",
    "    axes[1].set_ylabel(\"True Positive Rate\")\n",
    "    axes[1].text(\n",
    "        x=-0.05,\n",
    "        y=-0.3,\n",
    "        s=\"ROC Area-Under-Curve = {:.3f}\".format(roc_score),\n",
    "        horizontalalignment=\"left\",\n",
    "        verticalalignment=\"center\",\n",
    "        rotation=\"horizontal\",\n",
    "        alpha=1,\n",
    "    )\n",
    "\n",
    "    for ax in axes.flatten():\n",
    "        ax.yaxis.set_tick_params(labelleft=True, which=\"major\")\n",
    "        ax.grid(False)\n",
    "\n",
    "    plt.show()"
   ]
  },
  {
   "cell_type": "code",
   "execution_count": 105,
   "metadata": {},
   "outputs": [
    {
     "data": {
      "image/png": "[encoded data removed]",
      "text/plain": [
       "<Figure size 1800x900 with 2 Axes>"
      ]
     },
     "metadata": {},
     "output_type": "display_data"
    }
   ],
   "source": [
    "plot_pr_roc_curves(precisions, recalls, fpr, tpr, roc_score, prauc_score, percent_anomalies_truth=perct_anom)"
   ]
  },
  {
   "cell_type": "code",
   "execution_count": 66,
   "metadata": {},
   "outputs": [
    {
     "name": "stdout",
     "output_type": "stream",
     "text": [
      "prauc_score = 0.122; roc_score = 0.698\n"
     ]
    },
    {
     "data": {
      "text/plain": [
       "Text(0, 0.5, 'True Positive Rate')"
      ]
     },
     "execution_count": 66,
     "metadata": {},
     "output_type": "execute_result"
    },
    {
     "data": {
      "image/png": "[encoded data removed]",
      "text/plain": [
       "<Figure size 720x360 with 2 Axes>"
      ]
     },
     "metadata": {
      "needs_background": "light"
     },
     "output_type": "display_data"
    }
   ],
   "source": [
    "print(f\"prauc_score = {prauc_score:0.3}; roc_score = {roc_score:.3}\")\n",
    "fig, ax = plt.subplots(1, 2, figsize=(10, 5))\n",
    "ax[0].plot(recalls[:-1], precisions[:-1])\n",
    "# ax[0].plot(recalls, precisions)\n",
    "ax[0].set_xlabel(\"Recall\")\n",
    "ax[0].set_ylabel(\"Precision\")\n",
    "ax[1].plot(fpr, tpr)\n",
    "ax[1].set_xlabel(\"False Positive Rate\")\n",
    "ax[1].set_ylabel(\"True Positive Rate\")"
   ]
  },
  {
   "cell_type": "code",
   "execution_count": 56,
   "metadata": {},
   "outputs": [
    {
     "name": "stdout",
     "output_type": "stream",
     "text": [
      "[1.         0.         0.         ... 0.07408712 0.07407842 0.07418711]\n",
      "[0.         0.         0.         ... 0.99841772 0.99841772 1.        ]\n"
     ]
    }
   ],
   "source": [
    "print(np.flip(precisions))\n",
    "print(np.flip(recalls))"
   ]
  },
  {
   "cell_type": "code",
   "execution_count": 9,
   "metadata": {},
   "outputs": [],
   "source": [
    "y_scores = clone_clf.predict_proba(x_test)"
   ]
  },
  {
   "cell_type": "code",
   "execution_count": 10,
   "metadata": {},
   "outputs": [
    {
     "data": {
      "text/plain": [
       "array([[0.77777778, 0.22222222],\n",
       "       [1.        , 0.        ],\n",
       "       [1.        , 0.        ],\n",
       "       ...,\n",
       "       [1.        , 0.        ],\n",
       "       [0.66666667, 0.33333333],\n",
       "       [0.77777778, 0.22222222]])"
      ]
     },
     "execution_count": 10,
     "metadata": {},
     "output_type": "execute_result"
    }
   ],
   "source": [
    "y_scores"
   ]
  },
  {
   "cell_type": "code",
   "execution_count": 11,
   "metadata": {},
   "outputs": [
    {
     "data": {
      "text/plain": [
       "(9219, 2)"
      ]
     },
     "execution_count": 11,
     "metadata": {},
     "output_type": "execute_result"
    }
   ],
   "source": [
    "y_scores.shape"
   ]
  },
  {
   "cell_type": "code",
   "execution_count": 12,
   "metadata": {},
   "outputs": [],
   "source": [
    "y_pred = clone_clf.predict(x_test)"
   ]
  },
  {
   "cell_type": "code",
   "execution_count": 13,
   "metadata": {},
   "outputs": [
    {
     "data": {
      "text/plain": [
       "9219"
      ]
     },
     "execution_count": 13,
     "metadata": {},
     "output_type": "execute_result"
    }
   ],
   "source": [
    "len(y_test)"
   ]
  },
  {
   "cell_type": "code",
   "execution_count": 14,
   "metadata": {},
   "outputs": [
    {
     "data": {
      "text/plain": [
       "632"
      ]
     },
     "execution_count": 14,
     "metadata": {},
     "output_type": "execute_result"
    }
   ],
   "source": [
    "y_test.sum()"
   ]
  },
  {
   "cell_type": "code",
   "execution_count": 15,
   "metadata": {},
   "outputs": [
    {
     "data": {
      "text/plain": [
       "1339"
      ]
     },
     "execution_count": 15,
     "metadata": {},
     "output_type": "execute_result"
    }
   ],
   "source": [
    "y_pred.sum()"
   ]
  },
  {
   "cell_type": "code",
   "execution_count": 16,
   "metadata": {},
   "outputs": [
    {
     "data": {
      "text/plain": [
       "[<matplotlib.lines.Line2D at 0x7f12bb253fa0>]"
      ]
     },
     "execution_count": 16,
     "metadata": {},
     "output_type": "execute_result"
    },
    {
     "data": {
      "image/png": "[encoded data removed]",
      "text/plain": [
       "<Figure size 720x720 with 1 Axes>"
      ]
     },
     "metadata": {
      "needs_background": "light"
     },
     "output_type": "display_data"
    }
   ],
   "source": []
  },
  {
   "cell_type": "code",
   "execution_count": 13,
   "metadata": {},
   "outputs": [
    {
     "data": {
      "text/plain": [
       "0.15059180423895235"
      ]
     },
     "execution_count": 13,
     "metadata": {},
     "output_type": "execute_result"
    }
   ],
   "source": [
    "# function for PR-AUC and ROC curves\n",
    "roc_auc_val = auc(fprs[0, :], tprs[0, :])\n",
    "pr_auc_val = auc(recalls[0, :], precisions[0, :])\n",
    "\n",
    "fig, axes = plt.subplots(1, 2, figsize=(12, 6), sharex=True, sharey=True, dpi=150)\n",
    "fig.tight_layout(pad=5.0)\n",
    "\n",
    "pal = sns.cubehelix_palette(6, rot=-0.25, light=0.7)\n",
    "\n",
    "axes[0].plot(\n",
    "    recalls[0, :],\n",
    "    precisions[0, :],\n",
    "    marker=\"\",\n",
    "    label=\"Best model\",\n",
    "    color=pal[5],\n",
    "    linewidth=2,\n",
    ")\n",
    "\n",
    "axes[0].plot(\n",
    "    np.array([0, 1]),\n",
    "    np.array([0.073, 0.073]),\n",
    "    marker=\"\",\n",
    "    linestyle=\"--\",\n",
    "    label=\"No skill model\",\n",
    "    color=\"orange\",\n",
    "    linewidth=2,\n",
    ")\n",
    "\n",
    "axes[0].legend()\n",
    "axes[0].title.set_text(\"Precision-Recall Curve\")\n",
    "axes[0].set_xlabel(\"Recall\")\n",
    "axes[0].set_ylabel(\"Precision\")\n",
    "axes[0].text(\n",
    "    x=-0.05,\n",
    "    y=-0.3,\n",
    "    s=\"Precision-Recall Area-Under-Curve = {:.3f}\".format(pr_auc_val),\n",
    "    horizontalalignment=\"left\",\n",
    "    verticalalignment=\"center\",\n",
    "    rotation=\"horizontal\",\n",
    "    alpha=1,\n",
    ")\n",
    "\n",
    "axes[1].plot(\n",
    "    fprs[0, :], tprs[0, :], marker=\"\", label=\"Best model\", color=pal[5], linewidth=2,\n",
    ")\n",
    "\n",
    "axes[1].plot(\n",
    "    np.array([0, 1]),\n",
    "    np.array([0, 1]),\n",
    "    marker=\"\",\n",
    "    linestyle=\"--\",\n",
    "    label=\"No skill\",\n",
    "    color=\"orange\",\n",
    "    linewidth=2,\n",
    ")\n",
    "\n",
    "axes[1].title.set_text(\"ROC Curve\")\n",
    "axes[1].set_xlabel(\"False Positive Rate\")\n",
    "axes[1].set_ylabel(\"True Positive Rate\")\n",
    "axes[1].text(\n",
    "    x=-0.05,\n",
    "    y=-0.3,\n",
    "    s=\"ROC Area-Under-Curve = {:.3f}\".format(roc_auc_val),\n",
    "    horizontalalignment=\"left\",\n",
    "    verticalalignment=\"center\",\n",
    "    rotation=\"horizontal\",\n",
    "    alpha=1,\n",
    ")\n",
    "\n",
    "for ax in axes.flatten():\n",
    "    ax.yaxis.set_tick_params(labelleft=True, which=\"major\")\n",
    "    ax.grid(False)\n",
    "\n",
    "plt.show()"
   ]
  },
  {
   "cell_type": "code",
   "execution_count": 25,
   "metadata": {},
   "outputs": [
    {
     "data": {
      "text/plain": [
       "{'uo_method': 'random_over',\n",
       " 'scaler_method': 'standard',\n",
       " 'imbalance_ratio': 0.8,\n",
       " 'classifier': <function src.models.classifiers.gaussian_classifier(sampler_seed, gaussian_params)>}"
      ]
     },
     "execution_count": 25,
     "metadata": {},
     "output_type": "execute_result"
    }
   ],
   "source": [
    "train_params"
   ]
  },
  {
   "cell_type": "code",
   "execution_count": 56,
   "metadata": {},
   "outputs": [
    {
     "data": {
      "text/plain": [
       "array([116,  11, 125, 126, 134, 135, 136, 139,  13, 140, 152, 155, 164,\n",
       "         1,  21,  24,  29,  44,  45,  47,  48,  51,  52,  57,  68,   6,\n",
       "        75,  80,  81,  83,  86,  92,  93])"
      ]
     },
     "execution_count": 56,
     "metadata": {},
     "output_type": "execute_result"
    }
   ],
   "source": [
    "test_strat_vals"
   ]
  },
  {
   "cell_type": "code",
   "execution_count": 47,
   "metadata": {},
   "outputs": [
    {
     "data": {
      "text/html": [
       "<div>\n",
       "<style scoped>\n",
       "    .dataframe tbody tr th:only-of-type {\n",
       "        vertical-align: middle;\n",
       "    }\n",
       "\n",
       "    .dataframe tbody tr th {\n",
       "        vertical-align: top;\n",
       "    }\n",
       "\n",
       "    .dataframe thead th {\n",
       "        text-align: right;\n",
       "    }\n",
       "</style>\n",
       "<table border=\"1\" class=\"dataframe\">\n",
       "  <thead>\n",
       "    <tr style=\"text-align: right;\">\n",
       "      <th></th>\n",
       "      <th>cut_no</th>\n",
       "      <th>y</th>\n",
       "    </tr>\n",
       "  </thead>\n",
       "  <tbody>\n",
       "    <tr>\n",
       "      <th>0</th>\n",
       "      <td>0</td>\n",
       "      <td>0</td>\n",
       "    </tr>\n",
       "    <tr>\n",
       "      <th>70</th>\n",
       "      <td>100</td>\n",
       "      <td>0</td>\n",
       "    </tr>\n",
       "    <tr>\n",
       "      <th>136</th>\n",
       "      <td>101</td>\n",
       "      <td>0</td>\n",
       "    </tr>\n",
       "    <tr>\n",
       "      <th>202</th>\n",
       "      <td>102</td>\n",
       "      <td>0</td>\n",
       "    </tr>\n",
       "    <tr>\n",
       "      <th>268</th>\n",
       "      <td>103</td>\n",
       "      <td>0</td>\n",
       "    </tr>\n",
       "    <tr>\n",
       "      <th>...</th>\n",
       "      <td>...</td>\n",
       "      <td>...</td>\n",
       "    </tr>\n",
       "    <tr>\n",
       "      <th>11256</th>\n",
       "      <td>96</td>\n",
       "      <td>0</td>\n",
       "    </tr>\n",
       "    <tr>\n",
       "      <th>11318</th>\n",
       "      <td>97</td>\n",
       "      <td>0</td>\n",
       "    </tr>\n",
       "    <tr>\n",
       "      <th>11380</th>\n",
       "      <td>98</td>\n",
       "      <td>0</td>\n",
       "    </tr>\n",
       "    <tr>\n",
       "      <th>11434</th>\n",
       "      <td>99</td>\n",
       "      <td>0</td>\n",
       "    </tr>\n",
       "    <tr>\n",
       "      <th>11500</th>\n",
       "      <td>9</td>\n",
       "      <td>0</td>\n",
       "    </tr>\n",
       "  </tbody>\n",
       "</table>\n",
       "<p>165 rows × 2 columns</p>\n",
       "</div>"
      ],
      "text/plain": [
       "       cut_no  y\n",
       "0           0  0\n",
       "70        100  0\n",
       "136       101  0\n",
       "202       102  0\n",
       "268       103  0\n",
       "...       ... ..\n",
       "11256      96  0\n",
       "11318      97  0\n",
       "11380      98  0\n",
       "11434      99  0\n",
       "11500       9  0\n",
       "\n",
       "[165 rows x 2 columns]"
      ]
     },
     "execution_count": 47,
     "metadata": {},
     "output_type": "execute_result"
    }
   ],
   "source": [
    "df_strat"
   ]
  },
  {
   "cell_type": "code",
   "execution_count": 41,
   "metadata": {},
   "outputs": [
    {
     "data": {
      "text/plain": [
       "array([  0, 100, 101, 102, 103, 104, 105, 106, 107, 108, 109,  10, 110,\n",
       "       111, 112, 113, 114, 115, 116, 117, 118, 119,  11, 120, 121, 122,\n",
       "       123, 124, 125, 126, 127, 128, 129,  12, 130, 131, 132, 133, 134,\n",
       "       135, 136, 137, 138, 139,  13, 140, 141, 142, 143, 144, 145, 146,\n",
       "       147, 148, 149,  14, 150, 151, 152, 153, 154, 155, 156, 157, 158,\n",
       "       159,  15, 160, 161, 162, 163, 164, 165, 166,  16,  18,  19,   1,\n",
       "        20,  21,  22,  23,  24,  25,  26,  27,  28,  29,   2,  30,  31,\n",
       "        32,  33,  34,  35,  36,  37,  38,  39,   3,  40,  41,  42,  43,\n",
       "        44,  45,  46,  47,  48,  49,   4,  50,  51,  52,  53,  54,  55,\n",
       "        56,  57,  58,  59,   5,  60,  61,  62,  63,  64,  65,  66,  67,\n",
       "        68,  69,   6,  70,  71,  72,  73,  74,  75,  76,  77,  78,  79,\n",
       "         7,  80,  81,  82,  83,  84,  85,  86,  87,  88,  89,   8,  90,\n",
       "        91,  92,  93,  95,  96,  97,  98,  99,   9])"
      ]
     },
     "execution_count": 41,
     "metadata": {},
     "output_type": "execute_result"
    }
   ],
   "source": [
    "train_strat_vals"
   ]
  },
  {
   "cell_type": "code",
   "execution_count": 42,
   "metadata": {},
   "outputs": [
    {
     "data": {
      "text/plain": [
       "array([  0, 100, 101, 102, 103, 104, 105, 106, 107, 108, 109,  10, 110,\n",
       "       111, 112, 113, 114, 115, 116, 117, 118, 119,  11, 120, 121, 122,\n",
       "       123, 124, 125, 126, 127, 128, 129,  12, 130, 131, 132, 133, 134,\n",
       "       135, 136, 137, 138, 139,  13, 140, 141, 142, 143, 144, 145, 146,\n",
       "       147, 148, 149,  14, 150, 151, 152, 153, 154, 155, 156, 157, 158,\n",
       "       159,  15, 160, 161, 162, 163, 164, 165, 166,  16,  18,  19,   1,\n",
       "        20,  21,  22,  23,  24,  25,  26,  27,  28,  29,   2,  30,  31,\n",
       "        32,  33,  34,  35,  36,  37,  38,  39,   3,  40,  41,  42,  43,\n",
       "        44,  45,  46,  47,  48,  49,   4,  50,  51,  52,  53,  54,  55,\n",
       "        56,  57,  58,  59,   5,  60,  61,  62,  63,  64,  65,  66,  67,\n",
       "        68,  69,   6,  70,  71,  72,  73,  74,  75,  76,  77,  78,  79,\n",
       "         7,  80,  81,  82,  83,  84,  85,  86,  87,  88,  89,   8,  90,\n",
       "        91,  92,  93,  95,  96,  97,  98,  99,   9])"
      ]
     },
     "execution_count": 42,
     "metadata": {},
     "output_type": "execute_result"
    }
   ],
   "source": [
    "test_strat_vals"
   ]
  },
  {
   "cell_type": "code",
   "execution_count": 15,
   "metadata": {},
   "outputs": [
    {
     "name": "stdout",
     "output_type": "stream",
     "text": [
      "[  4   8   9  10  11  12  26  27  34  37  41  47  49  50  55  57  68  69\n",
      "  72  75  76  92 101 110 111 114 115 119 123 142 148 159 162]\n",
      "[ 13  14  23  25  30  35  51  60  63  67  70  73  78  81  85  91  95  96\n",
      "  99 102 116 125 127 129 131 133 135 137 139 140 143 146 149]\n",
      "[  0   1   6   7  15  19  21  24  33  36  42  46  53  59  64  84  88  89\n",
      "  90  97  98 103 106 109 117 124 134 136 141 154 155 160 163]\n",
      "[  2   3   5  16  17  20  31  32  48  52  54  56  62  65  66  74  80  83\n",
      "  86  93  94 100 120 121 122 126 128 151 152 153 156 161 164]\n",
      "[ 18  22  28  29  38  39  40  43  44  45  58  61  71  77  79  82  87 104\n",
      " 105 107 108 112 113 118 130 132 138 144 145 147 150 157 158]\n"
     ]
    }
   ],
   "source": [
    "skfolds = StratifiedKFold(n_splits=5, shuffle=True, random_state=42)\n",
    "for train_index, cut_no_val  in skfolds.split(df[['cut_no']], df[['y']]):\n",
    "    # print(cut_no_train)\n",
    "    print(cut_no_val)"
   ]
  },
  {
   "cell_type": "code",
   "execution_count": null,
   "metadata": {},
   "outputs": [],
   "source": [
    "class TrainAnomalyClassifier:\n",
    "    \"\"\"\n",
    "    Class for setting up and training an anomaly detection classifier.\n",
    "    Utilizes a random search.\n",
    "    \"\"\""
   ]
  },
  {
   "cell_type": "code",
   "execution_count": 16,
   "metadata": {},
   "outputs": [
    {
     "data": {
      "text/plain": [
       "array([ 18,  22,  28,  29,  38,  39,  40,  43,  44,  45,  58,  61,  71,\n",
       "        77,  79,  82,  87, 104, 105, 107, 108, 112, 113, 118, 130, 132,\n",
       "       138, 144, 145, 147, 150, 157, 158])"
      ]
     },
     "execution_count": 16,
     "metadata": {},
     "output_type": "execute_result"
    }
   ],
   "source": [
    "cut_no_val"
   ]
  },
  {
   "cell_type": "code",
   "execution_count": 19,
   "metadata": {},
   "outputs": [
    {
     "data": {
      "text/html": [
       "<div>\n",
       "<style scoped>\n",
       "    .dataframe tbody tr th:only-of-type {\n",
       "        vertical-align: middle;\n",
       "    }\n",
       "\n",
       "    .dataframe tbody tr th {\n",
       "        vertical-align: top;\n",
       "    }\n",
       "\n",
       "    .dataframe thead th {\n",
       "        text-align: right;\n",
       "    }\n",
       "</style>\n",
       "<table border=\"1\" class=\"dataframe\">\n",
       "  <thead>\n",
       "    <tr style=\"text-align: right;\">\n",
       "      <th></th>\n",
       "      <th>cut_no</th>\n",
       "      <th>y</th>\n",
       "    </tr>\n",
       "  </thead>\n",
       "  <tbody>\n",
       "    <tr>\n",
       "      <th>1161</th>\n",
       "      <td>116</td>\n",
       "      <td>0</td>\n",
       "    </tr>\n",
       "    <tr>\n",
       "      <th>1461</th>\n",
       "      <td>11</td>\n",
       "      <td>0</td>\n",
       "    </tr>\n",
       "    <tr>\n",
       "      <th>1887</th>\n",
       "      <td>125</td>\n",
       "      <td>0</td>\n",
       "    </tr>\n",
       "    <tr>\n",
       "      <th>1953</th>\n",
       "      <td>126</td>\n",
       "      <td>0</td>\n",
       "    </tr>\n",
       "    <tr>\n",
       "      <th>2567</th>\n",
       "      <td>134</td>\n",
       "      <td>0</td>\n",
       "    </tr>\n",
       "    <tr>\n",
       "      <th>2642</th>\n",
       "      <td>135</td>\n",
       "      <td>0</td>\n",
       "    </tr>\n",
       "    <tr>\n",
       "      <th>2717</th>\n",
       "      <td>136</td>\n",
       "      <td>0</td>\n",
       "    </tr>\n",
       "    <tr>\n",
       "      <th>2942</th>\n",
       "      <td>139</td>\n",
       "      <td>0</td>\n",
       "    </tr>\n",
       "    <tr>\n",
       "      <th>3017</th>\n",
       "      <td>13</td>\n",
       "      <td>0</td>\n",
       "    </tr>\n",
       "    <tr>\n",
       "      <th>3087</th>\n",
       "      <td>140</td>\n",
       "      <td>1</td>\n",
       "    </tr>\n",
       "    <tr>\n",
       "      <th>3986</th>\n",
       "      <td>152</td>\n",
       "      <td>1</td>\n",
       "    </tr>\n",
       "    <tr>\n",
       "      <th>4185</th>\n",
       "      <td>155</td>\n",
       "      <td>0</td>\n",
       "    </tr>\n",
       "    <tr>\n",
       "      <th>4898</th>\n",
       "      <td>164</td>\n",
       "      <td>0</td>\n",
       "    </tr>\n",
       "    <tr>\n",
       "      <th>5306</th>\n",
       "      <td>1</td>\n",
       "      <td>0</td>\n",
       "    </tr>\n",
       "    <tr>\n",
       "      <th>5446</th>\n",
       "      <td>21</td>\n",
       "      <td>0</td>\n",
       "    </tr>\n",
       "    <tr>\n",
       "      <th>5589</th>\n",
       "      <td>24</td>\n",
       "      <td>0</td>\n",
       "    </tr>\n",
       "    <tr>\n",
       "      <th>5939</th>\n",
       "      <td>29</td>\n",
       "      <td>0</td>\n",
       "    </tr>\n",
       "    <tr>\n",
       "      <th>7199</th>\n",
       "      <td>44</td>\n",
       "      <td>0</td>\n",
       "    </tr>\n",
       "    <tr>\n",
       "      <th>7269</th>\n",
       "      <td>45</td>\n",
       "      <td>0</td>\n",
       "    </tr>\n",
       "    <tr>\n",
       "      <th>7409</th>\n",
       "      <td>47</td>\n",
       "      <td>0</td>\n",
       "    </tr>\n",
       "    <tr>\n",
       "      <th>7484</th>\n",
       "      <td>48</td>\n",
       "      <td>0</td>\n",
       "    </tr>\n",
       "    <tr>\n",
       "      <th>7779</th>\n",
       "      <td>51</td>\n",
       "      <td>0</td>\n",
       "    </tr>\n",
       "    <tr>\n",
       "      <th>7854</th>\n",
       "      <td>52</td>\n",
       "      <td>0</td>\n",
       "    </tr>\n",
       "    <tr>\n",
       "      <th>8198</th>\n",
       "      <td>57</td>\n",
       "      <td>0</td>\n",
       "    </tr>\n",
       "    <tr>\n",
       "      <th>9044</th>\n",
       "      <td>68</td>\n",
       "      <td>0</td>\n",
       "    </tr>\n",
       "    <tr>\n",
       "      <th>9194</th>\n",
       "      <td>6</td>\n",
       "      <td>0</td>\n",
       "    </tr>\n",
       "    <tr>\n",
       "      <th>9625</th>\n",
       "      <td>75</td>\n",
       "      <td>0</td>\n",
       "    </tr>\n",
       "    <tr>\n",
       "      <th>10070</th>\n",
       "      <td>80</td>\n",
       "      <td>0</td>\n",
       "    </tr>\n",
       "    <tr>\n",
       "      <th>10145</th>\n",
       "      <td>81</td>\n",
       "      <td>0</td>\n",
       "    </tr>\n",
       "    <tr>\n",
       "      <th>10295</th>\n",
       "      <td>83</td>\n",
       "      <td>0</td>\n",
       "    </tr>\n",
       "    <tr>\n",
       "      <th>10520</th>\n",
       "      <td>86</td>\n",
       "      <td>0</td>\n",
       "    </tr>\n",
       "    <tr>\n",
       "      <th>11040</th>\n",
       "      <td>92</td>\n",
       "      <td>0</td>\n",
       "    </tr>\n",
       "    <tr>\n",
       "      <th>11115</th>\n",
       "      <td>93</td>\n",
       "      <td>1</td>\n",
       "    </tr>\n",
       "  </tbody>\n",
       "</table>\n",
       "</div>"
      ],
      "text/plain": [
       "       cut_no  y\n",
       "1161      116  0\n",
       "1461       11  0\n",
       "1887      125  0\n",
       "1953      126  0\n",
       "2567      134  0\n",
       "2642      135  0\n",
       "2717      136  0\n",
       "2942      139  0\n",
       "3017       13  0\n",
       "3087      140  1\n",
       "3986      152  1\n",
       "4185      155  0\n",
       "4898      164  0\n",
       "5306        1  0\n",
       "5446       21  0\n",
       "5589       24  0\n",
       "5939       29  0\n",
       "7199       44  0\n",
       "7269       45  0\n",
       "7409       47  0\n",
       "7484       48  0\n",
       "7779       51  0\n",
       "7854       52  0\n",
       "8198       57  0\n",
       "9044       68  0\n",
       "9194        6  0\n",
       "9625       75  0\n",
       "10070      80  0\n",
       "10145      81  0\n",
       "10295      83  0\n",
       "10520      86  0\n",
       "11040      92  0\n",
       "11115      93  1"
      ]
     },
     "execution_count": 19,
     "metadata": {},
     "output_type": "execute_result"
    }
   ],
   "source": [
    "df.iloc[cut_no_val]"
   ]
  },
  {
   "cell_type": "code",
   "execution_count": null,
   "metadata": {},
   "outputs": [],
   "source": [
    "def k_fold_other_column()"
   ]
  }
 ],
 "metadata": {
  "interpreter": {
   "hash": "daff1afd4d675d5e247c0a95a5de0c03bd87d8f7edee7cb37c539016070f1c16"
  },
  "kernelspec": {
   "display_name": "Python 3.8.12 64-bit ('featstore': conda)",
   "language": "python",
   "name": "python3"
  },
  "language_info": {
   "codemirror_mode": {
    "name": "ipython",
    "version": 3
   },
   "file_extension": ".py",
   "mimetype": "text/x-python",
   "name": "python",
   "nbconvert_exporter": "python",
   "pygments_lexer": "ipython3",
   "version": "3.8.12"
  },
  "orig_nbformat": 4
 },
 "nbformat": 4,
 "nbformat_minor": 2
}
