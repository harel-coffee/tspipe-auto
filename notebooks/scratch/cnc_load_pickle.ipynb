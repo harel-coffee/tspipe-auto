{
 "cells": [
  {
   "cell_type": "code",
   "execution_count": 1,
   "metadata": {},
   "outputs": [],
   "source": [
    "from pathlib import Path\n",
    "import pickle\n",
    "import numpy as np\n",
    "import pandas as pd\n",
    "import os\n",
    "from multiprocessing import Pool\n",
    "\n",
    "%load_ext autoreload\n",
    "%autoreload 2"
   ]
  },
  {
   "cell_type": "code",
   "execution_count": 2,
   "metadata": {},
   "outputs": [
    {
     "name": "stdout",
     "output_type": "stream",
     "text": [
      "/home/tim/Documents/feat-store/data\n"
     ]
    }
   ],
   "source": [
    "path_data_dir = Path().cwd().parent.parent / \"data\"\n",
    "print(path_data_dir)\n",
    "\n",
    "folder_raw_data = path_data_dir / \"raw\"\n",
    "folder_raw_data_cnc = path_data_dir / \"raw/cnc\" "
   ]
  },
  {
   "cell_type": "code",
   "execution_count": 3,
   "metadata": {},
   "outputs": [],
   "source": [
    "files = os.listdir(folder_raw_data_cnc)\n",
    "file_list = [\n",
    "    Path(folder_raw_data_cnc) / filename\n",
    "    for filename in files\n",
    "    if filename.endswith(\".pickle\")\n",
    "]"
   ]
  },
  {
   "cell_type": "code",
   "execution_count": 14,
   "metadata": {},
   "outputs": [],
   "source": [
    "col_selection = [\"tool_no\", \"current_main\", \"current_sub\"]\n",
    "\n",
    "def read_pickle(filename):\n",
    "    'converts a filename to a pandas dataframe'\n",
    "    df = pickle.load(open(filename, 'rb'))\n",
    "    id = filename.stem\n",
    "    df[\"id\"] = id\n",
    "    df['timestamp'] = id.split(\"_\")[0]\n",
    "    df['index_no'] = id.split(\"_\")[-1]\n",
    "    \n",
    "    return df[[\"id\", \"timestamp\", \"index_no\"] + col_selection]\n",
    "    \n",
    "\n",
    "def main(folder_interim_data):\n",
    "    \"\"\"Runs data processing scripts to turn raw data from (../raw) into\n",
    "    cleaned data ready to be analyzed (saved in ../processed).\n",
    "    \"\"\"\n",
    "\n",
    "    # get a list of file names\n",
    "    files = os.listdir(folder_interim_data)\n",
    "    file_list = [\n",
    "        Path(folder_interim_data) / filename\n",
    "        for filename in files\n",
    "        if filename.endswith(\".pickle\")\n",
    "    ]\n",
    "\n",
    "    # set up your pool\n",
    "    with Pool(processes=2) as pool:  # or whatever your hardware can support\n",
    "\n",
    "        # have your pool map the file names to dataframes\n",
    "        df_list = pool.map(read_pickle, file_list)\n",
    "\n",
    "        # reduce the list of dataframes to a single dataframe\n",
    "        combined_df = pd.concat(df_list, ignore_index=True)\n",
    "\n",
    "        return combined_df"
   ]
  },
  {
   "cell_type": "code",
   "execution_count": 60,
   "metadata": {},
   "outputs": [
    {
     "name": "stdout",
     "output_type": "stream",
     "text": [
      "Final df shape: (38416, 6)\n"
     ]
    }
   ],
   "source": [
    "if __name__ == \"__main__\":\n",
    "    df = main(folder_raw_data_cnc)\n",
    "    print(\"Final df shape:\", df.shape)"
   ]
  },
  {
   "cell_type": "code",
   "execution_count": 61,
   "metadata": {},
   "outputs": [
    {
     "data": {
      "text/html": [
       "<div>\n",
       "<style scoped>\n",
       "    .dataframe tbody tr th:only-of-type {\n",
       "        vertical-align: middle;\n",
       "    }\n",
       "\n",
       "    .dataframe tbody tr th {\n",
       "        vertical-align: top;\n",
       "    }\n",
       "\n",
       "    .dataframe thead th {\n",
       "        text-align: right;\n",
       "    }\n",
       "</style>\n",
       "<table border=\"1\" class=\"dataframe\">\n",
       "  <thead>\n",
       "    <tr style=\"text-align: right;\">\n",
       "      <th></th>\n",
       "      <th>id</th>\n",
       "      <th>timestamp</th>\n",
       "      <th>index_no</th>\n",
       "      <th>tool_no</th>\n",
       "      <th>current_main</th>\n",
       "      <th>current_sub</th>\n",
       "    </tr>\n",
       "  </thead>\n",
       "  <tbody>\n",
       "    <tr>\n",
       "      <th>0</th>\n",
       "      <td>1540309555_54_5</td>\n",
       "      <td>1540309555</td>\n",
       "      <td>5</td>\n",
       "      <td>54</td>\n",
       "      <td>1</td>\n",
       "      <td>825</td>\n",
       "    </tr>\n",
       "    <tr>\n",
       "      <th>1</th>\n",
       "      <td>1540309555_54_5</td>\n",
       "      <td>1540309555</td>\n",
       "      <td>5</td>\n",
       "      <td>54</td>\n",
       "      <td>3</td>\n",
       "      <td>806</td>\n",
       "    </tr>\n",
       "    <tr>\n",
       "      <th>2</th>\n",
       "      <td>1540309555_54_5</td>\n",
       "      <td>1540309555</td>\n",
       "      <td>5</td>\n",
       "      <td>54</td>\n",
       "      <td>1</td>\n",
       "      <td>802</td>\n",
       "    </tr>\n",
       "    <tr>\n",
       "      <th>3</th>\n",
       "      <td>1540309555_54_5</td>\n",
       "      <td>1540309555</td>\n",
       "      <td>5</td>\n",
       "      <td>54</td>\n",
       "      <td>2</td>\n",
       "      <td>759</td>\n",
       "    </tr>\n",
       "    <tr>\n",
       "      <th>4</th>\n",
       "      <td>1540309555_54_5</td>\n",
       "      <td>1540309555</td>\n",
       "      <td>5</td>\n",
       "      <td>54</td>\n",
       "      <td>2</td>\n",
       "      <td>718</td>\n",
       "    </tr>\n",
       "  </tbody>\n",
       "</table>\n",
       "</div>"
      ],
      "text/plain": [
       "                id   timestamp index_no  tool_no  current_main  current_sub\n",
       "0  1540309555_54_5  1540309555        5       54             1          825\n",
       "1  1540309555_54_5  1540309555        5       54             3          806\n",
       "2  1540309555_54_5  1540309555        5       54             1          802\n",
       "3  1540309555_54_5  1540309555        5       54             2          759\n",
       "4  1540309555_54_5  1540309555        5       54             2          718"
      ]
     },
     "execution_count": 61,
     "metadata": {},
     "output_type": "execute_result"
    }
   ],
   "source": [
    "df[\"timestamp\"] = df[\"timestamp\"].astype(int)\n",
    "df.head()"
   ]
  },
  {
   "cell_type": "code",
   "execution_count": 62,
   "metadata": {},
   "outputs": [
    {
     "data": {
      "text/html": [
       "<div>\n",
       "<style scoped>\n",
       "    .dataframe tbody tr th:only-of-type {\n",
       "        vertical-align: middle;\n",
       "    }\n",
       "\n",
       "    .dataframe tbody tr th {\n",
       "        vertical-align: top;\n",
       "    }\n",
       "\n",
       "    .dataframe thead th {\n",
       "        text-align: right;\n",
       "    }\n",
       "</style>\n",
       "<table border=\"1\" class=\"dataframe\">\n",
       "  <thead>\n",
       "    <tr style=\"text-align: right;\">\n",
       "      <th></th>\n",
       "      <th>unix_date</th>\n",
       "      <th>date</th>\n",
       "      <th>cut_dir</th>\n",
       "      <th>part</th>\n",
       "      <th>file_name</th>\n",
       "      <th>tools</th>\n",
       "      <th>len_cut</th>\n",
       "      <th>no_points</th>\n",
       "      <th>signals_names</th>\n",
       "      <th>failed</th>\n",
       "      <th>failed_tools</th>\n",
       "      <th>comment</th>\n",
       "    </tr>\n",
       "  </thead>\n",
       "  <tbody>\n",
       "    <tr>\n",
       "      <th>0</th>\n",
       "      <td>1540298755</td>\n",
       "      <td>2018-10-23 08:45</td>\n",
       "      <td>/home/tim/Documents/Checkfluid-Project/data/ra...</td>\n",
       "      <td>KS-NPC-6FF</td>\n",
       "      <td>Data_KS-NPC-6FF_0.mat</td>\n",
       "      <td>1 3 5 8 11 13 15 17 21 22 23 32 36 37 54 57</td>\n",
       "      <td>177.0</td>\n",
       "      <td>177000</td>\n",
       "      <td>current_main current_sub cut_signal error_x er...</td>\n",
       "      <td>0</td>\n",
       "      <td>NaN</td>\n",
       "      <td>NaN</td>\n",
       "    </tr>\n",
       "    <tr>\n",
       "      <th>1</th>\n",
       "      <td>1540298934</td>\n",
       "      <td>2018-10-23 08:48</td>\n",
       "      <td>/home/tim/Documents/Checkfluid-Project/data/ra...</td>\n",
       "      <td>KS-NPC-6FF</td>\n",
       "      <td>Data_KS-NPC-6FF_1.mat</td>\n",
       "      <td>1 3 5 8 11 13 15 17 21 22 23 32 36 37 54 57</td>\n",
       "      <td>177.0</td>\n",
       "      <td>177000</td>\n",
       "      <td>current_main current_sub cut_signal error_x er...</td>\n",
       "      <td>0</td>\n",
       "      <td>NaN</td>\n",
       "      <td>NaN</td>\n",
       "    </tr>\n",
       "    <tr>\n",
       "      <th>2</th>\n",
       "      <td>1540299114</td>\n",
       "      <td>2018-10-23 08:51</td>\n",
       "      <td>/home/tim/Documents/Checkfluid-Project/data/ra...</td>\n",
       "      <td>KS-NPC-6FF</td>\n",
       "      <td>Data_KS-NPC-6FF_2.mat</td>\n",
       "      <td>1 3 5 8 11 13 15 17 21 22 23 32 36 37 54 57</td>\n",
       "      <td>177.0</td>\n",
       "      <td>177000</td>\n",
       "      <td>current_main current_sub cut_signal error_x er...</td>\n",
       "      <td>0</td>\n",
       "      <td>NaN</td>\n",
       "      <td>NaN</td>\n",
       "    </tr>\n",
       "    <tr>\n",
       "      <th>3</th>\n",
       "      <td>1540299293</td>\n",
       "      <td>2018-10-23 08:54</td>\n",
       "      <td>/home/tim/Documents/Checkfluid-Project/data/ra...</td>\n",
       "      <td>KS-NPC-6FF</td>\n",
       "      <td>Data_KS-NPC-6FF_3.mat</td>\n",
       "      <td>1 3 5 8 11 13 15 17 21 22 23 32 36 37 54 57</td>\n",
       "      <td>177.0</td>\n",
       "      <td>177000</td>\n",
       "      <td>current_main current_sub cut_signal error_x er...</td>\n",
       "      <td>0</td>\n",
       "      <td>NaN</td>\n",
       "      <td>NaN</td>\n",
       "    </tr>\n",
       "    <tr>\n",
       "      <th>4</th>\n",
       "      <td>1540299472</td>\n",
       "      <td>2018-10-23 08:57</td>\n",
       "      <td>/home/tim/Documents/Checkfluid-Project/data/ra...</td>\n",
       "      <td>KS-NPC-6FF</td>\n",
       "      <td>Data_KS-NPC-6FF_4.mat</td>\n",
       "      <td>1 3 5 8 11 13 15 17 21 22 23 32 36 37 54 57</td>\n",
       "      <td>177.0</td>\n",
       "      <td>177000</td>\n",
       "      <td>current_main current_sub cut_signal error_x er...</td>\n",
       "      <td>0</td>\n",
       "      <td>NaN</td>\n",
       "      <td>NaN</td>\n",
       "    </tr>\n",
       "  </tbody>\n",
       "</table>\n",
       "</div>"
      ],
      "text/plain": [
       "    unix_date              date  \\\n",
       "0  1540298755  2018-10-23 08:45   \n",
       "1  1540298934  2018-10-23 08:48   \n",
       "2  1540299114  2018-10-23 08:51   \n",
       "3  1540299293  2018-10-23 08:54   \n",
       "4  1540299472  2018-10-23 08:57   \n",
       "\n",
       "                                             cut_dir        part  \\\n",
       "0  /home/tim/Documents/Checkfluid-Project/data/ra...  KS-NPC-6FF   \n",
       "1  /home/tim/Documents/Checkfluid-Project/data/ra...  KS-NPC-6FF   \n",
       "2  /home/tim/Documents/Checkfluid-Project/data/ra...  KS-NPC-6FF   \n",
       "3  /home/tim/Documents/Checkfluid-Project/data/ra...  KS-NPC-6FF   \n",
       "4  /home/tim/Documents/Checkfluid-Project/data/ra...  KS-NPC-6FF   \n",
       "\n",
       "               file_name                                         tools  \\\n",
       "0  Data_KS-NPC-6FF_0.mat  1 3 5 8 11 13 15 17 21 22 23 32 36 37 54 57    \n",
       "1  Data_KS-NPC-6FF_1.mat  1 3 5 8 11 13 15 17 21 22 23 32 36 37 54 57    \n",
       "2  Data_KS-NPC-6FF_2.mat  1 3 5 8 11 13 15 17 21 22 23 32 36 37 54 57    \n",
       "3  Data_KS-NPC-6FF_3.mat  1 3 5 8 11 13 15 17 21 22 23 32 36 37 54 57    \n",
       "4  Data_KS-NPC-6FF_4.mat  1 3 5 8 11 13 15 17 21 22 23 32 36 37 54 57    \n",
       "\n",
       "   len_cut  no_points                                      signals_names  \\\n",
       "0    177.0     177000  current_main current_sub cut_signal error_x er...   \n",
       "1    177.0     177000  current_main current_sub cut_signal error_x er...   \n",
       "2    177.0     177000  current_main current_sub cut_signal error_x er...   \n",
       "3    177.0     177000  current_main current_sub cut_signal error_x er...   \n",
       "4    177.0     177000  current_main current_sub cut_signal error_x er...   \n",
       "\n",
       "   failed failed_tools comment  \n",
       "0       0          NaN     NaN  \n",
       "1       0          NaN     NaN  \n",
       "2       0          NaN     NaN  \n",
       "3       0          NaN     NaN  \n",
       "4       0          NaN     NaN  "
      ]
     },
     "execution_count": 62,
     "metadata": {},
     "output_type": "execute_result"
    }
   ],
   "source": [
    "# load high-level labels\n",
    "df_labels = pd.read_csv(path_data_dir / \"processed/cnc/high_level_labels_MASTER_update2020-08-06_new-jan-may-data.csv\")\n",
    "\n",
    "# replace all NaNs in \"failed\" column with 0\n",
    "df_labels.loc[df_labels[\"failed\"].isna(), \"failed\"] = 0\n",
    "\n",
    "# change dtype of \"failed\" column to int\n",
    "df_labels[\"failed\"] = df_labels[\"failed\"].astype(int)\n",
    "df_labels.head()"
   ]
  },
  {
   "cell_type": "code",
   "execution_count": 63,
   "metadata": {},
   "outputs": [
    {
     "data": {
      "text/html": [
       "<div>\n",
       "<style scoped>\n",
       "    .dataframe tbody tr th:only-of-type {\n",
       "        vertical-align: middle;\n",
       "    }\n",
       "\n",
       "    .dataframe tbody tr th {\n",
       "        vertical-align: top;\n",
       "    }\n",
       "\n",
       "    .dataframe thead th {\n",
       "        text-align: right;\n",
       "    }\n",
       "</style>\n",
       "<table border=\"1\" class=\"dataframe\">\n",
       "  <thead>\n",
       "    <tr style=\"text-align: right;\">\n",
       "      <th></th>\n",
       "      <th>id</th>\n",
       "      <th>timestamp</th>\n",
       "      <th>index_no</th>\n",
       "      <th>tool_no</th>\n",
       "      <th>current_main</th>\n",
       "      <th>current_sub</th>\n",
       "      <th>unix_date</th>\n",
       "      <th>date</th>\n",
       "      <th>cut_dir</th>\n",
       "      <th>part</th>\n",
       "      <th>file_name</th>\n",
       "      <th>tools</th>\n",
       "      <th>len_cut</th>\n",
       "      <th>no_points</th>\n",
       "      <th>signals_names</th>\n",
       "      <th>failed</th>\n",
       "      <th>failed_tools</th>\n",
       "      <th>comment</th>\n",
       "    </tr>\n",
       "  </thead>\n",
       "  <tbody>\n",
       "  </tbody>\n",
       "</table>\n",
       "</div>"
      ],
      "text/plain": [
       "Empty DataFrame\n",
       "Columns: [id, timestamp, index_no, tool_no, current_main, current_sub, unix_date, date, cut_dir, part, file_name, tools, len_cut, no_points, signals_names, failed, failed_tools, comment]\n",
       "Index: []"
      ]
     },
     "execution_count": 63,
     "metadata": {},
     "output_type": "execute_result"
    }
   ],
   "source": [
    "df = pd.merge(df, df_labels, left_on=\"timestamp\", right_on=\"unix_date\", how=\"inner\")\n",
    "df.head()"
   ]
  },
  {
   "cell_type": "code",
   "execution_count": 43,
   "metadata": {},
   "outputs": [
    {
     "data": {
      "text/html": [
       "<div>\n",
       "<style scoped>\n",
       "    .dataframe tbody tr th:only-of-type {\n",
       "        vertical-align: middle;\n",
       "    }\n",
       "\n",
       "    .dataframe tbody tr th {\n",
       "        vertical-align: top;\n",
       "    }\n",
       "\n",
       "    .dataframe thead th {\n",
       "        text-align: right;\n",
       "    }\n",
       "</style>\n",
       "<table border=\"1\" class=\"dataframe\">\n",
       "  <thead>\n",
       "    <tr style=\"text-align: right;\">\n",
       "      <th></th>\n",
       "      <th>unix_date</th>\n",
       "      <th>date</th>\n",
       "      <th>cut_dir</th>\n",
       "      <th>part</th>\n",
       "      <th>file_name</th>\n",
       "      <th>tools</th>\n",
       "      <th>len_cut</th>\n",
       "      <th>no_points</th>\n",
       "      <th>signals_names</th>\n",
       "      <th>failed</th>\n",
       "      <th>failed_tools</th>\n",
       "      <th>comment</th>\n",
       "    </tr>\n",
       "  </thead>\n",
       "  <tbody>\n",
       "    <tr>\n",
       "      <th>5588</th>\n",
       "      <td>1574901434</td>\n",
       "      <td>2019-11-27 19:37</td>\n",
       "      <td>/home/tim/Documents/Checkfluid-Project/data/ra...</td>\n",
       "      <td>191128</td>\n",
       "      <td>metal_1000hz$001.csv</td>\n",
       "      <td>1 2 3 6 8 11 13 17 22 23 32 36 37 51 54 57</td>\n",
       "      <td>352.0</td>\n",
       "      <td>352000</td>\n",
       "      <td>current_main current_sub cut_signal error_z sp...</td>\n",
       "      <td>1</td>\n",
       "      <td>[54, 8]</td>\n",
       "      <td>NaN</td>\n",
       "    </tr>\n",
       "    <tr>\n",
       "      <th>5589</th>\n",
       "      <td>1574901790</td>\n",
       "      <td>2019-11-27 19:43</td>\n",
       "      <td>/home/tim/Documents/Checkfluid-Project/data/ra...</td>\n",
       "      <td>191128</td>\n",
       "      <td>metal_1000hz$002.csv</td>\n",
       "      <td>1 2 3 6 8 11 13 17 22 23 32 36 37 51 54 57</td>\n",
       "      <td>352.0</td>\n",
       "      <td>352000</td>\n",
       "      <td>current_main current_sub cut_signal error_z sp...</td>\n",
       "      <td>1</td>\n",
       "      <td>[54, 8]</td>\n",
       "      <td>“7:50 PM tool 54, 8 wear”</td>\n",
       "    </tr>\n",
       "    <tr>\n",
       "      <th>5590</th>\n",
       "      <td>1574902144</td>\n",
       "      <td>2019-11-27 19:49</td>\n",
       "      <td>/home/tim/Documents/Checkfluid-Project/data/ra...</td>\n",
       "      <td>191128</td>\n",
       "      <td>metal_1000hz$003.csv</td>\n",
       "      <td>2 6 8 22 32 36 37 51 54 57</td>\n",
       "      <td>352.0</td>\n",
       "      <td>352000</td>\n",
       "      <td>current_main current_sub cut_signal error_z sp...</td>\n",
       "      <td>2</td>\n",
       "      <td>[54, 8]</td>\n",
       "      <td>NaN</td>\n",
       "    </tr>\n",
       "    <tr>\n",
       "      <th>5591</th>\n",
       "      <td>1574902862</td>\n",
       "      <td>2019-11-27 20:01</td>\n",
       "      <td>/home/tim/Documents/Checkfluid-Project/data/ra...</td>\n",
       "      <td>191128</td>\n",
       "      <td>metal_1000hz$004.csv</td>\n",
       "      <td>1 2 3 6 8 11 13 22 32 36 37 51 54 57</td>\n",
       "      <td>352.0</td>\n",
       "      <td>352000</td>\n",
       "      <td>current_main current_sub cut_signal error_z sp...</td>\n",
       "      <td>2</td>\n",
       "      <td>[54, 8]</td>\n",
       "      <td>NaN</td>\n",
       "    </tr>\n",
       "    <tr>\n",
       "      <th>5592</th>\n",
       "      <td>1574903330</td>\n",
       "      <td>2019-11-27 20:08</td>\n",
       "      <td>/home/tim/Documents/Checkfluid-Project/data/ra...</td>\n",
       "      <td>191128</td>\n",
       "      <td>metal_1000hz$005.csv</td>\n",
       "      <td>2 6 8 22 32 36 54 57</td>\n",
       "      <td>352.0</td>\n",
       "      <td>352000</td>\n",
       "      <td>current_main current_sub cut_signal error_z sp...</td>\n",
       "      <td>2</td>\n",
       "      <td>[54, 8]</td>\n",
       "      <td>NaN</td>\n",
       "    </tr>\n",
       "  </tbody>\n",
       "</table>\n",
       "</div>"
      ],
      "text/plain": [
       "       unix_date              date  \\\n",
       "5588  1574901434  2019-11-27 19:37   \n",
       "5589  1574901790  2019-11-27 19:43   \n",
       "5590  1574902144  2019-11-27 19:49   \n",
       "5591  1574902862  2019-11-27 20:01   \n",
       "5592  1574903330  2019-11-27 20:08   \n",
       "\n",
       "                                                cut_dir    part  \\\n",
       "5588  /home/tim/Documents/Checkfluid-Project/data/ra...  191128   \n",
       "5589  /home/tim/Documents/Checkfluid-Project/data/ra...  191128   \n",
       "5590  /home/tim/Documents/Checkfluid-Project/data/ra...  191128   \n",
       "5591  /home/tim/Documents/Checkfluid-Project/data/ra...  191128   \n",
       "5592  /home/tim/Documents/Checkfluid-Project/data/ra...  191128   \n",
       "\n",
       "                 file_name                                        tools  \\\n",
       "5588  metal_1000hz$001.csv  1 2 3 6 8 11 13 17 22 23 32 36 37 51 54 57    \n",
       "5589  metal_1000hz$002.csv  1 2 3 6 8 11 13 17 22 23 32 36 37 51 54 57    \n",
       "5590  metal_1000hz$003.csv                  2 6 8 22 32 36 37 51 54 57    \n",
       "5591  metal_1000hz$004.csv        1 2 3 6 8 11 13 22 32 36 37 51 54 57    \n",
       "5592  metal_1000hz$005.csv                        2 6 8 22 32 36 54 57    \n",
       "\n",
       "      len_cut  no_points                                      signals_names  \\\n",
       "5588    352.0     352000  current_main current_sub cut_signal error_z sp...   \n",
       "5589    352.0     352000  current_main current_sub cut_signal error_z sp...   \n",
       "5590    352.0     352000  current_main current_sub cut_signal error_z sp...   \n",
       "5591    352.0     352000  current_main current_sub cut_signal error_z sp...   \n",
       "5592    352.0     352000  current_main current_sub cut_signal error_z sp...   \n",
       "\n",
       "      failed failed_tools                    comment  \n",
       "5588       1      [54, 8]                        NaN  \n",
       "5589       1      [54, 8]  “7:50 PM tool 54, 8 wear”  \n",
       "5590       2      [54, 8]                        NaN  \n",
       "5591       2      [54, 8]                        NaN  \n",
       "5592       2      [54, 8]                        NaN  "
      ]
     },
     "execution_count": 43,
     "metadata": {},
     "output_type": "execute_result"
    }
   ],
   "source": [
    "# select all rows in df_labels where \"failed_tools\" is not empty\n",
    "df_labels_failed = df_labels[df_labels[\"failed_tools\"].notna()].copy()\n",
    "\n",
    "# convert each \"failed_tools\" string to a list\n",
    "df_labels_failed[\"failed_tools\"] = df_labels_failed[\"failed_tools\"].copy().apply(lambda x: x.split(\" \"))\n",
    "\n",
    "df_labels_failed.tail()"
   ]
  },
  {
   "cell_type": "markdown",
   "metadata": {},
   "source": [
    "# Fix the Datetime"
   ]
  },
  {
   "cell_type": "code",
   "execution_count": 69,
   "metadata": {},
   "outputs": [
    {
     "data": {
      "text/plain": [
       "1654041803"
      ]
     },
     "execution_count": 69,
     "metadata": {},
     "output_type": "execute_result"
    }
   ],
   "source": [
    "file = \"Data_KS-NPC-6FF_0.mat\"\n",
    "\n",
    "# get the local modified time of the file\n",
    "unixtime = int(os.path.getctime(file))\n",
    "unixtime"
   ]
  },
  {
   "cell_type": "code",
   "execution_count": 70,
   "metadata": {},
   "outputs": [
    {
     "data": {
      "text/plain": [
       "'2022-05-31 17:03:23'"
      ]
     },
     "execution_count": 70,
     "metadata": {},
     "output_type": "execute_result"
    }
   ],
   "source": [
    "# convert unixtime to readable date\n",
    "from datetime import datetime\n",
    "datetime.fromtimestamp(unixtime).strftime('%Y-%m-%d %H:%M:%S')\n"
   ]
  },
  {
   "cell_type": "code",
   "execution_count": 66,
   "metadata": {},
   "outputs": [
    {
     "data": {
      "text/plain": [
       "1549490402"
      ]
     },
     "execution_count": 66,
     "metadata": {},
     "output_type": "execute_result"
    }
   ],
   "source": [
    "# convert the local modified time to EST\n",
    "\n",
    "unixtime_est"
   ]
  },
  {
   "cell_type": "markdown",
   "metadata": {},
   "source": [
    "# Scratch"
   ]
  },
  {
   "cell_type": "code",
   "execution_count": 16,
   "metadata": {},
   "outputs": [
    {
     "data": {
      "text/html": [
       "<div>\n",
       "<style scoped>\n",
       "    .dataframe tbody tr th:only-of-type {\n",
       "        vertical-align: middle;\n",
       "    }\n",
       "\n",
       "    .dataframe tbody tr th {\n",
       "        vertical-align: top;\n",
       "    }\n",
       "\n",
       "    .dataframe thead th {\n",
       "        text-align: right;\n",
       "    }\n",
       "</style>\n",
       "<table border=\"1\" class=\"dataframe\">\n",
       "  <thead>\n",
       "    <tr style=\"text-align: right;\">\n",
       "      <th></th>\n",
       "      <th>cut_signal</th>\n",
       "      <th>current_main</th>\n",
       "      <th>current_sub</th>\n",
       "      <th>power_main</th>\n",
       "      <th>power_sub</th>\n",
       "      <th>error_x</th>\n",
       "      <th>error_z</th>\n",
       "      <th>speed_main</th>\n",
       "      <th>speed_sub</th>\n",
       "      <th>tool_no</th>\n",
       "    </tr>\n",
       "  </thead>\n",
       "  <tbody>\n",
       "    <tr>\n",
       "      <th>27432</th>\n",
       "      <td>1</td>\n",
       "      <td>1</td>\n",
       "      <td>825</td>\n",
       "      <td>0.007324</td>\n",
       "      <td>2.659912</td>\n",
       "      <td>0.0005</td>\n",
       "      <td>-0.385</td>\n",
       "      <td>0</td>\n",
       "      <td>-5002</td>\n",
       "      <td>54</td>\n",
       "    </tr>\n",
       "    <tr>\n",
       "      <th>27433</th>\n",
       "      <td>1</td>\n",
       "      <td>3</td>\n",
       "      <td>806</td>\n",
       "      <td>0.009766</td>\n",
       "      <td>2.680664</td>\n",
       "      <td>0.0005</td>\n",
       "      <td>-0.374</td>\n",
       "      <td>0</td>\n",
       "      <td>-5001</td>\n",
       "      <td>54</td>\n",
       "    </tr>\n",
       "    <tr>\n",
       "      <th>27434</th>\n",
       "      <td>1</td>\n",
       "      <td>1</td>\n",
       "      <td>802</td>\n",
       "      <td>0.020752</td>\n",
       "      <td>2.801514</td>\n",
       "      <td>0.0005</td>\n",
       "      <td>-0.364</td>\n",
       "      <td>0</td>\n",
       "      <td>-4998</td>\n",
       "      <td>54</td>\n",
       "    </tr>\n",
       "    <tr>\n",
       "      <th>27435</th>\n",
       "      <td>1</td>\n",
       "      <td>2</td>\n",
       "      <td>759</td>\n",
       "      <td>0.024414</td>\n",
       "      <td>2.807617</td>\n",
       "      <td>0.0005</td>\n",
       "      <td>-0.353</td>\n",
       "      <td>0</td>\n",
       "      <td>-5001</td>\n",
       "      <td>54</td>\n",
       "    </tr>\n",
       "    <tr>\n",
       "      <th>27436</th>\n",
       "      <td>1</td>\n",
       "      <td>2</td>\n",
       "      <td>718</td>\n",
       "      <td>0.024414</td>\n",
       "      <td>2.827148</td>\n",
       "      <td>0.0005</td>\n",
       "      <td>-0.343</td>\n",
       "      <td>0</td>\n",
       "      <td>-5000</td>\n",
       "      <td>54</td>\n",
       "    </tr>\n",
       "  </tbody>\n",
       "</table>\n",
       "</div>"
      ],
      "text/plain": [
       "       cut_signal  current_main  current_sub  power_main  power_sub  error_x  \\\n",
       "27432           1             1          825    0.007324   2.659912   0.0005   \n",
       "27433           1             3          806    0.009766   2.680664   0.0005   \n",
       "27434           1             1          802    0.020752   2.801514   0.0005   \n",
       "27435           1             2          759    0.024414   2.807617   0.0005   \n",
       "27436           1             2          718    0.024414   2.827148   0.0005   \n",
       "\n",
       "       error_z  speed_main  speed_sub  tool_no  \n",
       "27432   -0.385           0      -5002       54  \n",
       "27433   -0.374           0      -5001       54  \n",
       "27434   -0.364           0      -4998       54  \n",
       "27435   -0.353           0      -5001       54  \n",
       "27436   -0.343           0      -5000       54  "
      ]
     },
     "execution_count": 16,
     "metadata": {},
     "output_type": "execute_result"
    }
   ],
   "source": [
    "df = read_pickle(file_list[0])\n",
    "df.head()"
   ]
  },
  {
   "cell_type": "code",
   "execution_count": 17,
   "metadata": {},
   "outputs": [
    {
     "data": {
      "text/plain": [
       "'1540309555_54_5'"
      ]
     },
     "execution_count": 17,
     "metadata": {},
     "output_type": "execute_result"
    }
   ],
   "source": [
    "file_list[0].stem"
   ]
  },
  {
   "cell_type": "code",
   "execution_count": 15,
   "metadata": {},
   "outputs": [
    {
     "data": {
      "text/plain": [
       "array([1], dtype=int16)"
      ]
     },
     "execution_count": 15,
     "metadata": {},
     "output_type": "execute_result"
    }
   ],
   "source": [
    "df['cut_signal'].unique()"
   ]
  },
  {
   "cell_type": "code",
   "execution_count": null,
   "metadata": {},
   "outputs": [],
   "source": []
  }
 ],
 "metadata": {
  "interpreter": {
   "hash": "daff1afd4d675d5e247c0a95a5de0c03bd87d8f7edee7cb37c539016070f1c16"
  },
  "kernelspec": {
   "display_name": "Python 3.8.12 ('featstore')",
   "language": "python",
   "name": "python3"
  },
  "language_info": {
   "codemirror_mode": {
    "name": "ipython",
    "version": 3
   },
   "file_extension": ".py",
   "mimetype": "text/x-python",
   "name": "python",
   "nbconvert_exporter": "python",
   "pygments_lexer": "ipython3",
   "version": "3.8.12"
  },
  "orig_nbformat": 4
 },
 "nbformat": 4,
 "nbformat_minor": 2
}
