{
 "cells": [
  {
   "cell_type": "code",
   "execution_count": 1,
   "metadata": {},
   "outputs": [],
   "source": [
    "from pathlib import Path\n",
    "import pickle\n",
    "import numpy as np\n",
    "import pandas as pd\n",
    "import os\n",
    "from multiprocessing import Pool\n",
    "\n",
    "%load_ext autoreload\n",
    "%autoreload 2"
   ]
  },
  {
   "cell_type": "code",
   "execution_count": 2,
   "metadata": {},
   "outputs": [
    {
     "name": "stdout",
     "output_type": "stream",
     "text": [
      "/home/tim/Documents/feat-store/data\n"
     ]
    }
   ],
   "source": [
    "path_data_dir = Path().cwd().parent.parent / \"data\"\n",
    "print(path_data_dir)\n",
    "\n",
    "folder_raw_data = path_data_dir / \"raw\"\n",
    "folder_raw_data_cnc = path_data_dir / \"raw/cnc\" "
   ]
  },
  {
   "cell_type": "code",
   "execution_count": 3,
   "metadata": {},
   "outputs": [],
   "source": [
    "files = os.listdir(folder_raw_data_cnc)\n",
    "file_list = [\n",
    "    Path(folder_raw_data_cnc) / filename\n",
    "    for filename in files\n",
    "    if filename.endswith(\".pickle\")\n",
    "]"
   ]
  },
  {
   "cell_type": "code",
   "execution_count": 6,
   "metadata": {},
   "outputs": [],
   "source": [
    "col_selection = [\"current_main\", \"current_sub\", \"tool_no\"]\n",
    "\n",
    "def read_pickle(filename):\n",
    "    'converts a filename to a pandas dataframe'\n",
    "    df = pickle.load(open(filename, 'rb'))\n",
    "    id = filename.stem\n",
    "    df[\"id\"] = id\n",
    "    df['timestamp'] = id.split(\"_\")[0]\n",
    "    df['index_no'] = id.split(\"_\")[-1]\n",
    "    \n",
    "    return df[col_selection]\n",
    "    \n",
    "\n",
    "def main(folder_interim_data):\n",
    "    \"\"\"Runs data processing scripts to turn raw data from (../raw) into\n",
    "    cleaned data ready to be analyzed (saved in ../processed).\n",
    "    \"\"\"\n",
    "\n",
    "    # get a list of file names\n",
    "    files = os.listdir(folder_interim_data)\n",
    "    file_list = [\n",
    "        Path(folder_interim_data) / filename\n",
    "        for filename in files\n",
    "        if filename.endswith(\".pickle\")\n",
    "    ]\n",
    "\n",
    "    # set up your pool\n",
    "    with Pool(processes=2) as pool:  # or whatever your hardware can support\n",
    "\n",
    "        # have your pool map the file names to dataframes\n",
    "        df_list = pool.map(read_pickle, file_list)\n",
    "\n",
    "        # reduce the list of dataframes to a single dataframe\n",
    "        combined_df = pd.concat(df_list, ignore_index=True)\n",
    "\n",
    "        return combined_df"
   ]
  },
  {
   "cell_type": "code",
   "execution_count": 7,
   "metadata": {},
   "outputs": [
    {
     "name": "stdout",
     "output_type": "stream",
     "text": [
      "Final df shape: (38416, 3)\n"
     ]
    }
   ],
   "source": [
    "if __name__ == \"__main__\":\n",
    "    df = main(folder_raw_data_cnc)\n",
    "    print(\"Final df shape:\", df.shape)"
   ]
  },
  {
   "cell_type": "code",
   "execution_count": 8,
   "metadata": {},
   "outputs": [
    {
     "data": {
      "text/html": [
       "<div>\n",
       "<style scoped>\n",
       "    .dataframe tbody tr th:only-of-type {\n",
       "        vertical-align: middle;\n",
       "    }\n",
       "\n",
       "    .dataframe tbody tr th {\n",
       "        vertical-align: top;\n",
       "    }\n",
       "\n",
       "    .dataframe thead th {\n",
       "        text-align: right;\n",
       "    }\n",
       "</style>\n",
       "<table border=\"1\" class=\"dataframe\">\n",
       "  <thead>\n",
       "    <tr style=\"text-align: right;\">\n",
       "      <th></th>\n",
       "      <th>current_main</th>\n",
       "      <th>current_sub</th>\n",
       "      <th>tool_no</th>\n",
       "    </tr>\n",
       "  </thead>\n",
       "  <tbody>\n",
       "    <tr>\n",
       "      <th>0</th>\n",
       "      <td>1</td>\n",
       "      <td>825</td>\n",
       "      <td>54</td>\n",
       "    </tr>\n",
       "    <tr>\n",
       "      <th>1</th>\n",
       "      <td>3</td>\n",
       "      <td>806</td>\n",
       "      <td>54</td>\n",
       "    </tr>\n",
       "    <tr>\n",
       "      <th>2</th>\n",
       "      <td>1</td>\n",
       "      <td>802</td>\n",
       "      <td>54</td>\n",
       "    </tr>\n",
       "    <tr>\n",
       "      <th>3</th>\n",
       "      <td>2</td>\n",
       "      <td>759</td>\n",
       "      <td>54</td>\n",
       "    </tr>\n",
       "    <tr>\n",
       "      <th>4</th>\n",
       "      <td>2</td>\n",
       "      <td>718</td>\n",
       "      <td>54</td>\n",
       "    </tr>\n",
       "  </tbody>\n",
       "</table>\n",
       "</div>"
      ],
      "text/plain": [
       "   current_main  current_sub  tool_no\n",
       "0             1          825       54\n",
       "1             3          806       54\n",
       "2             1          802       54\n",
       "3             2          759       54\n",
       "4             2          718       54"
      ]
     },
     "execution_count": 8,
     "metadata": {},
     "output_type": "execute_result"
    }
   ],
   "source": [
    "df.head()"
   ]
  },
  {
   "cell_type": "code",
   "execution_count": 16,
   "metadata": {},
   "outputs": [
    {
     "data": {
      "text/html": [
       "<div>\n",
       "<style scoped>\n",
       "    .dataframe tbody tr th:only-of-type {\n",
       "        vertical-align: middle;\n",
       "    }\n",
       "\n",
       "    .dataframe tbody tr th {\n",
       "        vertical-align: top;\n",
       "    }\n",
       "\n",
       "    .dataframe thead th {\n",
       "        text-align: right;\n",
       "    }\n",
       "</style>\n",
       "<table border=\"1\" class=\"dataframe\">\n",
       "  <thead>\n",
       "    <tr style=\"text-align: right;\">\n",
       "      <th></th>\n",
       "      <th>cut_signal</th>\n",
       "      <th>current_main</th>\n",
       "      <th>current_sub</th>\n",
       "      <th>power_main</th>\n",
       "      <th>power_sub</th>\n",
       "      <th>error_x</th>\n",
       "      <th>error_z</th>\n",
       "      <th>speed_main</th>\n",
       "      <th>speed_sub</th>\n",
       "      <th>tool_no</th>\n",
       "    </tr>\n",
       "  </thead>\n",
       "  <tbody>\n",
       "    <tr>\n",
       "      <th>27432</th>\n",
       "      <td>1</td>\n",
       "      <td>1</td>\n",
       "      <td>825</td>\n",
       "      <td>0.007324</td>\n",
       "      <td>2.659912</td>\n",
       "      <td>0.0005</td>\n",
       "      <td>-0.385</td>\n",
       "      <td>0</td>\n",
       "      <td>-5002</td>\n",
       "      <td>54</td>\n",
       "    </tr>\n",
       "    <tr>\n",
       "      <th>27433</th>\n",
       "      <td>1</td>\n",
       "      <td>3</td>\n",
       "      <td>806</td>\n",
       "      <td>0.009766</td>\n",
       "      <td>2.680664</td>\n",
       "      <td>0.0005</td>\n",
       "      <td>-0.374</td>\n",
       "      <td>0</td>\n",
       "      <td>-5001</td>\n",
       "      <td>54</td>\n",
       "    </tr>\n",
       "    <tr>\n",
       "      <th>27434</th>\n",
       "      <td>1</td>\n",
       "      <td>1</td>\n",
       "      <td>802</td>\n",
       "      <td>0.020752</td>\n",
       "      <td>2.801514</td>\n",
       "      <td>0.0005</td>\n",
       "      <td>-0.364</td>\n",
       "      <td>0</td>\n",
       "      <td>-4998</td>\n",
       "      <td>54</td>\n",
       "    </tr>\n",
       "    <tr>\n",
       "      <th>27435</th>\n",
       "      <td>1</td>\n",
       "      <td>2</td>\n",
       "      <td>759</td>\n",
       "      <td>0.024414</td>\n",
       "      <td>2.807617</td>\n",
       "      <td>0.0005</td>\n",
       "      <td>-0.353</td>\n",
       "      <td>0</td>\n",
       "      <td>-5001</td>\n",
       "      <td>54</td>\n",
       "    </tr>\n",
       "    <tr>\n",
       "      <th>27436</th>\n",
       "      <td>1</td>\n",
       "      <td>2</td>\n",
       "      <td>718</td>\n",
       "      <td>0.024414</td>\n",
       "      <td>2.827148</td>\n",
       "      <td>0.0005</td>\n",
       "      <td>-0.343</td>\n",
       "      <td>0</td>\n",
       "      <td>-5000</td>\n",
       "      <td>54</td>\n",
       "    </tr>\n",
       "  </tbody>\n",
       "</table>\n",
       "</div>"
      ],
      "text/plain": [
       "       cut_signal  current_main  current_sub  power_main  power_sub  error_x  \\\n",
       "27432           1             1          825    0.007324   2.659912   0.0005   \n",
       "27433           1             3          806    0.009766   2.680664   0.0005   \n",
       "27434           1             1          802    0.020752   2.801514   0.0005   \n",
       "27435           1             2          759    0.024414   2.807617   0.0005   \n",
       "27436           1             2          718    0.024414   2.827148   0.0005   \n",
       "\n",
       "       error_z  speed_main  speed_sub  tool_no  \n",
       "27432   -0.385           0      -5002       54  \n",
       "27433   -0.374           0      -5001       54  \n",
       "27434   -0.364           0      -4998       54  \n",
       "27435   -0.353           0      -5001       54  \n",
       "27436   -0.343           0      -5000       54  "
      ]
     },
     "execution_count": 16,
     "metadata": {},
     "output_type": "execute_result"
    }
   ],
   "source": [
    "df = read_pickle(file_list[0])\n",
    "df.head()"
   ]
  },
  {
   "cell_type": "code",
   "execution_count": 17,
   "metadata": {},
   "outputs": [
    {
     "data": {
      "text/plain": [
       "'1540309555_54_5'"
      ]
     },
     "execution_count": 17,
     "metadata": {},
     "output_type": "execute_result"
    }
   ],
   "source": [
    "file_list[0].stem"
   ]
  },
  {
   "cell_type": "code",
   "execution_count": 15,
   "metadata": {},
   "outputs": [
    {
     "data": {
      "text/plain": [
       "array([1], dtype=int16)"
      ]
     },
     "execution_count": 15,
     "metadata": {},
     "output_type": "execute_result"
    }
   ],
   "source": [
    "df['cut_signal'].unique()"
   ]
  },
  {
   "cell_type": "code",
   "execution_count": null,
   "metadata": {},
   "outputs": [],
   "source": []
  }
 ],
 "metadata": {
  "interpreter": {
   "hash": "daff1afd4d675d5e247c0a95a5de0c03bd87d8f7edee7cb37c539016070f1c16"
  },
  "kernelspec": {
   "display_name": "Python 3.8.12 ('featstore')",
   "language": "python",
   "name": "python3"
  },
  "language_info": {
   "codemirror_mode": {
    "name": "ipython",
    "version": 3
   },
   "file_extension": ".py",
   "mimetype": "text/x-python",
   "name": "python",
   "nbconvert_exporter": "python",
   "pygments_lexer": "ipython3",
   "version": "3.8.12"
  },
  "orig_nbformat": 4
 },
 "nbformat": 4,
 "nbformat_minor": 2
}
