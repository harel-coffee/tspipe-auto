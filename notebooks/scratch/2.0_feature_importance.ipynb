{
 "cells": [
  {
   "cell_type": "code",
   "execution_count": 18,
   "metadata": {},
   "outputs": [
    {
     "data": {
      "text/plain": [
       "0.35666062386954556"
      ]
     },
     "execution_count": 18,
     "metadata": {},
     "output_type": "execute_result"
    }
   ],
   "source": [
    "from sklearn.datasets import load_diabetes\n",
    "from sklearn.model_selection import train_test_split\n",
    "from sklearn.linear_model import Ridge\n",
    "from sklearn.inspection import permutation_importance\n",
    "import numpy as np\n",
    "import pandas as pd\n",
    "diabetes = load_diabetes()\n",
    "X_train, X_val, y_train, y_val = train_test_split(\n",
    "    diabetes.data, diabetes.target, random_state=0)\n",
    "\n",
    "model = Ridge(alpha=1e-2).fit(X_train, y_train)\n",
    "model.score(X_val, y_val)"
   ]
  },
  {
   "cell_type": "code",
   "execution_count": 20,
   "metadata": {},
   "outputs": [
    {
     "data": {
      "text/plain": [
       "['age', 'sex', 'bmi', 'bp', 's1', 's2', 's3', 's4', 's5', 's6']"
      ]
     },
     "execution_count": 20,
     "metadata": {},
     "output_type": "execute_result"
    }
   ],
   "source": [
    "feat_col_list = diabetes.feature_names\n",
    "feat_col_list"
   ]
  },
  {
   "cell_type": "code",
   "execution_count": 31,
   "metadata": {},
   "outputs": [
    {
     "name": "stdout",
     "output_type": "stream",
     "text": [
      "r2\n",
      "    s5      0.204 +/- 0.050\n",
      "    bmi     0.176 +/- 0.048\n",
      "    bp      0.088 +/- 0.033\n",
      "    sex     0.056 +/- 0.023\n",
      "neg_mean_absolute_percentage_error\n",
      "    s5      0.081 +/- 0.020\n",
      "    bmi     0.064 +/- 0.015\n",
      "    bp      0.029 +/- 0.010\n",
      "neg_mean_squared_error\n",
      "    s5      1013.903 +/- 246.460\n",
      "    bmi     872.694 +/- 240.296\n",
      "    bp      438.681 +/- 163.025\n",
      "    sex     277.382 +/- 115.126\n"
     ]
    }
   ],
   "source": [
    "scoring = ['r2', 'neg_mean_absolute_percentage_error', 'neg_mean_squared_error']\n",
    "r_multi = permutation_importance(\n",
    "    model, X_val, y_val, n_repeats=30, random_state=0, scoring=scoring)\n",
    "\n",
    "r_list = []\n",
    "\n",
    "k_fold_i = 0\n",
    "for metric in r_multi:\n",
    "    print(f\"{metric}\")\n",
    "\n",
    "    col_list = [\"metric\", \"measure\", \"k_fold_i\"] + feat_col_list\n",
    "\n",
    "    r_list.extend([\n",
    "        [metric, \"mean\", k_fold_i] + list(r_multi[metric].importances_mean),\n",
    "        [metric, \"std\", k_fold_i] + list(r_multi[metric].importances_std),\n",
    "    ])\n",
    "\n",
    "\n",
    "\n",
    "    # r = r_multi[metric]\n",
    "    # for i in r.importances_mean.argsort()[::-1]:\n",
    "    #     if r.importances_mean[i] - 2 * r.importances_std[i] > 0:\n",
    "    #         print(f\"    {diabetes.feature_names[i]:<8}\"\n",
    "    #               f\"{r.importances_mean[i]:.3f}\"\n",
    "    #               f\" +/- {r.importances_std[i]:.3f}\")\n"
   ]
  },
  {
   "cell_type": "code",
   "execution_count": 32,
   "metadata": {},
   "outputs": [
    {
     "data": {
      "text/html": [
       "<div>\n",
       "<style scoped>\n",
       "    .dataframe tbody tr th:only-of-type {\n",
       "        vertical-align: middle;\n",
       "    }\n",
       "\n",
       "    .dataframe tbody tr th {\n",
       "        vertical-align: top;\n",
       "    }\n",
       "\n",
       "    .dataframe thead th {\n",
       "        text-align: right;\n",
       "    }\n",
       "</style>\n",
       "<table border=\"1\" class=\"dataframe\">\n",
       "  <thead>\n",
       "    <tr style=\"text-align: right;\">\n",
       "      <th></th>\n",
       "      <th>metric</th>\n",
       "      <th>measure</th>\n",
       "      <th>k_fold_i</th>\n",
       "      <th>age</th>\n",
       "      <th>sex</th>\n",
       "      <th>bmi</th>\n",
       "      <th>bp</th>\n",
       "      <th>s1</th>\n",
       "      <th>s2</th>\n",
       "      <th>s3</th>\n",
       "      <th>s4</th>\n",
       "      <th>s5</th>\n",
       "      <th>s6</th>\n",
       "    </tr>\n",
       "  </thead>\n",
       "  <tbody>\n",
       "    <tr>\n",
       "      <th>0</th>\n",
       "      <td>r2</td>\n",
       "      <td>mean</td>\n",
       "      <td>0</td>\n",
       "      <td>-0.001993</td>\n",
       "      <td>0.055874</td>\n",
       "      <td>0.175790</td>\n",
       "      <td>0.088365</td>\n",
       "      <td>0.042211</td>\n",
       "      <td>0.002036</td>\n",
       "      <td>0.002038</td>\n",
       "      <td>0.003187</td>\n",
       "      <td>0.204234</td>\n",
       "      <td>0.002787</td>\n",
       "    </tr>\n",
       "    <tr>\n",
       "      <th>1</th>\n",
       "      <td>r2</td>\n",
       "      <td>std</td>\n",
       "      <td>0</td>\n",
       "      <td>0.003647</td>\n",
       "      <td>0.023190</td>\n",
       "      <td>0.048404</td>\n",
       "      <td>0.032839</td>\n",
       "      <td>0.031413</td>\n",
       "      <td>0.002622</td>\n",
       "      <td>0.013093</td>\n",
       "      <td>0.008402</td>\n",
       "      <td>0.049645</td>\n",
       "      <td>0.003158</td>\n",
       "    </tr>\n",
       "    <tr>\n",
       "      <th>2</th>\n",
       "      <td>neg_mean_absolute_percentage_error</td>\n",
       "      <td>mean</td>\n",
       "      <td>0</td>\n",
       "      <td>-0.001143</td>\n",
       "      <td>0.013456</td>\n",
       "      <td>0.063800</td>\n",
       "      <td>0.029115</td>\n",
       "      <td>0.013455</td>\n",
       "      <td>0.000075</td>\n",
       "      <td>0.005368</td>\n",
       "      <td>0.002220</td>\n",
       "      <td>0.080886</td>\n",
       "      <td>0.001165</td>\n",
       "    </tr>\n",
       "    <tr>\n",
       "      <th>3</th>\n",
       "      <td>neg_mean_absolute_percentage_error</td>\n",
       "      <td>std</td>\n",
       "      <td>0</td>\n",
       "      <td>0.001463</td>\n",
       "      <td>0.007807</td>\n",
       "      <td>0.014821</td>\n",
       "      <td>0.010031</td>\n",
       "      <td>0.011302</td>\n",
       "      <td>0.000947</td>\n",
       "      <td>0.006004</td>\n",
       "      <td>0.004014</td>\n",
       "      <td>0.020069</td>\n",
       "      <td>0.001074</td>\n",
       "    </tr>\n",
       "    <tr>\n",
       "      <th>4</th>\n",
       "      <td>neg_mean_squared_error</td>\n",
       "      <td>mean</td>\n",
       "      <td>0</td>\n",
       "      <td>-9.892416</td>\n",
       "      <td>277.381974</td>\n",
       "      <td>872.694277</td>\n",
       "      <td>438.681037</td>\n",
       "      <td>209.554527</td>\n",
       "      <td>10.108816</td>\n",
       "      <td>10.115175</td>\n",
       "      <td>15.821355</td>\n",
       "      <td>1013.902651</td>\n",
       "      <td>13.834977</td>\n",
       "    </tr>\n",
       "    <tr>\n",
       "      <th>5</th>\n",
       "      <td>neg_mean_squared_error</td>\n",
       "      <td>std</td>\n",
       "      <td>0</td>\n",
       "      <td>18.103300</td>\n",
       "      <td>115.126095</td>\n",
       "      <td>240.296323</td>\n",
       "      <td>163.024802</td>\n",
       "      <td>155.945284</td>\n",
       "      <td>13.016553</td>\n",
       "      <td>65.000803</td>\n",
       "      <td>41.711877</td>\n",
       "      <td>246.460266</td>\n",
       "      <td>15.678956</td>\n",
       "    </tr>\n",
       "  </tbody>\n",
       "</table>\n",
       "</div>"
      ],
      "text/plain": [
       "                               metric measure  k_fold_i        age  \\\n",
       "0                                  r2    mean         0  -0.001993   \n",
       "1                                  r2     std         0   0.003647   \n",
       "2  neg_mean_absolute_percentage_error    mean         0  -0.001143   \n",
       "3  neg_mean_absolute_percentage_error     std         0   0.001463   \n",
       "4              neg_mean_squared_error    mean         0  -9.892416   \n",
       "5              neg_mean_squared_error     std         0  18.103300   \n",
       "\n",
       "          sex         bmi          bp          s1         s2         s3  \\\n",
       "0    0.055874    0.175790    0.088365    0.042211   0.002036   0.002038   \n",
       "1    0.023190    0.048404    0.032839    0.031413   0.002622   0.013093   \n",
       "2    0.013456    0.063800    0.029115    0.013455   0.000075   0.005368   \n",
       "3    0.007807    0.014821    0.010031    0.011302   0.000947   0.006004   \n",
       "4  277.381974  872.694277  438.681037  209.554527  10.108816  10.115175   \n",
       "5  115.126095  240.296323  163.024802  155.945284  13.016553  65.000803   \n",
       "\n",
       "          s4           s5         s6  \n",
       "0   0.003187     0.204234   0.002787  \n",
       "1   0.008402     0.049645   0.003158  \n",
       "2   0.002220     0.080886   0.001165  \n",
       "3   0.004014     0.020069   0.001074  \n",
       "4  15.821355  1013.902651  13.834977  \n",
       "5  41.711877   246.460266  15.678956  "
      ]
     },
     "execution_count": 32,
     "metadata": {},
     "output_type": "execute_result"
    }
   ],
   "source": [
    "df = pd.DataFrame(df_list, columns=col_list)\n",
    "df"
   ]
  },
  {
   "cell_type": "code",
   "execution_count": 6,
   "metadata": {},
   "outputs": [
    {
     "data": {
      "text/plain": [
       "dict_keys(['r2', 'neg_mean_absolute_percentage_error', 'neg_mean_squared_error'])"
      ]
     },
     "execution_count": 6,
     "metadata": {},
     "output_type": "execute_result"
    }
   ],
   "source": [
    "r_multi.keys()"
   ]
  },
  {
   "cell_type": "code",
   "execution_count": 9,
   "metadata": {},
   "outputs": [
    {
     "data": {
      "text/plain": [
       "array([-0.00199267,  0.05587407,  0.17579   ,  0.08836513,  0.04221134,\n",
       "        0.00203626,  0.00203754,  0.00318695,  0.20423412,  0.00278683])"
      ]
     },
     "execution_count": 9,
     "metadata": {},
     "output_type": "execute_result"
    }
   ],
   "source": [
    "r_multi['r2'].importances_mean"
   ]
  },
  {
   "cell_type": "code",
   "execution_count": 10,
   "metadata": {},
   "outputs": [
    {
     "data": {
      "text/plain": [
       "array([0.00364661, 0.02319027, 0.04840377, 0.03283868, 0.03141263,\n",
       "       0.00262197, 0.01309335, 0.00840218, 0.04964539, 0.00315827])"
      ]
     },
     "execution_count": 10,
     "metadata": {},
     "output_type": "execute_result"
    }
   ],
   "source": [
    "r_multi['r2'].importances_std"
   ]
  },
  {
   "cell_type": "code",
   "execution_count": 12,
   "metadata": {},
   "outputs": [
    {
     "data": {
      "text/plain": [
       "(10, 30)"
      ]
     },
     "execution_count": 12,
     "metadata": {},
     "output_type": "execute_result"
    }
   ],
   "source": [
    "r_multi['r2'].importances.shape"
   ]
  },
  {
   "cell_type": "code",
   "execution_count": 13,
   "metadata": {},
   "outputs": [
    {
     "data": {
      "text/plain": [
       "array([-0.00409598,  0.00217375, -0.00166394, -0.00205083,  0.00489654,\n",
       "        0.00356133,  0.00322849,  0.00124552, -0.00191488, -0.00491859,\n",
       "        0.00060739, -0.0064221 , -0.00343046, -0.00195777,  0.00318553,\n",
       "       -0.00734629, -0.00028103, -0.00121117, -0.00396204, -0.00066587,\n",
       "       -0.0106756 , -0.00322609, -0.00508704, -0.00553144,  0.00234617,\n",
       "       -0.00297843, -0.0083366 , -0.00151655, -0.00192957, -0.00182241])"
      ]
     },
     "execution_count": 13,
     "metadata": {},
     "output_type": "execute_result"
    }
   ],
   "source": [
    "r_multi['r2'].importances[0]"
   ]
  },
  {
   "cell_type": "code",
   "execution_count": 15,
   "metadata": {},
   "outputs": [
    {
     "data": {
      "text/plain": [
       "-0.001992665521383663"
      ]
     },
     "execution_count": 15,
     "metadata": {},
     "output_type": "execute_result"
    }
   ],
   "source": [
    "np.mean(r_multi['r2'].importances[0])"
   ]
  },
  {
   "cell_type": "code",
   "execution_count": 16,
   "metadata": {},
   "outputs": [
    {
     "data": {
      "text/plain": [
       "0.0036466139533947598"
      ]
     },
     "execution_count": 16,
     "metadata": {},
     "output_type": "execute_result"
    }
   ],
   "source": [
    "np.std(r_multi['r2'].importances[0])"
   ]
  },
  {
   "cell_type": "code",
   "execution_count": null,
   "metadata": {},
   "outputs": [],
   "source": []
  }
 ],
 "metadata": {
  "kernelspec": {
   "display_name": "Python 3.8.12 ('featstore')",
   "language": "python",
   "name": "python3"
  },
  "language_info": {
   "codemirror_mode": {
    "name": "ipython",
    "version": 3
   },
   "file_extension": ".py",
   "mimetype": "text/x-python",
   "name": "python",
   "nbconvert_exporter": "python",
   "pygments_lexer": "ipython3",
   "version": "3.8.12"
  },
  "orig_nbformat": 4,
  "vscode": {
   "interpreter": {
    "hash": "daff1afd4d675d5e247c0a95a5de0c03bd87d8f7edee7cb37c539016070f1c16"
   }
  }
 },
 "nbformat": 4,
 "nbformat_minor": 2
}
