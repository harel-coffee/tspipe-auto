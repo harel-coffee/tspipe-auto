{
 "cells": [
  {
   "cell_type": "code",
   "execution_count": 1,
   "metadata": {},
   "outputs": [],
   "source": [
    "import numpy as np\n",
    "import pandas as pd\n",
    "from pathlib import Path\n",
    "import random\n",
    "\n",
    "%load_ext autoreload\n",
    "%autoreload 2"
   ]
  },
  {
   "cell_type": "code",
   "execution_count": 4,
   "metadata": {},
   "outputs": [],
   "source": [
    "cm = (1712, 8, 1, 105)\n",
    "\n",
    "# get true negatives (tn), false positives (fp), false negatives (fn), and true positives (tp)\n",
    "tn, fp, fn, tp = cm"
   ]
  },
  {
   "cell_type": "code",
   "execution_count": 5,
   "metadata": {},
   "outputs": [
    {
     "name": "stdout",
     "output_type": "stream",
     "text": [
      "tpr: 0.991, fpr: 0.005, fnr: 0.009, tnr: 0.995\n"
     ]
    }
   ],
   "source": [
    "# create function to calculate the true positive rate (tpr), false positive rate (fpr), and false negative rate (fnr), and true negative rate (tnr)\n",
    "def get_rates(tn, fp, fn, tp):\n",
    "    tpr = tp / (tp + fn) # sensitivity, recall, hit rate, or true positive rate\n",
    "    fpr = fp / (fp + tn) # fall out or false positive rate\n",
    "    fnr = fn / (fn + tp) # miss rate or false negative rate\n",
    "    tnr = tn / (tn + fp) # specificity or true negative rate\n",
    "    return tpr, fpr, fnr, tnr\n",
    "\n",
    "tpr, fpr, fnr, tnr = get_rates(tn, fp, fn, tp)\n",
    "print(f\"tpr: {tpr:.3f}, fpr: {fpr:.3f}, fnr: {fnr:.3f}, tnr: {tnr:.3f}\")"
   ]
  },
  {
   "cell_type": "code",
   "execution_count": null,
   "metadata": {},
   "outputs": [],
   "source": []
  }
 ],
 "metadata": {
  "kernelspec": {
   "display_name": "Python 3.8.13 ('featstore')",
   "language": "python",
   "name": "python3"
  },
  "language_info": {
   "codemirror_mode": {
    "name": "ipython",
    "version": 3
   },
   "file_extension": ".py",
   "mimetype": "text/x-python",
   "name": "python",
   "nbconvert_exporter": "python",
   "pygments_lexer": "ipython3",
   "version": "3.8.13"
  },
  "orig_nbformat": 4,
  "vscode": {
   "interpreter": {
    "hash": "daff1afd4d675d5e247c0a95a5de0c03bd87d8f7edee7cb37c539016070f1c16"
   }
  }
 },
 "nbformat": 4,
 "nbformat_minor": 2
}
