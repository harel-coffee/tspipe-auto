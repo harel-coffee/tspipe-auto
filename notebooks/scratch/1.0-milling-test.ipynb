{
 "cells": [
  {
   "cell_type": "markdown",
   "id": "fe40f11b-8681-4591-883b-6f88190a8798",
   "metadata": {},
   "source": [
    "We will use [tsfresh](https://tsfresh.readthedocs.io/) to create features. The module takes flat dataframes, as described [in the docs](https://tsfresh.readthedocs.io/en/latest/text/data_formats.html).\n",
    "\n",
    "We will take the UC Berkeley milling data set and create a flat dataframe from it."
   ]
  },
  {
   "cell_type": "code",
   "execution_count": 1,
   "id": "5d1a4d75-a802-4b03-a9ad-fa11eec3e461",
   "metadata": {},
   "outputs": [],
   "source": [
    "import pathlib\n",
    "from pathlib import Path\n",
    "import scipy.io as sio\n",
    "import numpy as np\n",
    "import pandas as pd\n",
    "import zipfile\n",
    "import matplotlib.pyplot as plt\n",
    "import seaborn as sns\n",
    "from src.data.data_prep_utils import MillingDataPrep\n",
    "\n",
    "%matplotlib inline\n",
    "%load_ext autoreload\n",
    "%autoreload 2"
   ]
  },
  {
   "cell_type": "markdown",
   "id": "1b5b8d7c",
   "metadata": {},
   "source": [
    "Set folder paths."
   ]
  },
  {
   "cell_type": "code",
   "execution_count": 2,
   "id": "b5749e2f",
   "metadata": {},
   "outputs": [
    {
     "name": "stdout",
     "output_type": "stream",
     "text": [
      "c:\\_Python\\feat-store\n",
      "c:\\_Python\\feat-store\\data\\raw\\milling\n"
     ]
    },
    {
     "data": {
      "text/plain": [
       "True"
      ]
     },
     "execution_count": 2,
     "metadata": {},
     "output_type": "execute_result"
    }
   ],
   "source": [
    "root_dir = Path.cwd().parent.parent\n",
    "print(root_dir)\n",
    "\n",
    "folder_raw_data_milling = root_dir / 'data' / 'raw' / 'milling'\n",
    "folder_processed_data_milling = root_dir / 'data' / 'processed' / 'milling'\n",
    "df_label_path = folder_processed_data_milling / \"labels_with_tool_class.csv\"\n",
    "print(folder_raw_data_milling)\n",
    "df_label_path.exists()"
   ]
  },
  {
   "cell_type": "code",
   "execution_count": 10,
   "id": "0eb176a0",
   "metadata": {},
   "outputs": [],
   "source": [
    "milldata = MillingDataPrep(folder_raw_data_milling / 'mill.mat', path_df_labels=df_label_path, window_size=64, stride=64, )"
   ]
  },
  {
   "cell_type": "code",
   "execution_count": 8,
   "id": "83ec0d5d",
   "metadata": {},
   "outputs": [
    {
     "data": {
      "text/plain": [
       "(740480, 10)"
      ]
     },
     "execution_count": 8,
     "metadata": {},
     "output_type": "execute_result"
    }
   ],
   "source": [
    "df = milldata.create_xy_dataframe()\n",
    "df.shape"
   ]
  },
  {
   "cell_type": "code",
   "execution_count": 12,
   "id": "72a4a6b1",
   "metadata": {},
   "outputs": [],
   "source": [
    "x, y = milldata.create_xy_arrays()\n"
   ]
  },
  {
   "cell_type": "code",
   "execution_count": 13,
   "id": "c61c03fa",
   "metadata": {},
   "outputs": [
    {
     "name": "stdout",
     "output_type": "stream",
     "text": [
      "(11570, 64, 6)\n",
      "(11570, 64, 3)\n"
     ]
    }
   ],
   "source": [
    "print(x.shape)\n",
    "print(y.shape)"
   ]
  },
  {
   "cell_type": "code",
   "execution_count": 9,
   "id": "f7e209f9",
   "metadata": {},
   "outputs": [
    {
     "data": {
      "text/html": [
       "<div>\n",
       "<style scoped>\n",
       "    .dataframe tbody tr th:only-of-type {\n",
       "        vertical-align: middle;\n",
       "    }\n",
       "\n",
       "    .dataframe tbody tr th {\n",
       "        vertical-align: top;\n",
       "    }\n",
       "\n",
       "    .dataframe thead th {\n",
       "        text-align: right;\n",
       "    }\n",
       "</style>\n",
       "<table border=\"1\" class=\"dataframe\">\n",
       "  <thead>\n",
       "    <tr style=\"text-align: right;\">\n",
       "      <th></th>\n",
       "      <th>cut_id</th>\n",
       "      <th>case</th>\n",
       "      <th>time</th>\n",
       "      <th>ae_spindle</th>\n",
       "      <th>ae_table</th>\n",
       "      <th>vib_spindle</th>\n",
       "      <th>vib_table</th>\n",
       "      <th>smcdc</th>\n",
       "      <th>smcac</th>\n",
       "      <th>tool_class</th>\n",
       "    </tr>\n",
       "  </thead>\n",
       "  <tbody>\n",
       "    <tr>\n",
       "      <th>740475</th>\n",
       "      <td>166_65</td>\n",
       "      <td>166</td>\n",
       "      <td>0.236</td>\n",
       "      <td>0.261841</td>\n",
       "      <td>0.254517</td>\n",
       "      <td>0.277100</td>\n",
       "      <td>1.127930</td>\n",
       "      <td>9.995117</td>\n",
       "      <td>3.129883</td>\n",
       "      <td>1</td>\n",
       "    </tr>\n",
       "    <tr>\n",
       "      <th>740476</th>\n",
       "      <td>166_65</td>\n",
       "      <td>166</td>\n",
       "      <td>0.240</td>\n",
       "      <td>0.214844</td>\n",
       "      <td>0.178223</td>\n",
       "      <td>0.277100</td>\n",
       "      <td>1.030273</td>\n",
       "      <td>9.995117</td>\n",
       "      <td>1.601562</td>\n",
       "      <td>1</td>\n",
       "    </tr>\n",
       "    <tr>\n",
       "      <th>740477</th>\n",
       "      <td>166_65</td>\n",
       "      <td>166</td>\n",
       "      <td>0.244</td>\n",
       "      <td>0.181885</td>\n",
       "      <td>0.164185</td>\n",
       "      <td>0.275879</td>\n",
       "      <td>1.035156</td>\n",
       "      <td>9.995117</td>\n",
       "      <td>0.288086</td>\n",
       "      <td>1</td>\n",
       "    </tr>\n",
       "    <tr>\n",
       "      <th>740478</th>\n",
       "      <td>166_65</td>\n",
       "      <td>166</td>\n",
       "      <td>0.248</td>\n",
       "      <td>0.264282</td>\n",
       "      <td>0.261230</td>\n",
       "      <td>0.275879</td>\n",
       "      <td>1.218262</td>\n",
       "      <td>9.995117</td>\n",
       "      <td>-1.386719</td>\n",
       "      <td>1</td>\n",
       "    </tr>\n",
       "    <tr>\n",
       "      <th>740479</th>\n",
       "      <td>166_65</td>\n",
       "      <td>166</td>\n",
       "      <td>0.252</td>\n",
       "      <td>0.239258</td>\n",
       "      <td>0.211182</td>\n",
       "      <td>0.272217</td>\n",
       "      <td>1.015625</td>\n",
       "      <td>9.995117</td>\n",
       "      <td>-3.149414</td>\n",
       "      <td>1</td>\n",
       "    </tr>\n",
       "  </tbody>\n",
       "</table>\n",
       "</div>"
      ],
      "text/plain": [
       "        cut_id  case   time  ae_spindle  ae_table  vib_spindle  vib_table  \\\n",
       "740475  166_65   166  0.236    0.261841  0.254517     0.277100   1.127930   \n",
       "740476  166_65   166  0.240    0.214844  0.178223     0.277100   1.030273   \n",
       "740477  166_65   166  0.244    0.181885  0.164185     0.275879   1.035156   \n",
       "740478  166_65   166  0.248    0.264282  0.261230     0.275879   1.218262   \n",
       "740479  166_65   166  0.252    0.239258  0.211182     0.272217   1.015625   \n",
       "\n",
       "           smcdc     smcac  tool_class  \n",
       "740475  9.995117  3.129883           1  \n",
       "740476  9.995117  1.601562           1  \n",
       "740477  9.995117  0.288086           1  \n",
       "740478  9.995117 -1.386719           1  \n",
       "740479  9.995117 -3.149414           1  "
      ]
     },
     "execution_count": 9,
     "metadata": {},
     "output_type": "execute_result"
    }
   ],
   "source": [
    "df.tail()"
   ]
  },
  {
   "cell_type": "code",
   "execution_count": 29,
   "id": "b8cca898",
   "metadata": {},
   "outputs": [
    {
     "data": {
      "text/plain": [
       "cut_id          object\n",
       "case             int32\n",
       "time           float32\n",
       "ae_spindle     float32\n",
       "ae_table       float32\n",
       "vib_spindle    float32\n",
       "vib_table      float32\n",
       "smcdc          float32\n",
       "smcac          float32\n",
       "tool_class       int32\n",
       "dtype: object"
      ]
     },
     "execution_count": 29,
     "metadata": {},
     "output_type": "execute_result"
    }
   ],
   "source": [
    "df.dtypes"
   ]
  },
  {
   "cell_type": "code",
   "execution_count": 32,
   "id": "2440bcc4",
   "metadata": {},
   "outputs": [
    {
     "data": {
      "text/plain": [
       "(8960, 10)"
      ]
     },
     "execution_count": 32,
     "metadata": {},
     "output_type": "execute_result"
    }
   ],
   "source": [
    "df.shape"
   ]
  },
  {
   "cell_type": "code",
   "execution_count": 33,
   "id": "692f7fe5",
   "metadata": {},
   "outputs": [
    {
     "data": {
      "text/html": [
       "<div>\n",
       "<style scoped>\n",
       "    .dataframe tbody tr th:only-of-type {\n",
       "        vertical-align: middle;\n",
       "    }\n",
       "\n",
       "    .dataframe tbody tr th {\n",
       "        vertical-align: top;\n",
       "    }\n",
       "\n",
       "    .dataframe thead th {\n",
       "        text-align: right;\n",
       "    }\n",
       "</style>\n",
       "<table border=\"1\" class=\"dataframe\">\n",
       "  <thead>\n",
       "    <tr style=\"text-align: right;\">\n",
       "      <th></th>\n",
       "      <th>cut_id</th>\n",
       "      <th>case</th>\n",
       "      <th>time</th>\n",
       "      <th>ae_spindle</th>\n",
       "      <th>ae_table</th>\n",
       "      <th>vib_spindle</th>\n",
       "      <th>vib_table</th>\n",
       "      <th>smcdc</th>\n",
       "      <th>smcac</th>\n",
       "      <th>tool_class</th>\n",
       "    </tr>\n",
       "  </thead>\n",
       "  <tbody>\n",
       "    <tr>\n",
       "      <th>8955</th>\n",
       "      <td>1_69</td>\n",
       "      <td>1</td>\n",
       "      <td>0.236</td>\n",
       "      <td>0.239258</td>\n",
       "      <td>0.179443</td>\n",
       "      <td>0.625000</td>\n",
       "      <td>1.770020</td>\n",
       "      <td>7.182617</td>\n",
       "      <td>0.043945</td>\n",
       "      <td>0</td>\n",
       "    </tr>\n",
       "    <tr>\n",
       "      <th>8956</th>\n",
       "      <td>1_69</td>\n",
       "      <td>1</td>\n",
       "      <td>0.240</td>\n",
       "      <td>0.213013</td>\n",
       "      <td>0.175781</td>\n",
       "      <td>0.622559</td>\n",
       "      <td>1.691895</td>\n",
       "      <td>7.016602</td>\n",
       "      <td>0.485840</td>\n",
       "      <td>0</td>\n",
       "    </tr>\n",
       "    <tr>\n",
       "      <th>8957</th>\n",
       "      <td>1_69</td>\n",
       "      <td>1</td>\n",
       "      <td>0.244</td>\n",
       "      <td>0.225220</td>\n",
       "      <td>0.243530</td>\n",
       "      <td>0.672607</td>\n",
       "      <td>1.806641</td>\n",
       "      <td>6.938477</td>\n",
       "      <td>1.142578</td>\n",
       "      <td>0</td>\n",
       "    </tr>\n",
       "    <tr>\n",
       "      <th>8958</th>\n",
       "      <td>1_69</td>\n",
       "      <td>1</td>\n",
       "      <td>0.248</td>\n",
       "      <td>0.270386</td>\n",
       "      <td>0.296631</td>\n",
       "      <td>0.671387</td>\n",
       "      <td>1.884766</td>\n",
       "      <td>7.075195</td>\n",
       "      <td>1.328125</td>\n",
       "      <td>0</td>\n",
       "    </tr>\n",
       "    <tr>\n",
       "      <th>8959</th>\n",
       "      <td>1_69</td>\n",
       "      <td>1</td>\n",
       "      <td>0.252</td>\n",
       "      <td>0.323486</td>\n",
       "      <td>0.245972</td>\n",
       "      <td>0.740967</td>\n",
       "      <td>1.945801</td>\n",
       "      <td>7.011719</td>\n",
       "      <td>2.521973</td>\n",
       "      <td>0</td>\n",
       "    </tr>\n",
       "  </tbody>\n",
       "</table>\n",
       "</div>"
      ],
      "text/plain": [
       "     cut_id  case   time  ae_spindle  ae_table  vib_spindle  vib_table  \\\n",
       "8955   1_69     1  0.236    0.239258  0.179443     0.625000   1.770020   \n",
       "8956   1_69     1  0.240    0.213013  0.175781     0.622559   1.691895   \n",
       "8957   1_69     1  0.244    0.225220  0.243530     0.672607   1.806641   \n",
       "8958   1_69     1  0.248    0.270386  0.296631     0.671387   1.884766   \n",
       "8959   1_69     1  0.252    0.323486  0.245972     0.740967   1.945801   \n",
       "\n",
       "         smcdc     smcac  tool_class  \n",
       "8955  7.182617  0.043945           0  \n",
       "8956  7.016602  0.485840           0  \n",
       "8957  6.938477  1.142578           0  \n",
       "8958  7.075195  1.328125           0  \n",
       "8959  7.011719  2.521973           0  "
      ]
     },
     "execution_count": 33,
     "metadata": {},
     "output_type": "execute_result"
    }
   ],
   "source": [
    "col_names_ordered = ['cut_id', 'case', 'time', 'ae_spindle', 'ae_table', 'vib_spindle', 'vib_table', 'smcdc', 'smcac','tool_class']\n",
    "col_dtype = [str, int, np.float32, np.float32, np.float32, np.float32, np.float32, np.float32, np.float32, int]\n",
    "col_dtype_dict = dict(zip(col_names_ordered, col_dtype))\n",
    "\n",
    "df_gt = pd.read_csv(folder_raw_data_milling / 'milling_truncated_results.csv.gz', compression='gzip',)\n",
    "df_gt = df_gt.astype(col_dtype_dict)\n",
    "df_gt.tail()"
   ]
  },
  {
   "cell_type": "code",
   "execution_count": 35,
   "id": "8160bcaa",
   "metadata": {},
   "outputs": [
    {
     "data": {
      "text/plain": [
       "cut_id          object\n",
       "case             int32\n",
       "time           float32\n",
       "ae_spindle     float32\n",
       "ae_table       float32\n",
       "vib_spindle    float32\n",
       "vib_table      float32\n",
       "smcdc          float32\n",
       "smcac          float32\n",
       "tool_class       int32\n",
       "dtype: object"
      ]
     },
     "execution_count": 35,
     "metadata": {},
     "output_type": "execute_result"
    }
   ],
   "source": [
    "df_gt.dtypes"
   ]
  },
  {
   "cell_type": "code",
   "execution_count": 38,
   "id": "b6d9ebf8",
   "metadata": {},
   "outputs": [],
   "source": [
    "from pandas.testing import assert_frame_equal\n",
    "a = assert_frame_equal(df, df_gt)"
   ]
  },
  {
   "cell_type": "code",
   "execution_count": 39,
   "id": "4e598014",
   "metadata": {},
   "outputs": [],
   "source": [
    "a"
   ]
  },
  {
   "cell_type": "code",
   "execution_count": 25,
   "id": "b6f3825d",
   "metadata": {},
   "outputs": [],
   "source": [
    "df.to_csv(folder_processed_data_milling / \"milling_truncated.csv.gz\", compression=\"gzip\", index=False)"
   ]
  },
  {
   "cell_type": "code",
   "execution_count": null,
   "id": "54229967",
   "metadata": {},
   "outputs": [],
   "source": []
  },
  {
   "cell_type": "code",
   "execution_count": null,
   "id": "917fa2cb",
   "metadata": {},
   "outputs": [],
   "source": []
  }
 ],
 "metadata": {
  "interpreter": {
   "hash": "bb5c389ed065b0664b086eb1393fdb5729447cbf21b18fded646434c15c951b5"
  },
  "kernelspec": {
   "display_name": "Python 3.10.0 64-bit ('featstore': conda)",
   "name": "python3"
  },
  "language_info": {
   "codemirror_mode": {
    "name": "ipython",
    "version": 3
   },
   "file_extension": ".py",
   "mimetype": "text/x-python",
   "name": "python",
   "nbconvert_exporter": "python",
   "pygments_lexer": "ipython3",
   "version": "3.8.12"
  }
 },
 "nbformat": 4,
 "nbformat_minor": 5
}
