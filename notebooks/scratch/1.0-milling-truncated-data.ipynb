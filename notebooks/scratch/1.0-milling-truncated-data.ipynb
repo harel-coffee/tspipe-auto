{
 "cells": [
  {
   "cell_type": "markdown",
   "id": "fe40f11b-8681-4591-883b-6f88190a8798",
   "metadata": {},
   "source": [
    "We will use [tsfresh](https://tsfresh.readthedocs.io/) to create features. The module takes flat dataframes, as described [in the docs](https://tsfresh.readthedocs.io/en/latest/text/data_formats.html).\n",
    "\n",
    "We will take the UC Berkeley milling data set and create a flat dataframe from it."
   ]
  },
  {
   "cell_type": "code",
   "execution_count": 1,
   "id": "5d1a4d75-a802-4b03-a9ad-fa11eec3e461",
   "metadata": {},
   "outputs": [],
   "source": [
    "import pathlib\n",
    "from pathlib import Path\n",
    "import scipy.io as sio\n",
    "import numpy as np\n",
    "import pandas as pd\n",
    "import zipfile\n",
    "import matplotlib.pyplot as plt\n",
    "import seaborn as sns\n",
    "from src.data.data_prep_utils import MillingDataPrep\n",
    "\n",
    "%matplotlib inline\n",
    "%load_ext autoreload\n",
    "%autoreload 2"
   ]
  },
  {
   "cell_type": "markdown",
   "id": "1b5b8d7c",
   "metadata": {},
   "source": [
    "Set folder paths."
   ]
  },
  {
   "cell_type": "code",
   "execution_count": 2,
   "id": "b5749e2f",
   "metadata": {},
   "outputs": [
    {
     "name": "stdout",
     "output_type": "stream",
     "text": [
      "/home/tim/Documents/feat-store\n",
      "/home/tim/Documents/feat-store/tests/integration/fixtures\n"
     ]
    },
    {
     "data": {
      "text/plain": [
       "True"
      ]
     },
     "execution_count": 2,
     "metadata": {},
     "output_type": "execute_result"
    }
   ],
   "source": [
    "root_dir = Path.cwd().parent.parent\n",
    "print(root_dir)\n",
    "\n",
    "folder_raw_data_milling = root_dir / 'tests/integration/fixtures'\n",
    "# folder_processed_data_milling = root_dir / 'data/processed/milling'\n",
    "df_label_path=folder_raw_data_milling / \"labels_with_tool_class_truncated.csv\"\n",
    "print(folder_raw_data_milling)\n",
    "df_label_path.exists()"
   ]
  },
  {
   "cell_type": "code",
   "execution_count": 3,
   "id": "0eb176a0",
   "metadata": {},
   "outputs": [],
   "source": [
    "milldata = MillingDataPrep(root_dir / 'tests/integration/fixtures' / 'mill_truncated.mat', path_df_labels=df_label_path, window_size=64, stride=64, cut_drop_list=None)"
   ]
  },
  {
   "cell_type": "code",
   "execution_count": 4,
   "id": "83ec0d5d",
   "metadata": {},
   "outputs": [],
   "source": [
    "df = milldata.create_xy_dataframe()\n"
   ]
  },
  {
   "cell_type": "code",
   "execution_count": 5,
   "id": "f7e209f9",
   "metadata": {},
   "outputs": [
    {
     "data": {
      "text/html": [
       "<div>\n",
       "<style scoped>\n",
       "    .dataframe tbody tr th:only-of-type {\n",
       "        vertical-align: middle;\n",
       "    }\n",
       "\n",
       "    .dataframe tbody tr th {\n",
       "        vertical-align: top;\n",
       "    }\n",
       "\n",
       "    .dataframe thead th {\n",
       "        text-align: right;\n",
       "    }\n",
       "</style>\n",
       "<table border=\"1\" class=\"dataframe\">\n",
       "  <thead>\n",
       "    <tr style=\"text-align: right;\">\n",
       "      <th></th>\n",
       "      <th>cut_id</th>\n",
       "      <th>cut_no</th>\n",
       "      <th>case</th>\n",
       "      <th>time</th>\n",
       "      <th>ae_spindle</th>\n",
       "      <th>ae_table</th>\n",
       "      <th>vib_spindle</th>\n",
       "      <th>vib_table</th>\n",
       "      <th>smcdc</th>\n",
       "      <th>smcac</th>\n",
       "      <th>tool_class</th>\n",
       "    </tr>\n",
       "  </thead>\n",
       "  <tbody>\n",
       "    <tr>\n",
       "      <th>8955</th>\n",
       "      <td>1_69</td>\n",
       "      <td>1</td>\n",
       "      <td>1</td>\n",
       "      <td>0.236</td>\n",
       "      <td>0.239258</td>\n",
       "      <td>0.179443</td>\n",
       "      <td>0.625000</td>\n",
       "      <td>1.770020</td>\n",
       "      <td>7.182617</td>\n",
       "      <td>0.043945</td>\n",
       "      <td>0</td>\n",
       "    </tr>\n",
       "    <tr>\n",
       "      <th>8956</th>\n",
       "      <td>1_69</td>\n",
       "      <td>1</td>\n",
       "      <td>1</td>\n",
       "      <td>0.240</td>\n",
       "      <td>0.213013</td>\n",
       "      <td>0.175781</td>\n",
       "      <td>0.622559</td>\n",
       "      <td>1.691895</td>\n",
       "      <td>7.016602</td>\n",
       "      <td>0.485840</td>\n",
       "      <td>0</td>\n",
       "    </tr>\n",
       "    <tr>\n",
       "      <th>8957</th>\n",
       "      <td>1_69</td>\n",
       "      <td>1</td>\n",
       "      <td>1</td>\n",
       "      <td>0.244</td>\n",
       "      <td>0.225220</td>\n",
       "      <td>0.243530</td>\n",
       "      <td>0.672607</td>\n",
       "      <td>1.806641</td>\n",
       "      <td>6.938477</td>\n",
       "      <td>1.142578</td>\n",
       "      <td>0</td>\n",
       "    </tr>\n",
       "    <tr>\n",
       "      <th>8958</th>\n",
       "      <td>1_69</td>\n",
       "      <td>1</td>\n",
       "      <td>1</td>\n",
       "      <td>0.248</td>\n",
       "      <td>0.270386</td>\n",
       "      <td>0.296631</td>\n",
       "      <td>0.671387</td>\n",
       "      <td>1.884766</td>\n",
       "      <td>7.075195</td>\n",
       "      <td>1.328125</td>\n",
       "      <td>0</td>\n",
       "    </tr>\n",
       "    <tr>\n",
       "      <th>8959</th>\n",
       "      <td>1_69</td>\n",
       "      <td>1</td>\n",
       "      <td>1</td>\n",
       "      <td>0.252</td>\n",
       "      <td>0.323486</td>\n",
       "      <td>0.245972</td>\n",
       "      <td>0.740967</td>\n",
       "      <td>1.945801</td>\n",
       "      <td>7.011719</td>\n",
       "      <td>2.521973</td>\n",
       "      <td>0</td>\n",
       "    </tr>\n",
       "  </tbody>\n",
       "</table>\n",
       "</div>"
      ],
      "text/plain": [
       "     cut_id  cut_no  case   time  ae_spindle  ae_table  vib_spindle  \\\n",
       "8955   1_69       1     1  0.236    0.239258  0.179443     0.625000   \n",
       "8956   1_69       1     1  0.240    0.213013  0.175781     0.622559   \n",
       "8957   1_69       1     1  0.244    0.225220  0.243530     0.672607   \n",
       "8958   1_69       1     1  0.248    0.270386  0.296631     0.671387   \n",
       "8959   1_69       1     1  0.252    0.323486  0.245972     0.740967   \n",
       "\n",
       "      vib_table     smcdc     smcac  tool_class  \n",
       "8955   1.770020  7.182617  0.043945           0  \n",
       "8956   1.691895  7.016602  0.485840           0  \n",
       "8957   1.806641  6.938477  1.142578           0  \n",
       "8958   1.884766  7.075195  1.328125           0  \n",
       "8959   1.945801  7.011719  2.521973           0  "
      ]
     },
     "execution_count": 5,
     "metadata": {},
     "output_type": "execute_result"
    }
   ],
   "source": [
    "df.tail()"
   ]
  },
  {
   "cell_type": "code",
   "execution_count": 10,
   "id": "b8cca898",
   "metadata": {},
   "outputs": [
    {
     "data": {
      "text/plain": [
       "cut_id          object\n",
       "cut_no           int64\n",
       "case             int64\n",
       "time           float32\n",
       "ae_spindle     float32\n",
       "ae_table       float32\n",
       "vib_spindle    float32\n",
       "vib_table      float32\n",
       "smcdc          float32\n",
       "smcac          float32\n",
       "tool_class       int64\n",
       "dtype: object"
      ]
     },
     "execution_count": 10,
     "metadata": {},
     "output_type": "execute_result"
    }
   ],
   "source": [
    "df.dtypes"
   ]
  },
  {
   "cell_type": "code",
   "execution_count": 23,
   "id": "f1a061bd",
   "metadata": {},
   "outputs": [],
   "source": [
    "# save the dataframe to csv.gz\n",
    "df.to_csv(root_dir / 'tests/integration/fixtures' / 'milling_truncated_results.csv.gz', compression='gzip', index=False)"
   ]
  },
  {
   "cell_type": "code",
   "execution_count": 25,
   "id": "52aca8ff",
   "metadata": {},
   "outputs": [
    {
     "data": {
      "text/html": [
       "<div>\n",
       "<style scoped>\n",
       "    .dataframe tbody tr th:only-of-type {\n",
       "        vertical-align: middle;\n",
       "    }\n",
       "\n",
       "    .dataframe tbody tr th {\n",
       "        vertical-align: top;\n",
       "    }\n",
       "\n",
       "    .dataframe thead th {\n",
       "        text-align: right;\n",
       "    }\n",
       "</style>\n",
       "<table border=\"1\" class=\"dataframe\">\n",
       "  <thead>\n",
       "    <tr style=\"text-align: right;\">\n",
       "      <th></th>\n",
       "      <th>Unnamed: 0</th>\n",
       "      <th>cut_id</th>\n",
       "      <th>cut_no</th>\n",
       "      <th>case</th>\n",
       "      <th>time</th>\n",
       "      <th>ae_spindle</th>\n",
       "      <th>ae_table</th>\n",
       "      <th>vib_spindle</th>\n",
       "      <th>vib_table</th>\n",
       "      <th>smcdc</th>\n",
       "      <th>smcac</th>\n",
       "      <th>tool_class</th>\n",
       "    </tr>\n",
       "  </thead>\n",
       "  <tbody>\n",
       "    <tr>\n",
       "      <th>0</th>\n",
       "      <td>0</td>\n",
       "      <td>0_0</td>\n",
       "      <td>0</td>\n",
       "      <td>1</td>\n",
       "      <td>0.000</td>\n",
       "      <td>0.219727</td>\n",
       "      <td>0.272827</td>\n",
       "      <td>0.733643</td>\n",
       "      <td>2.116699</td>\n",
       "      <td>6.840820</td>\n",
       "      <td>0.124512</td>\n",
       "      <td>0</td>\n",
       "    </tr>\n",
       "    <tr>\n",
       "      <th>1</th>\n",
       "      <td>1</td>\n",
       "      <td>0_0</td>\n",
       "      <td>0</td>\n",
       "      <td>1</td>\n",
       "      <td>0.004</td>\n",
       "      <td>0.246582</td>\n",
       "      <td>0.322266</td>\n",
       "      <td>0.778809</td>\n",
       "      <td>2.277832</td>\n",
       "      <td>6.660156</td>\n",
       "      <td>-0.561523</td>\n",
       "      <td>0</td>\n",
       "    </tr>\n",
       "    <tr>\n",
       "      <th>2</th>\n",
       "      <td>2</td>\n",
       "      <td>0_0</td>\n",
       "      <td>0</td>\n",
       "      <td>1</td>\n",
       "      <td>0.008</td>\n",
       "      <td>0.294189</td>\n",
       "      <td>0.283813</td>\n",
       "      <td>0.758057</td>\n",
       "      <td>2.343750</td>\n",
       "      <td>6.508789</td>\n",
       "      <td>-2.099609</td>\n",
       "      <td>0</td>\n",
       "    </tr>\n",
       "    <tr>\n",
       "      <th>3</th>\n",
       "      <td>3</td>\n",
       "      <td>0_0</td>\n",
       "      <td>0</td>\n",
       "      <td>1</td>\n",
       "      <td>0.012</td>\n",
       "      <td>0.323486</td>\n",
       "      <td>0.260010</td>\n",
       "      <td>0.726318</td>\n",
       "      <td>2.448730</td>\n",
       "      <td>6.542969</td>\n",
       "      <td>-2.731934</td>\n",
       "      <td>0</td>\n",
       "    </tr>\n",
       "    <tr>\n",
       "      <th>4</th>\n",
       "      <td>4</td>\n",
       "      <td>0_0</td>\n",
       "      <td>0</td>\n",
       "      <td>1</td>\n",
       "      <td>0.016</td>\n",
       "      <td>0.290527</td>\n",
       "      <td>0.253296</td>\n",
       "      <td>0.653076</td>\n",
       "      <td>2.546387</td>\n",
       "      <td>6.621094</td>\n",
       "      <td>-3.505859</td>\n",
       "      <td>0</td>\n",
       "    </tr>\n",
       "  </tbody>\n",
       "</table>\n",
       "</div>"
      ],
      "text/plain": [
       "   Unnamed: 0 cut_id  cut_no  case   time  ae_spindle  ae_table  vib_spindle  \\\n",
       "0           0    0_0       0     1  0.000    0.219727  0.272827     0.733643   \n",
       "1           1    0_0       0     1  0.004    0.246582  0.322266     0.778809   \n",
       "2           2    0_0       0     1  0.008    0.294189  0.283813     0.758057   \n",
       "3           3    0_0       0     1  0.012    0.323486  0.260010     0.726318   \n",
       "4           4    0_0       0     1  0.016    0.290527  0.253296     0.653076   \n",
       "\n",
       "   vib_table     smcdc     smcac  tool_class  \n",
       "0   2.116699  6.840820  0.124512           0  \n",
       "1   2.277832  6.660156 -0.561523           0  \n",
       "2   2.343750  6.508789 -2.099609           0  \n",
       "3   2.448730  6.542969 -2.731934           0  \n",
       "4   2.546387  6.621094 -3.505859           0  "
      ]
     },
     "execution_count": 25,
     "metadata": {},
     "output_type": "execute_result"
    }
   ],
   "source": [
    "df_gt = pd.read_csv(root_dir / 'tests/integration/fixtures' / 'milling_truncated_results.csv.gz', compression='gzip',)\n",
    "df_gt.head()"
   ]
  },
  {
   "cell_type": "code",
   "execution_count": 11,
   "id": "2440bcc4",
   "metadata": {},
   "outputs": [
    {
     "data": {
      "text/plain": [
       "(8960, 11)"
      ]
     },
     "execution_count": 11,
     "metadata": {},
     "output_type": "execute_result"
    }
   ],
   "source": [
    "df.shape"
   ]
  },
  {
   "cell_type": "code",
   "execution_count": 18,
   "id": "692f7fe5",
   "metadata": {},
   "outputs": [
    {
     "ename": "KeyError",
     "evalue": "'Only a column name can be used for the key in a dtype mappings argument.'",
     "output_type": "error",
     "traceback": [
      "\u001b[0;31m---------------------------------------------------------------------------\u001b[0m",
      "\u001b[0;31mKeyError\u001b[0m                                  Traceback (most recent call last)",
      "\u001b[0;32m/tmp/ipykernel_21339/4039768728.py\u001b[0m in \u001b[0;36m<module>\u001b[0;34m\u001b[0m\n\u001b[1;32m      4\u001b[0m \u001b[0;34m\u001b[0m\u001b[0m\n\u001b[1;32m      5\u001b[0m \u001b[0mdf_gt\u001b[0m \u001b[0;34m=\u001b[0m \u001b[0mpd\u001b[0m\u001b[0;34m.\u001b[0m\u001b[0mread_csv\u001b[0m\u001b[0;34m(\u001b[0m\u001b[0mfolder_raw_data_milling\u001b[0m \u001b[0;34m/\u001b[0m \u001b[0;34m'milling_truncated_results.csv.gz'\u001b[0m\u001b[0;34m,\u001b[0m \u001b[0mcompression\u001b[0m\u001b[0;34m=\u001b[0m\u001b[0;34m'gzip'\u001b[0m\u001b[0;34m,\u001b[0m\u001b[0;34m)\u001b[0m\u001b[0;34m\u001b[0m\u001b[0;34m\u001b[0m\u001b[0m\n\u001b[0;32m----> 6\u001b[0;31m \u001b[0mdf_gt\u001b[0m \u001b[0;34m=\u001b[0m \u001b[0mdf_gt\u001b[0m\u001b[0;34m.\u001b[0m\u001b[0mastype\u001b[0m\u001b[0;34m(\u001b[0m\u001b[0mcol_dtype_dict\u001b[0m\u001b[0;34m)\u001b[0m\u001b[0;34m\u001b[0m\u001b[0;34m\u001b[0m\u001b[0m\n\u001b[0m\u001b[1;32m      7\u001b[0m \u001b[0mdf_gt\u001b[0m\u001b[0;34m.\u001b[0m\u001b[0mtail\u001b[0m\u001b[0;34m(\u001b[0m\u001b[0;34m)\u001b[0m\u001b[0;34m\u001b[0m\u001b[0;34m\u001b[0m\u001b[0m\n",
      "\u001b[0;32m~/miniconda3/envs/featstore/lib/python3.8/site-packages/pandas/core/generic.py\u001b[0m in \u001b[0;36mastype\u001b[0;34m(self, dtype, copy, errors)\u001b[0m\n\u001b[1;32m   5789\u001b[0m             \u001b[0;32mfor\u001b[0m \u001b[0mcol_name\u001b[0m \u001b[0;32min\u001b[0m \u001b[0mdtype\u001b[0m\u001b[0;34m.\u001b[0m\u001b[0mkeys\u001b[0m\u001b[0;34m(\u001b[0m\u001b[0;34m)\u001b[0m\u001b[0;34m:\u001b[0m\u001b[0;34m\u001b[0m\u001b[0;34m\u001b[0m\u001b[0m\n\u001b[1;32m   5790\u001b[0m                 \u001b[0;32mif\u001b[0m \u001b[0mcol_name\u001b[0m \u001b[0;32mnot\u001b[0m \u001b[0;32min\u001b[0m \u001b[0mself\u001b[0m\u001b[0;34m:\u001b[0m\u001b[0;34m\u001b[0m\u001b[0;34m\u001b[0m\u001b[0m\n\u001b[0;32m-> 5791\u001b[0;31m                     raise KeyError(\n\u001b[0m\u001b[1;32m   5792\u001b[0m                         \u001b[0;34m\"Only a column name can be used for the \"\u001b[0m\u001b[0;34m\u001b[0m\u001b[0;34m\u001b[0m\u001b[0m\n\u001b[1;32m   5793\u001b[0m                         \u001b[0;34m\"key in a dtype mappings argument.\"\u001b[0m\u001b[0;34m\u001b[0m\u001b[0;34m\u001b[0m\u001b[0m\n",
      "\u001b[0;31mKeyError\u001b[0m: 'Only a column name can be used for the key in a dtype mappings argument.'"
     ]
    }
   ],
   "source": [
    "col_names_ordered = ['cut_id', 'cut_no', 'case', 'time', 'ae_spindle', 'ae_table', 'vib_spindle', 'vib_table', 'smcdc', 'smcac','tool_class']\n",
    "col_dtype = [str, int, int, np.float32, np.float32, np.float32, np.float32, np.float32, np.float32, np.float32, int]\n",
    "col_dtype_dict = dict(zip(col_names_ordered, col_dtype))\n",
    "\n",
    "df_gt = pd.read_csv(folder_raw_data_milling / 'milling_truncated_results.csv.gz', compression='gzip',)\n",
    "df_gt = df_gt.astype(col_dtype_dict)\n",
    "df_gt.tail()"
   ]
  },
  {
   "cell_type": "code",
   "execution_count": 13,
   "id": "8160bcaa",
   "metadata": {},
   "outputs": [
    {
     "data": {
      "text/plain": [
       "cut_id          object\n",
       "case             int64\n",
       "time           float32\n",
       "ae_spindle     float32\n",
       "ae_table       float32\n",
       "vib_spindle    float32\n",
       "vib_table      float32\n",
       "smcdc          float32\n",
       "smcac          float32\n",
       "tool_class       int64\n",
       "dtype: object"
      ]
     },
     "execution_count": 13,
     "metadata": {},
     "output_type": "execute_result"
    }
   ],
   "source": [
    "df_gt.dtypes"
   ]
  },
  {
   "cell_type": "code",
   "execution_count": 14,
   "id": "b6d9ebf8",
   "metadata": {},
   "outputs": [
    {
     "ename": "AssertionError",
     "evalue": "DataFrame are different\n\nDataFrame shape mismatch\n[left]:  (8960, 11)\n[right]: (8960, 10)",
     "output_type": "error",
     "traceback": [
      "\u001b[0;31m---------------------------------------------------------------------------\u001b[0m",
      "\u001b[0;31mAssertionError\u001b[0m                            Traceback (most recent call last)",
      "\u001b[0;32m/tmp/ipykernel_21339/55993687.py\u001b[0m in \u001b[0;36m<module>\u001b[0;34m\u001b[0m\n\u001b[1;32m      1\u001b[0m \u001b[0;32mfrom\u001b[0m \u001b[0mpandas\u001b[0m\u001b[0;34m.\u001b[0m\u001b[0mtesting\u001b[0m \u001b[0;32mimport\u001b[0m \u001b[0massert_frame_equal\u001b[0m\u001b[0;34m\u001b[0m\u001b[0;34m\u001b[0m\u001b[0m\n\u001b[0;32m----> 2\u001b[0;31m \u001b[0ma\u001b[0m \u001b[0;34m=\u001b[0m \u001b[0massert_frame_equal\u001b[0m\u001b[0;34m(\u001b[0m\u001b[0mdf\u001b[0m\u001b[0;34m,\u001b[0m \u001b[0mdf_gt\u001b[0m\u001b[0;34m)\u001b[0m\u001b[0;34m\u001b[0m\u001b[0;34m\u001b[0m\u001b[0m\n\u001b[0m",
      "    \u001b[0;31m[... skipping hidden 1 frame]\u001b[0m\n",
      "\u001b[0;32m~/miniconda3/envs/featstore/lib/python3.8/site-packages/pandas/_testing/asserters.py\u001b[0m in \u001b[0;36mraise_assert_detail\u001b[0;34m(obj, message, left, right, diff, index_values)\u001b[0m\n\u001b[1;32m    663\u001b[0m         \u001b[0mmsg\u001b[0m \u001b[0;34m+=\u001b[0m \u001b[0;34mf\"\\n[diff]: {diff}\"\u001b[0m\u001b[0;34m\u001b[0m\u001b[0;34m\u001b[0m\u001b[0m\n\u001b[1;32m    664\u001b[0m \u001b[0;34m\u001b[0m\u001b[0m\n\u001b[0;32m--> 665\u001b[0;31m     \u001b[0;32mraise\u001b[0m \u001b[0mAssertionError\u001b[0m\u001b[0;34m(\u001b[0m\u001b[0mmsg\u001b[0m\u001b[0;34m)\u001b[0m\u001b[0;34m\u001b[0m\u001b[0;34m\u001b[0m\u001b[0m\n\u001b[0m\u001b[1;32m    666\u001b[0m \u001b[0;34m\u001b[0m\u001b[0m\n\u001b[1;32m    667\u001b[0m \u001b[0;34m\u001b[0m\u001b[0m\n",
      "\u001b[0;31mAssertionError\u001b[0m: DataFrame are different\n\nDataFrame shape mismatch\n[left]:  (8960, 11)\n[right]: (8960, 10)"
     ]
    }
   ],
   "source": [
    "from pandas.testing import assert_frame_equal\n",
    "a = assert_frame_equal(df, df_gt)"
   ]
  },
  {
   "cell_type": "code",
   "execution_count": null,
   "id": "4e598014",
   "metadata": {},
   "outputs": [],
   "source": [
    "a"
   ]
  },
  {
   "cell_type": "code",
   "execution_count": null,
   "id": "b6f3825d",
   "metadata": {},
   "outputs": [],
   "source": [
    "df.to_csv(folder_processed_data_milling / \"milling_truncated.csv.gz\", compression=\"gzip\", index=False)"
   ]
  },
  {
   "cell_type": "code",
   "execution_count": null,
   "id": "54229967",
   "metadata": {},
   "outputs": [],
   "source": []
  },
  {
   "cell_type": "code",
   "execution_count": null,
   "id": "917fa2cb",
   "metadata": {},
   "outputs": [],
   "source": []
  }
 ],
 "metadata": {
  "interpreter": {
   "hash": "bb5c389ed065b0664b086eb1393fdb5729447cbf21b18fded646434c15c951b5"
  },
  "kernelspec": {
   "display_name": "Python 3.10.0 64-bit ('featstore': conda)",
   "name": "python3"
  },
  "language_info": {
   "codemirror_mode": {
    "name": "ipython",
    "version": 3
   },
   "file_extension": ".py",
   "mimetype": "text/x-python",
   "name": "python",
   "nbconvert_exporter": "python",
   "pygments_lexer": "ipython3",
   "version": "3.8.12"
  }
 },
 "nbformat": 4,
 "nbformat_minor": 5
}
