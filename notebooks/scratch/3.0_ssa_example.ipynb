{
 "cells": [
  {
   "cell_type": "code",
   "execution_count": 9,
   "metadata": {},
   "outputs": [
    {
     "name": "stdout",
     "output_type": "stream",
     "text": [
      "The autoreload extension is already loaded. To reload it, use:\n",
      "  %reload_ext autoreload\n"
     ]
    }
   ],
   "source": [
    "import pandas as pd\n",
    "import numpy as np\n",
    "import matplotlib.pyplot as plt\n",
    "from typing import Tuple\n",
    "from scipy import signal, fftpack\n",
    "import seaborn as sns\n",
    "\n",
    "%load_ext autoreload\n",
    "%autoreload 2"
   ]
  },
  {
   "cell_type": "markdown",
   "metadata": {},
   "source": [
    "# Load Raw IMS Data, Run #2\n",
    "At the end of run 2, an outer race failure was observed on bearing 1."
   ]
  },
  {
   "cell_type": "code",
   "execution_count": 2,
   "metadata": {},
   "outputs": [
    {
     "data": {
      "text/html": [
       "<div>\n",
       "<style scoped>\n",
       "    .dataframe tbody tr th:only-of-type {\n",
       "        vertical-align: middle;\n",
       "    }\n",
       "\n",
       "    .dataframe tbody tr th {\n",
       "        vertical-align: top;\n",
       "    }\n",
       "\n",
       "    .dataframe thead th {\n",
       "        text-align: right;\n",
       "    }\n",
       "</style>\n",
       "<table border=\"1\" class=\"dataframe\">\n",
       "  <thead>\n",
       "    <tr style=\"text-align: right;\">\n",
       "      <th></th>\n",
       "      <th>b1_ch1</th>\n",
       "      <th>b2_ch2</th>\n",
       "      <th>b3_ch3</th>\n",
       "      <th>b4_ch4</th>\n",
       "    </tr>\n",
       "  </thead>\n",
       "  <tbody>\n",
       "    <tr>\n",
       "      <th>0</th>\n",
       "      <td>-0.088</td>\n",
       "      <td>-0.127</td>\n",
       "      <td>0.154</td>\n",
       "      <td>0.022</td>\n",
       "    </tr>\n",
       "    <tr>\n",
       "      <th>1</th>\n",
       "      <td>0.022</td>\n",
       "      <td>-0.178</td>\n",
       "      <td>-0.073</td>\n",
       "      <td>-0.022</td>\n",
       "    </tr>\n",
       "    <tr>\n",
       "      <th>2</th>\n",
       "      <td>-0.015</td>\n",
       "      <td>-0.066</td>\n",
       "      <td>-0.259</td>\n",
       "      <td>-0.056</td>\n",
       "    </tr>\n",
       "    <tr>\n",
       "      <th>3</th>\n",
       "      <td>-0.083</td>\n",
       "      <td>0.122</td>\n",
       "      <td>-0.005</td>\n",
       "      <td>-0.073</td>\n",
       "    </tr>\n",
       "    <tr>\n",
       "      <th>4</th>\n",
       "      <td>-0.056</td>\n",
       "      <td>-0.029</td>\n",
       "      <td>0.073</td>\n",
       "      <td>0.007</td>\n",
       "    </tr>\n",
       "  </tbody>\n",
       "</table>\n",
       "</div>"
      ],
      "text/plain": [
       "   b1_ch1  b2_ch2  b3_ch3  b4_ch4\n",
       "0  -0.088  -0.127   0.154   0.022\n",
       "1   0.022  -0.178  -0.073  -0.022\n",
       "2  -0.015  -0.066  -0.259  -0.056\n",
       "3  -0.083   0.122  -0.005  -0.073\n",
       "4  -0.056  -0.029   0.073   0.007"
      ]
     },
     "execution_count": 2,
     "metadata": {},
     "output_type": "execute_result"
    }
   ],
   "source": [
    "col_names = [\"b1_ch1\", \"b2_ch2\", \"b3_ch3\", \"b4_ch4\"]\n",
    "\n",
    "df = pd.read_csv(\"2004.02.12.10.42.39\", sep=\"\\t\", names=col_names)\n",
    "df.head()"
   ]
  },
  {
   "cell_type": "code",
   "execution_count": 4,
   "metadata": {},
   "outputs": [],
   "source": [
    "# save only b1_ch1 to a new csv file\n",
    "df[[\"b1_ch1\"]].to_csv(\"run2_b1_ch1.csv\", index=False)\n"
   ]
  },
  {
   "cell_type": "markdown",
   "metadata": {},
   "source": [
    "# Load only b1_ch1 from CSV\n",
    "At the end of run 2, an outer race failure was observed on bearing 1.\n",
    "\n",
    "We will load a sample from the very beginning of the run."
   ]
  },
  {
   "cell_type": "code",
   "execution_count": 6,
   "metadata": {},
   "outputs": [
    {
     "data": {
      "text/html": [
       "<div>\n",
       "<style scoped>\n",
       "    .dataframe tbody tr th:only-of-type {\n",
       "        vertical-align: middle;\n",
       "    }\n",
       "\n",
       "    .dataframe tbody tr th {\n",
       "        vertical-align: top;\n",
       "    }\n",
       "\n",
       "    .dataframe thead th {\n",
       "        text-align: right;\n",
       "    }\n",
       "</style>\n",
       "<table border=\"1\" class=\"dataframe\">\n",
       "  <thead>\n",
       "    <tr style=\"text-align: right;\">\n",
       "      <th></th>\n",
       "      <th>b1_ch1</th>\n",
       "    </tr>\n",
       "  </thead>\n",
       "  <tbody>\n",
       "    <tr>\n",
       "      <th>0</th>\n",
       "      <td>-0.088</td>\n",
       "    </tr>\n",
       "    <tr>\n",
       "      <th>1</th>\n",
       "      <td>0.022</td>\n",
       "    </tr>\n",
       "    <tr>\n",
       "      <th>2</th>\n",
       "      <td>-0.015</td>\n",
       "    </tr>\n",
       "    <tr>\n",
       "      <th>3</th>\n",
       "      <td>-0.083</td>\n",
       "    </tr>\n",
       "    <tr>\n",
       "      <th>4</th>\n",
       "      <td>-0.056</td>\n",
       "    </tr>\n",
       "  </tbody>\n",
       "</table>\n",
       "</div>"
      ],
      "text/plain": [
       "   b1_ch1\n",
       "0  -0.088\n",
       "1   0.022\n",
       "2  -0.015\n",
       "3  -0.083\n",
       "4  -0.056"
      ]
     },
     "execution_count": 6,
     "metadata": {},
     "output_type": "execute_result"
    }
   ],
   "source": [
    "# load \"run2_b1_ch1.csv\"\n",
    "df = pd.read_csv(\"run2_b1_ch1.csv\")\n",
    "df.head()"
   ]
  },
  {
   "cell_type": "code",
   "execution_count": 11,
   "metadata": {},
   "outputs": [],
   "source": [
    "# functions to create an fft from the signal and a nice plot\n",
    "\n",
    "def create_fft(\n",
    "    df, y_name=\"b2_ch3\", sample_freq=20480.0, window=\"hamming\", beta=8.0\n",
    ") -> Tuple[np.array, np.array]:\n",
    "    \"\"\"Create FFT plot from a pandas dataframe of signals\n",
    "\n",
    "\n",
    "    Parameters\n",
    "    ===========\n",
    "    df : Pandas dataframe\n",
    "        Signal that is being normalized\n",
    "\n",
    "    y_name : str\n",
    "        Signal name (column name from dataframe) that will be used to generate\n",
    "        the FFT\n",
    "\n",
    "    sample_freq : float\n",
    "        Sampling frequency used to collect the signal\n",
    "\n",
    "    window : str --> 'hamming' else assumed 'kaiser'\n",
    "        Chose either the hamming or kaiser windowing function\n",
    "\n",
    "    beta : float\n",
    "        Used to determine shape of kaiser function. See scipy documentation\n",
    "        for additional details. 14 is good to start with.\n",
    "\n",
    "    Returns\n",
    "    ===========\n",
    "    x : ndarray\n",
    "        Time (likely in seconds). Necessary for plotting time domain signals\n",
    "\n",
    "    y : ndarray\n",
    "        Time-domain signal (for example, the acceleration)\n",
    "\n",
    "    xf : ndarray\n",
    "        Frequency (likely in Hz). Necessary for plotting the frequency domain\n",
    "\n",
    "    yf : ndarry\n",
    "        Amplitude of FFT.\n",
    "\n",
    "    \"\"\"\n",
    "\n",
    "    y = df[y_name].to_numpy(dtype=\"float64\")  # convert to a numpy array\n",
    "    x = np.arange(0, df.shape[0], dtype=\"float64\") / (sample_freq)\n",
    "\n",
    "    # parameters for plot\n",
    "    T = 1.0 / sample_freq  # sample spacing\n",
    "    N = len(y)  # number of sample points\n",
    "\n",
    "    # do some preprocessing of the current signal\n",
    "    y_detrend = y - np.mean(y)\n",
    "    y_detrend = signal.detrend(y_detrend, type=\"constant\")  # detrended signal\n",
    "\n",
    "    if window == \"hamming\":\n",
    "        y_detrend *= np.hamming(\n",
    "            N\n",
    "        )  # apply a hamming window. Why? https://dsp.stackexchange.com/a/11323\n",
    "    else:\n",
    "        y_detrend *= np.kaiser(len(y_detrend), beta)\n",
    "\n",
    "    # FFT on time domain signal\n",
    "    yf = fftpack.rfft(y_detrend)\n",
    "    yf = 2.0 / N * np.abs(yf[: int(N / 2.0)])\n",
    "    xf = np.linspace(0.0, 1.0 / (2.0 * T), N // 2) / 2\n",
    "\n",
    "    return x, y, xf, yf\n",
    "\n",
    "\n",
    "def create_time_frequency_plot(\n",
    "    x, y, xf, yf, save_plot=False, save_name=\"time_freq_domain.svg\", dpi=150\n",
    "):\n",
    "    \"\"\"Create a time domain and frequency domain plot.\n",
    "\n",
    "    Parameters\n",
    "    ===========\n",
    "    x : ndarray\n",
    "        Time (likely in seconds). Necessary for plotting time domain signals\n",
    "\n",
    "    y : ndarray\n",
    "        Time-domain signal (for example, the acceleration)\n",
    "\n",
    "    xf : ndarray\n",
    "        Frequency (likely in Hz). Necessary for plotting the frequency domain\n",
    "\n",
    "    yf : ndarry\n",
    "        Amplitude of FFT.\n",
    "\n",
    "    save_plot : boolean\n",
    "        True or False, whether to save the plot to file\n",
    "\n",
    "    save_name : str\n",
    "        If saving the plot, what is the name? Can be a string and/or path\n",
    "\n",
    "    dpi : int\n",
    "        dpi of saved image, if applicable\n",
    "\n",
    "    Returns\n",
    "    ===========\n",
    "    Saves and/or shows a plot.\n",
    "\n",
    "    \"\"\"\n",
    "\n",
    "    # setup the seaborn plot\n",
    "    sns.set(font_scale=1.1, style=\"whitegrid\")\n",
    "    fig, axes = plt.subplots(2, 1, figsize=(12, 8), sharex=False, sharey=False)\n",
    "    fig.tight_layout(pad=5.0)\n",
    "\n",
    "    pal = sns.cubehelix_palette(6, rot=-0.25, light=0.7)  # pick nice color for plot\n",
    "\n",
    "    # plot time domain signal\n",
    "    axes[0].plot(x, y, marker=\"\", label=\"Best model\", color=pal[3], linewidth=0.8)\n",
    "    axes[0].set_title(\"Time Domain\", fontdict={\"fontweight\": \"normal\"})\n",
    "    axes[0].set_xlabel(\"Time (seconds)\")\n",
    "    axes[0].set_ylabel(\"Acceleration (g)\")\n",
    "\n",
    "    # plot the frequency domain signal\n",
    "    axes[1].plot(xf, yf, marker=\"\", label=\"Best model\", color=pal[3], linewidth=0.8)\n",
    "    axes[1].set_title(\"Frequency Domain\", fontdict={\"fontweight\": \"normal\"})\n",
    "    axes[1].set_xlabel(\"Frequency (Hz)\")\n",
    "    axes[1].set_ylabel(\"Amplitude\")\n",
    "    plt.ticklabel_format(axis=\"y\", style=\"sci\", scilimits=(0, 0))\n",
    "\n",
    "    # clean up the sub-plots to make everything pretty\n",
    "    for ax in axes.flatten():\n",
    "        ax.yaxis.set_tick_params(labelleft=True, which=\"major\")\n",
    "        ax.grid(False)\n",
    "\n",
    "    if save_plot:\n",
    "        plt.savefig(save_name, dpi=dpi, bbox_inches=\"tight\")\n",
    "\n",
    "    else:\n",
    "        plt.show()"
   ]
  },
  {
   "cell_type": "code",
   "execution_count": 13,
   "metadata": {},
   "outputs": [
    {
     "data": {
      "image/png": "[encoded data removed]",
      "text/plain": [
       "<Figure size 864x576 with 2 Axes>"
      ]
     },
     "metadata": {},
     "output_type": "display_data"
    }
   ],
   "source": [
    "# create fft\n",
    "x, y, xf, yf = create_fft(df, y_name='b1_ch1', sample_freq=20480.0, window='kaiser', beta=3)\n",
    "\n",
    "# plot\n",
    "create_time_frequency_plot(x, y, xf, yf, save_plot=False)"
   ]
  },
  {
   "cell_type": "markdown",
   "metadata": {},
   "source": [
    "In their textbook, \"Analysis of Time Series Structure: SSA and Related Techniques\", Golyandina et al. discuss the process of applying singular value decomposition (SVD) to a time series. This method is called signular spectrum analysis (SSA).\n",
    "\n",
    "Here, we'll explore the SSA method in more detail by applying it to the time series of the bearing."
   ]
  },
  {
   "cell_type": "markdown",
   "metadata": {},
   "source": []
  }
 ],
 "metadata": {
  "kernelspec": {
   "display_name": "Python 3.8.12 ('featstore')",
   "language": "python",
   "name": "python3"
  },
  "language_info": {
   "codemirror_mode": {
    "name": "ipython",
    "version": 3
   },
   "file_extension": ".py",
   "mimetype": "text/x-python",
   "name": "python",
   "nbconvert_exporter": "python",
   "pygments_lexer": "ipython3",
   "version": "3.8.12"
  },
  "orig_nbformat": 4,
  "vscode": {
   "interpreter": {
    "hash": "daff1afd4d675d5e247c0a95a5de0c03bd87d8f7edee7cb37c539016070f1c16"
   }
  }
 },
 "nbformat": 4,
 "nbformat_minor": 2
}
