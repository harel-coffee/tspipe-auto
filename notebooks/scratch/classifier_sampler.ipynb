{
 "cells": [
  {
   "cell_type": "code",
   "execution_count": 1,
   "metadata": {},
   "outputs": [],
   "source": [
    "import numpy as np\n",
    "import pandas as pd\n",
    "from sklearn.model_selection import ParameterSampler\n",
    "from scipy.stats import randint as sp_randint\n",
    "from scipy.stats import uniform\n",
    "import re\n",
    "\n",
    "# sklearn classifiers\n",
    "from sklearn.neighbors import KNeighborsClassifier\n",
    "from sklearn.ensemble import RandomForestClassifier\n",
    "from sklearn.linear_model import LogisticRegression, SGDClassifier, RidgeClassifier\n",
    "from sklearn.svm import SVC\n",
    "from sklearn.naive_bayes import GaussianNB\n",
    "\n",
    "%load_ext autoreload\n",
    "%autoreload 2"
   ]
  },
  {
   "cell_type": "markdown",
   "metadata": {},
   "source": [
    "Need a class that creates all the parameters for the classifier and random search. Needs to be reproducible.\n",
    "\n",
    "Random search parameters:\n",
    "\n",
    "* random seed\n",
    "* number of iterations\n",
    "* under/over sampling method\n",
    "* imbalance ratio (for under/over sampling)\n",
    "* scaling method (e.g. standard scaling, or min/max, etc.)\n",
    "* features used\n",
    "    * how to repeatably select the appropriate features? Maybe randomly shuffle?\n",
    "    * use `random.choices` to select the features? Use `random.seed()` to set the seed.\n",
    "* number of features used\n",
    "* classifier used\n",
    "* data set used\n",
    "\n",
    "Dataset parameters (may be specific for dataset). Should probably store as a separate data card... For milling data set, parameters could be:\n",
    "\n",
    "* label meta-data (df_labels)\n",
    "* window size\n",
    "* stride\n",
    "* cut drop list\n",
    "\n",
    "Classifier parameters:\n",
    "* classifier\n",
    "* parameter sampler seed\n"
   ]
  },
  {
   "cell_type": "code",
   "execution_count": null,
   "metadata": {},
   "outputs": [],
   "source": [
    "# practice loading the datafram, selecting the column names, and randomly selecting n number of features (based on column names)\n",
    "\n"
   ]
  }
 ],
 "metadata": {
  "interpreter": {
   "hash": "daff1afd4d675d5e247c0a95a5de0c03bd87d8f7edee7cb37c539016070f1c16"
  },
  "kernelspec": {
   "display_name": "Python 3.8.12 64-bit ('featstore': conda)",
   "language": "python",
   "name": "python3"
  },
  "language_info": {
   "codemirror_mode": {
    "name": "ipython",
    "version": 3
   },
   "file_extension": ".py",
   "mimetype": "text/x-python",
   "name": "python",
   "nbconvert_exporter": "python",
   "pygments_lexer": "ipython3",
   "version": "3.8.12"
  },
  "orig_nbformat": 4
 },
 "nbformat": 4,
 "nbformat_minor": 2
}
