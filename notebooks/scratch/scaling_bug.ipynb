{
 "cells": [
  {
   "cell_type": "code",
   "execution_count": 5,
   "metadata": {},
   "outputs": [],
   "source": [
    "import pandas as pd\n",
    "import numpy as np\n",
    "from pathlib import Path\n",
    "from sklearn.preprocessing import StandardScaler, MinMaxScaler"
   ]
  },
  {
   "cell_type": "code",
   "execution_count": 37,
   "metadata": {},
   "outputs": [],
   "source": [
    "def scale_data(x_train, x_test, scaler_method=None):\n",
    "    if scaler_method == \"standard\":\n",
    "        print(\"scaling - standard\")\n",
    "        scaler = StandardScaler()\n",
    "        scaler.fit(x_train)\n",
    "        x_train = scaler.transform(x_train)\n",
    "        x_test = scaler.transform(x_test)\n",
    "    elif scaler_method == \"min_max\":\n",
    "        print(\"scaling - min/max\")\n",
    "        scaler = MinMaxScaler()\n",
    "        scaler.fit(x_train)\n",
    "        x_train = scaler.transform(x_train)\n",
    "        x_test = scaler.transform(x_test)\n",
    "    else:\n",
    "        pass\n",
    "    return x_train, x_test"
   ]
  },
  {
   "cell_type": "code",
   "execution_count": 42,
   "metadata": {},
   "outputs": [],
   "source": [
    "proj_dir = Path.cwd().parent.parent\n",
    "mill_feature_path = proj_dir / \"data/processed/milling/milling_features.csv.gz\"\n",
    "df = pd.read_csv(mill_feature_path, compression='gzip')\n",
    "\n",
    "feat_select = ['smcdc__kurtosis', 'smcac__kurtosis', 'vib_spindle__kurtosis', 'vib_table__kurtosis', 'ae_table__kurtosis']\n",
    "df = df[feat_select]"
   ]
  },
  {
   "cell_type": "code",
   "execution_count": 43,
   "metadata": {},
   "outputs": [
    {
     "name": "stdout",
     "output_type": "stream",
     "text": [
      "-1.602962837832389\n",
      "64.00000000001033\n",
      "-0.15646899002594622\n",
      "scaling - standard\n",
      "-2.774434338811687\n",
      "43.160167844831754\n",
      "2.1629485871625522e-16\n",
      "scaling - min/max\n",
      "0.0\n",
      "1.0\n"
     ]
    }
   ],
   "source": [
    "x_train = df.values\n",
    "x_test = df.values\n",
    "print(np.min(x_test))\n",
    "print(np.max(x_test))\n",
    "print(np.mean(x_test))\n",
    "\n",
    "x_train, x_test = scale_data(x_train, x_test, scaler_method=\"standard\")\n",
    "print(np.min(x_test))\n",
    "print(np.max(x_test))\n",
    "print(np.mean(x_test))\n",
    "\n",
    "x_train, x_test = scale_data(df, df, scaler_method=\"min_max\")\n",
    "print(np.min(x_test))\n",
    "print(np.max(x_test))"
   ]
  },
  {
   "cell_type": "code",
   "execution_count": 28,
   "metadata": {},
   "outputs": [
    {
     "data": {
      "text/plain": [
       "(11570, 5)"
      ]
     },
     "execution_count": 28,
     "metadata": {},
     "output_type": "execute_result"
    }
   ],
   "source": [
    "x_test.shape"
   ]
  },
  {
   "cell_type": "code",
   "execution_count": 29,
   "metadata": {},
   "outputs": [
    {
     "name": "stdout",
     "output_type": "stream",
     "text": [
      "scaling - standard\n"
     ]
    }
   ],
   "source": []
  },
  {
   "cell_type": "code",
   "execution_count": 30,
   "metadata": {},
   "outputs": [
    {
     "name": "stdout",
     "output_type": "stream",
     "text": [
      "-2.774434338811687\n",
      "43.160167844831754\n"
     ]
    }
   ],
   "source": [
    "print(np.min(x_test))\n",
    "print(np.max(x_test))\n"
   ]
  },
  {
   "cell_type": "code",
   "execution_count": null,
   "metadata": {},
   "outputs": [],
   "source": []
  }
 ],
 "metadata": {
  "interpreter": {
   "hash": "bb5c389ed065b0664b086eb1393fdb5729447cbf21b18fded646434c15c951b5"
  },
  "kernelspec": {
   "display_name": "Python 3.8.12 ('featstore')",
   "language": "python",
   "name": "python3"
  },
  "language_info": {
   "codemirror_mode": {
    "name": "ipython",
    "version": 3
   },
   "file_extension": ".py",
   "mimetype": "text/x-python",
   "name": "python",
   "nbconvert_exporter": "python",
   "pygments_lexer": "ipython3",
   "version": "3.8.12"
  },
  "orig_nbformat": 4
 },
 "nbformat": 4,
 "nbformat_minor": 2
}
