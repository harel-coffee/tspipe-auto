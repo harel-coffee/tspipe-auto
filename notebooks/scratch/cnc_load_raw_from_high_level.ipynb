{
 "cells": [
  {
   "cell_type": "code",
   "execution_count": 14,
   "metadata": {},
   "outputs": [
    {
     "name": "stdout",
     "output_type": "stream",
     "text": [
      "The autoreload extension is already loaded. To reload it, use:\n",
      "  %reload_ext autoreload\n"
     ]
    }
   ],
   "source": [
    "from pathlib import Path\n",
    "import pickle\n",
    "import numpy as np\n",
    "import pandas as pd\n",
    "import os\n",
    "import scipy.io as sio\n",
    "from src.dataprep.make_splits_cnc import extract_data_mat, extract_data_pickle, extract_data_csv, split_df\n",
    "\n",
    "%load_ext autoreload\n",
    "%autoreload 2"
   ]
  },
  {
   "cell_type": "code",
   "execution_count": 33,
   "metadata": {},
   "outputs": [
    {
     "name": "stdout",
     "output_type": "stream",
     "text": [
      "/home/tim/Documents/feat-store/data\n"
     ]
    },
    {
     "data": {
      "text/html": [
       "<div>\n",
       "<style scoped>\n",
       "    .dataframe tbody tr th:only-of-type {\n",
       "        vertical-align: middle;\n",
       "    }\n",
       "\n",
       "    .dataframe tbody tr th {\n",
       "        vertical-align: top;\n",
       "    }\n",
       "\n",
       "    .dataframe thead th {\n",
       "        text-align: right;\n",
       "    }\n",
       "</style>\n",
       "<table border=\"1\" class=\"dataframe\">\n",
       "  <thead>\n",
       "    <tr style=\"text-align: right;\">\n",
       "      <th></th>\n",
       "      <th>unix_date</th>\n",
       "      <th>date</th>\n",
       "      <th>cut_dir</th>\n",
       "      <th>part</th>\n",
       "      <th>file_name</th>\n",
       "      <th>tools</th>\n",
       "      <th>len_cut</th>\n",
       "      <th>no_points</th>\n",
       "      <th>signals_names</th>\n",
       "      <th>failed</th>\n",
       "      <th>failed_tools</th>\n",
       "      <th>comment</th>\n",
       "    </tr>\n",
       "  </thead>\n",
       "  <tbody>\n",
       "    <tr>\n",
       "      <th>0</th>\n",
       "      <td>1540298755</td>\n",
       "      <td>2018-10-23 08:45</td>\n",
       "      <td>/home/tim/Documents/Checkfluid-Project/data/ra...</td>\n",
       "      <td>KS-NPC-6FF</td>\n",
       "      <td>Data_KS-NPC-6FF_0.mat</td>\n",
       "      <td>1 3 5 8 11 13 15 17 21 22 23 32 36 37 54 57</td>\n",
       "      <td>177.0</td>\n",
       "      <td>177000</td>\n",
       "      <td>current_main current_sub cut_signal error_x er...</td>\n",
       "      <td>NaN</td>\n",
       "      <td>NaN</td>\n",
       "      <td>NaN</td>\n",
       "    </tr>\n",
       "    <tr>\n",
       "      <th>1</th>\n",
       "      <td>1540298934</td>\n",
       "      <td>2018-10-23 08:48</td>\n",
       "      <td>/home/tim/Documents/Checkfluid-Project/data/ra...</td>\n",
       "      <td>KS-NPC-6FF</td>\n",
       "      <td>Data_KS-NPC-6FF_1.mat</td>\n",
       "      <td>1 3 5 8 11 13 15 17 21 22 23 32 36 37 54 57</td>\n",
       "      <td>177.0</td>\n",
       "      <td>177000</td>\n",
       "      <td>current_main current_sub cut_signal error_x er...</td>\n",
       "      <td>NaN</td>\n",
       "      <td>NaN</td>\n",
       "      <td>NaN</td>\n",
       "    </tr>\n",
       "    <tr>\n",
       "      <th>2</th>\n",
       "      <td>1540299114</td>\n",
       "      <td>2018-10-23 08:51</td>\n",
       "      <td>/home/tim/Documents/Checkfluid-Project/data/ra...</td>\n",
       "      <td>KS-NPC-6FF</td>\n",
       "      <td>Data_KS-NPC-6FF_2.mat</td>\n",
       "      <td>1 3 5 8 11 13 15 17 21 22 23 32 36 37 54 57</td>\n",
       "      <td>177.0</td>\n",
       "      <td>177000</td>\n",
       "      <td>current_main current_sub cut_signal error_x er...</td>\n",
       "      <td>NaN</td>\n",
       "      <td>NaN</td>\n",
       "      <td>NaN</td>\n",
       "    </tr>\n",
       "    <tr>\n",
       "      <th>3</th>\n",
       "      <td>1540299293</td>\n",
       "      <td>2018-10-23 08:54</td>\n",
       "      <td>/home/tim/Documents/Checkfluid-Project/data/ra...</td>\n",
       "      <td>KS-NPC-6FF</td>\n",
       "      <td>Data_KS-NPC-6FF_3.mat</td>\n",
       "      <td>1 3 5 8 11 13 15 17 21 22 23 32 36 37 54 57</td>\n",
       "      <td>177.0</td>\n",
       "      <td>177000</td>\n",
       "      <td>current_main current_sub cut_signal error_x er...</td>\n",
       "      <td>NaN</td>\n",
       "      <td>NaN</td>\n",
       "      <td>NaN</td>\n",
       "    </tr>\n",
       "    <tr>\n",
       "      <th>4</th>\n",
       "      <td>1540299472</td>\n",
       "      <td>2018-10-23 08:57</td>\n",
       "      <td>/home/tim/Documents/Checkfluid-Project/data/ra...</td>\n",
       "      <td>KS-NPC-6FF</td>\n",
       "      <td>Data_KS-NPC-6FF_4.mat</td>\n",
       "      <td>1 3 5 8 11 13 15 17 21 22 23 32 36 37 54 57</td>\n",
       "      <td>177.0</td>\n",
       "      <td>177000</td>\n",
       "      <td>current_main current_sub cut_signal error_x er...</td>\n",
       "      <td>NaN</td>\n",
       "      <td>NaN</td>\n",
       "      <td>NaN</td>\n",
       "    </tr>\n",
       "  </tbody>\n",
       "</table>\n",
       "</div>"
      ],
      "text/plain": [
       "    unix_date              date  \\\n",
       "0  1540298755  2018-10-23 08:45   \n",
       "1  1540298934  2018-10-23 08:48   \n",
       "2  1540299114  2018-10-23 08:51   \n",
       "3  1540299293  2018-10-23 08:54   \n",
       "4  1540299472  2018-10-23 08:57   \n",
       "\n",
       "                                             cut_dir        part  \\\n",
       "0  /home/tim/Documents/Checkfluid-Project/data/ra...  KS-NPC-6FF   \n",
       "1  /home/tim/Documents/Checkfluid-Project/data/ra...  KS-NPC-6FF   \n",
       "2  /home/tim/Documents/Checkfluid-Project/data/ra...  KS-NPC-6FF   \n",
       "3  /home/tim/Documents/Checkfluid-Project/data/ra...  KS-NPC-6FF   \n",
       "4  /home/tim/Documents/Checkfluid-Project/data/ra...  KS-NPC-6FF   \n",
       "\n",
       "               file_name                                         tools  \\\n",
       "0  Data_KS-NPC-6FF_0.mat  1 3 5 8 11 13 15 17 21 22 23 32 36 37 54 57    \n",
       "1  Data_KS-NPC-6FF_1.mat  1 3 5 8 11 13 15 17 21 22 23 32 36 37 54 57    \n",
       "2  Data_KS-NPC-6FF_2.mat  1 3 5 8 11 13 15 17 21 22 23 32 36 37 54 57    \n",
       "3  Data_KS-NPC-6FF_3.mat  1 3 5 8 11 13 15 17 21 22 23 32 36 37 54 57    \n",
       "4  Data_KS-NPC-6FF_4.mat  1 3 5 8 11 13 15 17 21 22 23 32 36 37 54 57    \n",
       "\n",
       "   len_cut  no_points                                      signals_names  \\\n",
       "0    177.0     177000  current_main current_sub cut_signal error_x er...   \n",
       "1    177.0     177000  current_main current_sub cut_signal error_x er...   \n",
       "2    177.0     177000  current_main current_sub cut_signal error_x er...   \n",
       "3    177.0     177000  current_main current_sub cut_signal error_x er...   \n",
       "4    177.0     177000  current_main current_sub cut_signal error_x er...   \n",
       "\n",
       "   failed failed_tools comment  \n",
       "0     NaN          NaN     NaN  \n",
       "1     NaN          NaN     NaN  \n",
       "2     NaN          NaN     NaN  \n",
       "3     NaN          NaN     NaN  \n",
       "4     NaN          NaN     NaN  "
      ]
     },
     "execution_count": 33,
     "metadata": {},
     "output_type": "execute_result"
    }
   ],
   "source": [
    "path_data_dir = Path().cwd().parent.parent / \"data\"\n",
    "print(path_data_dir)\n",
    "\n",
    "df_labels = pd.read_csv(path_data_dir / \"processed/cnc/high_level_labels_MASTER_update2020-08-06_new-jan-may-data.csv\")\n",
    "df_labels.head()"
   ]
  },
  {
   "cell_type": "code",
   "execution_count": 38,
   "metadata": {},
   "outputs": [],
   "source": [
    "save_dir = Path().cwd() / \"splits_scratch\"\n",
    "\n",
    "file_list = [{\"file_path\": Path(cut_dir) / file_name, \"unix_date\": unix_date, \"save_dir\": save_dir} for cut_dir, file_name, unix_date in zip(df_labels.cut_dir, df_labels.file_name, df_labels.unix_date)]"
   ]
  },
  {
   "cell_type": "code",
   "execution_count": null,
   "metadata": {},
   "outputs": [],
   "source": [
    "save_dir = Path().cwd() / \"splits_scratch\"\n",
    "\n",
    "def load_cut_save_split(file_dict):\n",
    "    file_path = file_dict[\"file_path\"]\n",
    "    unix_date = file_dict[\"unix_date\"]\n",
    "\n",
    "    if file_path.suffix == \".mat\":\n",
    "        df, _ = extract_data_mat(sio.loadmat(cut_dir / file_name))\n",
    "    elif file_path.suffix == \".pickle\":\n",
    "        df, _ = extract_data_pickle(cut_dir / file_name)\n",
    "    elif file_path.suffix == \".csv\":\n",
    "        df, _ = extract_data_csv(cut_dir / file_name)\n",
    "    else:\n",
    "        print(\"File type not recognized for file:\", file_path)\n",
    "\n",
    "    dict_cuts = split_df(df, unix_date)\n",
    "\n",
    "    for k,v in dict_cuts.items():\n",
    "        pickle_out = open(save_dir / f\"{k}.pickle\", \"wb\")\n",
    "        pickle.dump(v, pickle_out)\n",
    "        pickle_out.close()"
   ]
  },
  {
   "cell_type": "code",
   "execution_count": 44,
   "metadata": {},
   "outputs": [
    {
     "name": "stdout",
     "output_type": "stream",
     "text": [
      "Starting split for:\t 1540298755\n",
      "Finished split for:\t 1540298755\n"
     ]
    }
   ],
   "source": [
    "i = 0\n",
    "cut_dir = Path(df_labels.iloc[i].cut_dir)\n",
    "file_name = df_labels.iloc[i].file_name\n",
    "unix_date = df_labels.iloc[i].unix_date\n",
    "file_path = Path(cut_dir) / file_name\n",
    "\n",
    "if file_path.suffix == \".mat\":\n",
    "    df, _ = extract_data_mat(sio.loadmat(cut_dir / file_name))\n",
    "elif file_path.suffix == \".pickle\":\n",
    "    df, _ = extract_data_pickle(cut_dir / file_name)\n",
    "elif file_path.suffix == \".csv\":\n",
    "    df, _ = extract_data_csv(cut_dir / file_name)\n",
    "else:\n",
    "    print(\"File type not recognized for file:\", file_path)\n",
    "\n",
    "dict_cuts = split_df(df, unix_date)\n",
    "\n",
    "for k,v in dict_cuts.items():\n",
    "    pickle_out = open(Path().cwd() / \"splits_scratch\" / f\"{k}.pickle\", \"wb\")\n",
    "    pickle.dump(v, pickle_out)\n",
    "    pickle_out.close()"
   ]
  },
  {
   "cell_type": "code",
   "execution_count": 42,
   "metadata": {},
   "outputs": [
    {
     "data": {
      "text/plain": [
       "'.mat'"
      ]
     },
     "execution_count": 42,
     "metadata": {},
     "output_type": "execute_result"
    }
   ],
   "source": [
    "f = cut_dir / file_name\n",
    "f.suffix\n"
   ]
  },
  {
   "cell_type": "code",
   "execution_count": 23,
   "metadata": {},
   "outputs": [
    {
     "data": {
      "text/plain": [
       "dict_keys(['1540298755_22_0', '1540298755_54_0', '1540298755_54_1', '1540298755_54_2', '1540298755_54_3', '1540298755_54_4', '1540298755_54_5', '1540298755_54_6', '1540298755_54_7', '1540298755_54_8', '1540298755_54_9', '1540298755_32_0', '1540298755_32_1', '1540298755_36_0', '1540298755_36_1', '1540298755_36_2', '1540298755_36_3', '1540298755_36_4', '1540298755_36_5', '1540298755_36_6', '1540298755_36_7', '1540298755_36_8', '1540298755_57_0', '1540298755_37_0', '1540298755_37_1', '1540298755_37_2', '1540298755_37_3', '1540298755_5_0', '1540298755_15_0', '1540298755_15_1', '1540298755_15_2', '1540298755_15_3', '1540298755_15_4', '1540298755_15_5', '1540298755_15_6', '1540298755_15_7', '1540298755_15_8', '1540298755_15_9', '1540298755_15_10', '1540298755_11_0', '1540298755_23_0', '1540298755_1_0', '1540298755_1_1', '1540298755_1_2', '1540298755_21_0', '1540298755_3_0', '1540298755_13_0', '1540298755_17_0', '1540298755_17_1', '1540298755_17_2', '1540298755_17_3', '1540298755_17_4', '1540298755_17_5', '1540298755_17_6', '1540298755_17_7', '1540298755_17_8', '1540298755_15_11', '1540298755_8_0', '1540298755_8_1', '1540298755_8_2'])"
      ]
     },
     "execution_count": 23,
     "metadata": {},
     "output_type": "execute_result"
    }
   ],
   "source": [
    "dict_cuts.keys()"
   ]
  },
  {
   "cell_type": "code",
   "execution_count": null,
   "metadata": {},
   "outputs": [],
   "source": []
  }
 ],
 "metadata": {
  "interpreter": {
   "hash": "daff1afd4d675d5e247c0a95a5de0c03bd87d8f7edee7cb37c539016070f1c16"
  },
  "kernelspec": {
   "display_name": "Python 3.8.12 ('featstore')",
   "language": "python",
   "name": "python3"
  },
  "language_info": {
   "codemirror_mode": {
    "name": "ipython",
    "version": 3
   },
   "file_extension": ".py",
   "mimetype": "text/x-python",
   "name": "python",
   "nbconvert_exporter": "python",
   "pygments_lexer": "ipython3",
   "version": "3.8.12"
  },
  "orig_nbformat": 4
 },
 "nbformat": 4,
 "nbformat_minor": 2
}
