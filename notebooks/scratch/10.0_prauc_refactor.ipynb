{
 "cells": [
  {
   "cell_type": "code",
   "execution_count": 1,
   "metadata": {},
   "outputs": [],
   "source": [
    "import numpy as np\n",
    "import pandas as pd\n",
    "from pathlib import Path\n",
    "import random\n",
    "import matplotlib.pyplot as plt\n",
    "import seaborn as sns\n",
    "from sklearn.metrics import (precision_recall_curve, PrecisionRecallDisplay, auc)\n",
    "import pickle\n",
    "from numpy.lib.stride_tricks import sliding_window_view\n",
    "from scipy import interpolate\n",
    "\n",
    "%load_ext autoreload\n",
    "%autoreload 2"
   ]
  },
  {
   "cell_type": "code",
   "execution_count": 2,
   "metadata": {},
   "outputs": [
    {
     "data": {
      "text/plain": [
       "[<matplotlib.lines.Line2D at 0x7ff3dfa4e100>]"
      ]
     },
     "execution_count": 2,
     "metadata": {},
     "output_type": "execute_result"
    },
    {
     "data": {
      "image/png": "[encoded data removed]",
      "text/plain": [
       "<Figure size 432x288 with 1 Axes>"
      ]
     },
     "metadata": {
      "needs_background": "light"
     },
     "output_type": "display_data"
    }
   ],
   "source": [
    "recalls = np.array([1,1,0.5, 0.3,0.1,0])\n",
    "precisions = np.array([0.04640719, 0.11654135, 0.2, 0.8, 1.0, 1.0])\n",
    "\n",
    "fig, ax = plt.subplots()\n",
    "ax.plot(recalls, precisions, drawstyle='steps-post')"
   ]
  },
  {
   "cell_type": "code",
   "execution_count": 3,
   "metadata": {},
   "outputs": [
    {
     "data": {
      "text/plain": [
       "[<matplotlib.lines.Line2D at 0x7ff3d794cd30>]"
      ]
     },
     "execution_count": 3,
     "metadata": {},
     "output_type": "execute_result"
    },
    {
     "data": {
      "image/png": "[encoded data removed]",
      "text/plain": [
       "<Figure size 432x288 with 1 Axes>"
      ]
     },
     "metadata": {
      "needs_background": "light"
     },
     "output_type": "display_data"
    }
   ],
   "source": [
    "x = recalls[::-1]\n",
    "y = precisions[::-1]\n",
    "f = interpolate.interp1d(x, y, kind='zero')\n",
    "\n",
    "xnew = np.linspace(0, 1, 100)\n",
    "ynew = f(xnew)\n",
    "\n",
    "fig, ax = plt.subplots()\n",
    "\n",
    "ax.plot(x, y, drawstyle='steps-post')\n",
    "ax.plot(xnew, ynew, drawstyle='steps-post')"
   ]
  },
  {
   "cell_type": "code",
   "execution_count": 24,
   "metadata": {},
   "outputs": [],
   "source": [
    "def interpolate_curves(x, y, x_axis_n=1000, mode=None):\n",
    "    if mode=='pr':\n",
    "        x = x[::-1]\n",
    "        y = y[::-1]\n",
    "    \n",
    "    f = interpolate.interp1d(x, y, kind='zero')\n",
    "\n",
    "    xnew = np.linspace(0, 1, x_axis_n)\n",
    "    ynew = f(xnew)\n",
    "\n",
    "    return xnew, ynew"
   ]
  },
  {
   "cell_type": "code",
   "execution_count": 27,
   "metadata": {},
   "outputs": [
    {
     "data": {
      "image/png": "[encoded data removed]",
      "text/plain": [
       "<Figure size 432x288 with 1 Axes>"
      ]
     },
     "metadata": {
      "needs_background": "light"
     },
     "output_type": "display_data"
    }
   ],
   "source": [
    "p = \"12545393_knn_2022-08-23-1431-29_cnc_model_metrics_dict.pkl\"\n",
    "# p= \"18600077_rf_2022-08-22-0739-49_cnc_model_metrics_dict.pkl\"\n",
    "\n",
    "with open(Path(p), \"rb\") as f:\n",
    "    m = pickle.load(f)\n",
    "\n",
    "precisions_interp = []\n",
    "recalls_interp = []\n",
    "\n",
    "fig, ax = plt.subplots()\n",
    "for r, p in zip(m[\"recalls_array\"], m[\"precisions_array\"]):\n",
    "    ax.plot(r, p, drawstyle='steps-post', color='grey')\n",
    "\n",
    "    r_interp, p_interp = interpolate_curves(r, p, x_axis_n=1000, mode='pr')\n",
    "\n",
    "    precisions_interp.append(p_interp)\n",
    "    recalls_interp.append(r_interp)\n",
    "\n",
    "    ax.plot(r_interp, p_interp, drawstyle='steps-post',)\n",
    "\n",
    "    # ax.plot(r_interp, p_interp, drawstyle='steps-post')\n",
    "\n",
    "    "
   ]
  },
  {
   "cell_type": "code",
   "execution_count": 23,
   "metadata": {},
   "outputs": [
    {
     "data": {
      "image/png": "[encoded data removed]",
      "text/plain": [
       "<Figure size 432x288 with 1 Axes>"
      ]
     },
     "metadata": {
      "needs_background": "light"
     },
     "output_type": "display_data"
    }
   ],
   "source": [
    "fig, ax = plt.subplots()\n",
    "\n",
    "for r_interp, p_interp in zip(recalls_interp, precisions_interp):\n",
    "    ax.plot(r_interp, p_interp, drawstyle='steps-post')\n"
   ]
  },
  {
   "cell_type": "code",
   "execution_count": 21,
   "metadata": {},
   "outputs": [
    {
     "data": {
      "text/plain": [
       "10"
      ]
     },
     "execution_count": 21,
     "metadata": {},
     "output_type": "execute_result"
    }
   ],
   "source": [
    "len(precisions_interp)"
   ]
  },
  {
   "cell_type": "code",
   "execution_count": 35,
   "metadata": {},
   "outputs": [
    {
     "data": {
      "text/plain": [
       "[<matplotlib.lines.Line2D at 0x7ff3cb10f1f0>]"
      ]
     },
     "execution_count": 35,
     "metadata": {},
     "output_type": "execute_result"
    },
    {
     "data": {
      "image/png": "[encoded data removed]",
      "text/plain": [
       "<Figure size 432x288 with 1 Axes>"
      ]
     },
     "metadata": {
      "needs_background": "light"
     },
     "output_type": "display_data"
    }
   ],
   "source": [
    "# load model_metrics_dict from pickle\n",
    "p = \"12545393_knn_2022-08-23-1431-29_cnc_model_metrics_dict.pkl\"\n",
    "# p= \"18600077_rf_2022-08-22-0739-49_cnc_model_metrics_dict.pkl\"\n",
    "\n",
    "\n",
    "with open(Path(p), \"rb\") as f:\n",
    "    m = pickle.load(f)\n",
    "\n",
    "i = 0\n",
    "precisions = m['precisions_array'][i]\n",
    "recalls = m['recalls_array'][i]\n",
    "\n",
    "fig, ax = plt.subplots()\n",
    "x = recalls\n",
    "y = precisions\n",
    "ax.plot(x, y, drawstyle='steps-post')\n",
    "\n",
    "x = recalls[::-1]\n",
    "y = precisions[::-1]\n",
    "\n",
    "# x = recalls\n",
    "# y = precisions\n",
    "f = interpolate.interp1d(x, y, kind='next')\n",
    "\n",
    "xnew = np.linspace(0, 1, 1000)\n",
    "ynew = f(xnew)\n",
    "\n",
    "ax.plot(xnew, ynew, drawstyle='steps-post', color='orange')"
   ]
  },
  {
   "cell_type": "code",
   "execution_count": 36,
   "metadata": {},
   "outputs": [],
   "source": [
    "def interpolate_curves(x, y, x_axis_n=1000, mode=None):\n",
    "    if mode=='pr':\n",
    "        x = x[::-1]\n",
    "        y = y[::-1]\n",
    "    \n",
    "    f = interpolate.interp1d(x, y, kind='next')\n",
    "\n",
    "    xnew = np.linspace(0, 1, x_axis_n)\n",
    "    ynew = f(xnew)\n",
    "\n",
    "    return xnew, ynew"
   ]
  },
  {
   "cell_type": "code",
   "execution_count": 37,
   "metadata": {},
   "outputs": [],
   "source": [
    "def plot_pr_roc_curves_kfolds(\n",
    "    precision_array,\n",
    "    recall_array,\n",
    "    fpr_array,\n",
    "    tpr_array,\n",
    "    rocauc_array,\n",
    "    prauc_array,\n",
    "    percent_anomalies_truth=0.073,\n",
    "    path_save_dir=None,\n",
    "    save_name=\"model_curves\",\n",
    "    save_plot=False,\n",
    "    dpi=300,\n",
    "):\n",
    "    \"\"\"\n",
    "    Plot the precision-recall curves and the ROC curves for the different k-folds used in\n",
    "    cross-validation. Also show the average PR and ROC curves.\n",
    "\n",
    "    :param precision_array: array of precision values for each k-fold\n",
    "    :param recall_array: array of recall values for each k-fold\n",
    "    :param fpr_array: array of false positive rate values for each k-fold\n",
    "    :param tpr_array: array of true positive rate values for each k-fold\n",
    "    :param rocauc_array: array of ROC AUC values for each k-fold\n",
    "    :param prauc_array: array of PR AUC values for each k-fold\n",
    "    :param percent_anomalies_truth: the percentage of anomalies in the dataset\n",
    "\n",
    "    \"\"\"\n",
    "\n",
    "    # sns whitegrid context\n",
    "    sns.set(style=\"whitegrid\", context=\"notebook\")\n",
    "    fig, axes = plt.subplots(1, 2, figsize=(12, 6), sharex=True, sharey=True, dpi=150)\n",
    "    fig.tight_layout(pad=5.0)\n",
    "\n",
    "    pal = sns.cubehelix_palette(6, rot=-0.25, light=0.7)\n",
    "\n",
    "    ######\n",
    "    # plot the precision recall curves\n",
    "    precisions_all_segmented = []\n",
    "    for p, r in zip(precision_array, recall_array):\n",
    "        r_adj, p_adj = interpolate_curves(r, p, x_axis_n=10000, mode='pr')\n",
    "        precisions_all_segmented.append(p_adj)\n",
    "\n",
    "    precisions_all_segmented = np.array(precisions_all_segmented)\n",
    "\n",
    "    for i, (p, r) in enumerate(zip(precision_array, recall_array)):\n",
    "        if i == np.shape(precision_array)[0] - 1:\n",
    "            axes[0].plot(\n",
    "                r[:], p[:], label=\"k-fold model\", color=\"grey\", alpha=0.5, linewidth=1, drawstyle='steps-post'\n",
    "            )\n",
    "        else:\n",
    "            axes[0].plot(r[:], p[:], color=\"grey\", alpha=0.5, linewidth=1, drawstyle='steps-post')\n",
    "\n",
    "    axes[0].plot(\n",
    "        r_adj,\n",
    "        precisions_all_segmented.mean(axis=0),\n",
    "        label=\"Average model\",\n",
    "        color=pal[5],\n",
    "        linewidth=2,\n",
    "        drawstyle='steps-post',\n",
    "    )\n",
    "\n",
    "    axes[0].plot(\n",
    "        np.array([0, 1]),\n",
    "        np.array([percent_anomalies_truth, percent_anomalies_truth]),\n",
    "        marker=\"\",\n",
    "        linestyle=\"--\",\n",
    "        label=\"No skill model\",\n",
    "        color=\"orange\",\n",
    "        linewidth=2,\n",
    "        zorder=0,\n",
    "    )\n",
    "\n",
    "    axes[0].legend()\n",
    "    axes[0].title.set_text(\"Precision-Recall Curve\")\n",
    "    axes[0].set_xlabel(\"Recall\")\n",
    "    axes[0].set_ylabel(\"Precision\")\n",
    "    axes[0].text(\n",
    "        x=-0.05,\n",
    "        y=-0.3,\n",
    "        s=f\"PR AUC: {prauc_array.mean():.3f} (avg), {prauc_array.min():.3f} (min), {prauc_array.max():.3f} (max)\",\n",
    "        # fontsize=10,\n",
    "        horizontalalignment=\"left\",\n",
    "        verticalalignment=\"center\",\n",
    "        rotation=\"horizontal\",\n",
    "        alpha=1,\n",
    "    )\n",
    "\n",
    "    ######\n",
    "    # plot the ROC curves\n",
    "    roc_all_segmented = []\n",
    "    for t, f in zip(tpr_array, fpr_array):\n",
    "        f_adj, t_adj = interpolate_curves(f, t, x_axis_n=10000)\n",
    "        roc_all_segmented.append(t_adj)\n",
    "\n",
    "    roc_all_segmented = np.array(roc_all_segmented)\n",
    "\n",
    "    for i, (t, f) in enumerate(zip(tpr_array, fpr_array)):\n",
    "        if i == np.shape(tpr_array)[0] - 1:\n",
    "            axes[1].plot(\n",
    "                f[:], t[:], label=\"k-fold models\", color=\"grey\", alpha=0.5, linewidth=1, drawstyle='steps-post'\n",
    "            )\n",
    "        else:\n",
    "            axes[1].plot(f[:], t[:], color=\"grey\", alpha=0.5, linewidth=1, drawstyle='steps-post')\n",
    "\n",
    "    axes[1].plot(\n",
    "        f_adj,\n",
    "        roc_all_segmented.mean(axis=0),\n",
    "        label=\"Average of k-folds\",\n",
    "        color=pal[5],\n",
    "        linewidth=2,\n",
    "        drawstyle='steps-post',\n",
    "    )\n",
    "\n",
    "    axes[1].plot(\n",
    "        np.array([0, 1]),\n",
    "        np.array([0, 1]),\n",
    "        marker=\"\",\n",
    "        linestyle=\"--\",\n",
    "        label=\"No skill\",\n",
    "        color=\"orange\",\n",
    "        linewidth=2,\n",
    "        zorder=0,\n",
    "    )\n",
    "\n",
    "    axes[1].title.set_text(\"ROC Curve\")\n",
    "    axes[1].set_xlabel(\"False Positive Rate\")\n",
    "    axes[1].set_ylabel(\"True Positive Rate\")\n",
    "    axes[1].text(\n",
    "        x=-0.05,\n",
    "        y=-0.3,\n",
    "        s=f\"ROC AUC: {rocauc_array.mean():.3f} (avg), {rocauc_array.min():.3f} (min), {rocauc_array.max():.3f} (max)\",\n",
    "        # fontsize=10,\n",
    "        horizontalalignment=\"left\",\n",
    "        verticalalignment=\"center\",\n",
    "        rotation=\"horizontal\",\n",
    "        alpha=1,\n",
    "    )\n",
    "\n",
    "    for ax in axes.flatten():\n",
    "        ax.yaxis.set_tick_params(labelleft=True, which=\"major\")\n",
    "        ax.grid(False)\n",
    "\n",
    "    if save_plot:\n",
    "        if path_save_dir is None:\n",
    "            path_save_dir = \"./\"\n",
    "\n",
    "        # save as both png and pdf\n",
    "        plt.savefig(path_save_dir / f\"{save_name}.png\", dpi=dpi, bbox_inches=\"tight\")\n",
    "        plt.savefig(path_save_dir / f\"{save_name}.pdf\", bbox_inches=\"tight\")\n",
    "        plt.cla()\n",
    "        plt.close()\n",
    "    else:\n",
    "        plt.show()\n",
    "\n",
    "    return r_adj, precisions_all_segmented"
   ]
  },
  {
   "cell_type": "code",
   "execution_count": 41,
   "metadata": {},
   "outputs": [
    {
     "data": {
      "image/png": "[encoded data removed]",
      "text/plain": [
       "<Figure size 1800x900 with 2 Axes>"
      ]
     },
     "metadata": {},
     "output_type": "display_data"
    }
   ],
   "source": [
    "p= \"18600077_rf_2022-08-22-0739-49_cnc_model_metrics_dict.pkl\"\n",
    "# p = \"12545393_knn_2022-08-23-1431-29_cnc_model_metrics_dict.pkl\"\n",
    "with open(Path(p), \"rb\") as f:\n",
    "    model_metrics_dict = pickle.load(f)\n",
    "\n",
    "r_adj, precisions_all_segmented = plot_pr_roc_curves_kfolds(\n",
    "                model_metrics_dict[\"precisions_array\"],\n",
    "                model_metrics_dict[\"recalls_array\"],\n",
    "                model_metrics_dict[\"fpr_array\"],\n",
    "                model_metrics_dict[\"tpr_array\"],\n",
    "                model_metrics_dict[\"rocauc_array\"],\n",
    "                model_metrics_dict[\"prauc_array\"],\n",
    "                percent_anomalies_truth=0.026,\n",
    "                save_name=f\"curve_{id}\",\n",
    "                save_plot=False,\n",
    "                dpi=300,\n",
    "            )"
   ]
  },
  {
   "cell_type": "code",
   "execution_count": 264,
   "metadata": {},
   "outputs": [
    {
     "data": {
      "text/plain": [
       "array([1.        , 1.        , 1.        , ..., 1.        , 1.        ,\n",
       "       0.05506217])"
      ]
     },
     "execution_count": 264,
     "metadata": {},
     "output_type": "execute_result"
    }
   ],
   "source": [
    "precisions_all_segmented[8]"
   ]
  },
  {
   "cell_type": "code",
   "execution_count": 258,
   "metadata": {},
   "outputs": [
    {
     "data": {
      "text/plain": [
       "array([0.00000000e+00, 1.00010001e-04, 2.00020002e-04, ...,\n",
       "       9.99799980e-01, 9.99899990e-01, 1.00000000e+00])"
      ]
     },
     "execution_count": 258,
     "metadata": {},
     "output_type": "execute_result"
    }
   ],
   "source": [
    "r_adj"
   ]
  },
  {
   "cell_type": "code",
   "execution_count": 185,
   "metadata": {},
   "outputs": [
    {
     "name": "stdout",
     "output_type": "stream",
     "text": [
      "[0.         0.16666667] [4 5]\n",
      "[0.16666667 0.33333333] [3]\n",
      "[0.33333333 0.5       ] [2]\n",
      "[0.5        0.66666667] [2]\n",
      "[0.66666667 0.83333333] []\n",
      "[0.83333333 1.        ] [0 1]\n"
     ]
    }
   ],
   "source": [
    "x = recalls\n",
    "y = precisions\n",
    "x_axis_n = 7\n",
    "for i in sliding_window_view(np.linspace(0, 1, x_axis_n), 2):\n",
    "    window_segment = np.where((x >= i[0]) & (x <= i[1]))[0]\n",
    "    print(i, window_segment)"
   ]
  },
  {
   "cell_type": "code",
   "execution_count": 168,
   "metadata": {},
   "outputs": [],
   "source": [
    "x = recalls\n",
    "y = precisions\n",
    "x_axis_n = 10\n",
    "\n",
    "\n",
    "x_adj = list(x[:2])  # y values, adjusted\n",
    "y_adj = list(y[:2])  # x values, adjusted\n",
    "\n",
    "# y_adj = []  # y values, adjusted\n",
    "# x_adj = []  # x values, adjusted\n",
    "\n",
    "for i in sliding_window_view(np.linspace(0, 1, x_axis_n+1), 2)[::-1]:\n",
    "    window_segment = np.where((x >= i[0]) & (x <= i[1]))[0]\n",
    "    # print(window_segment)\n",
    "\n",
    "\n",
    "    # if there are no values in the window, then\n",
    "    # use the last precision value in the window\n",
    "    if len(window_segment) == 0:\n",
    "        x_adj.append(np.mean(i))\n",
    "        y_adj.append(y_adj[-1])\n",
    "    else:\n",
    "        x_adj.append(np.mean(i))\n",
    "        y_adj.append(np.max(y[window_segment]))\n",
    "\n",
    "x_adj.extend(list(x[-2:]))\n",
    "y_adj.extend(list(y[-2:]))"
   ]
  },
  {
   "cell_type": "code",
   "execution_count": 169,
   "metadata": {},
   "outputs": [
    {
     "name": "stdout",
     "output_type": "stream",
     "text": [
      "[1.0, 1.0, 0.95, 0.8500000000000001, 0.75, 0.6500000000000001, 0.55, 0.45, 0.35000000000000003, 0.25, 0.15000000000000002, 0.05, 0.1, 0.0]\n",
      "[0.04640719, 0.11654135, 0.11654135, 0.11654135, 0.11654135, 0.11654135, 0.8, 0.8, 0.8, 0.8, 1.0, 1.0, 1.0, 1.0]\n"
     ]
    }
   ],
   "source": [
    "print(x_adj)\n",
    "print(y_adj)"
   ]
  },
  {
   "cell_type": "code",
   "execution_count": 170,
   "metadata": {},
   "outputs": [
    {
     "data": {
      "text/plain": [
       "[<matplotlib.lines.Line2D at 0x7f04a8e3e910>]"
      ]
     },
     "execution_count": 170,
     "metadata": {},
     "output_type": "execute_result"
    },
    {
     "data": {
      "image/png": "[encoded data removed]",
      "text/plain": [
       "<Figure size 432x288 with 1 Axes>"
      ]
     },
     "metadata": {
      "needs_background": "light"
     },
     "output_type": "display_data"
    }
   ],
   "source": [
    "fig, ax = plt.subplots()\n",
    "\n",
    "ax.plot(recalls, precisions, drawstyle='steps-post')\n",
    "ax.plot(x_adj, y_adj, drawstyle='steps-post')"
   ]
  },
  {
   "cell_type": "code",
   "execution_count": 174,
   "metadata": {},
   "outputs": [],
   "source": [
    "def segment_line_by_sliding_window(x, y, x_axis_n=1000):\n",
    "\n",
    "    # x_adj = list(x[:2])  # y values, adjusted\n",
    "    # y_adj = list(y[:2])  # x values, adjusted\n",
    "\n",
    "    x_adj = []  # x values, adjusted\n",
    "    y_adj = []  # y values, adjusted\n",
    "\n",
    "\n",
    "    for i in sliding_window_view(np.linspace(0, 1, x_axis_n+1), 2)[::-1]:\n",
    "        window_segment = np.where((x >= i[0]) & (x <= i[1]))[0]\n",
    "        # print(window_segment)\n",
    "\n",
    "\n",
    "        # if there are no values in the window, then\n",
    "        # use the last precision value in the window\n",
    "        if len(window_segment) == 0:\n",
    "            x_adj.append(np.mean(i))\n",
    "            y_adj.append(y_adj[-1])\n",
    "        else:\n",
    "            x_adj.append(np.mean(i))\n",
    "            y_adj.append(np.max(y[window_segment]))\n",
    "\n",
    "    # x_adj.extend(list(x[-2:]))\n",
    "    # y_adj.extend(list(y[-2:]))\n",
    "\n",
    "    return np.array(x_adj), np.array(y_adj)"
   ]
  },
  {
   "cell_type": "code",
   "execution_count": 175,
   "metadata": {},
   "outputs": [],
   "source": [
    "# load model_metrics_dict from pickle \"12545393_knn_2022-08-23-1431-29_cnc_model_metrics_dict.pkl\"\n",
    "with open(Path(\"./12545393_knn_2022-08-23-1431-29_cnc_model_metrics_dict.pkl\"), \"rb\") as f:\n",
    "    m = pickle.load(f)"
   ]
  },
  {
   "cell_type": "code",
   "execution_count": 176,
   "metadata": {},
   "outputs": [
    {
     "data": {
      "text/plain": [
       "[<matplotlib.lines.Line2D at 0x7f04a8dac040>]"
      ]
     },
     "execution_count": 176,
     "metadata": {},
     "output_type": "execute_result"
    },
    {
     "data": {
      "image/png": "[encoded data removed]",
      "text/plain": [
       "<Figure size 432x288 with 1 Axes>"
      ]
     },
     "metadata": {
      "needs_background": "light"
     },
     "output_type": "display_data"
    }
   ],
   "source": [
    "i = 4\n",
    "precisions = m['precisions_array'][i]\n",
    "recalls = m['recalls_array'][i]\n",
    "\n",
    "fig, ax = plt.subplots()\n",
    "ax.plot(recalls, precisions, drawstyle='steps-post')"
   ]
  },
  {
   "cell_type": "code",
   "execution_count": 163,
   "metadata": {},
   "outputs": [
    {
     "data": {
      "text/plain": [
       "[<matplotlib.lines.Line2D at 0x7f04a8f1bdf0>]"
      ]
     },
     "execution_count": 163,
     "metadata": {},
     "output_type": "execute_result"
    },
    {
     "data": {
      "image/png": "[encoded data removed]",
      "text/plain": [
       "<Figure size 432x288 with 1 Axes>"
      ]
     },
     "metadata": {
      "needs_background": "light"
     },
     "output_type": "display_data"
    }
   ],
   "source": [
    "r_adj, p_adj = segment_line_by_sliding_window(recalls, precisions, x_axis_n=10)\n",
    "fig, ax = plt.subplots()\n",
    "ax.plot(r_adj, p_adj, drawstyle='steps-post')"
   ]
  },
  {
   "cell_type": "code",
   "execution_count": null,
   "metadata": {},
   "outputs": [],
   "source": []
  },
  {
   "cell_type": "code",
   "execution_count": 10,
   "metadata": {},
   "outputs": [
    {
     "data": {
      "text/plain": [
       "dict_keys(['precisions_array', 'recalls_array', 'precision_score_array', 'recall_score_array', 'fpr_array', 'tpr_array', 'prauc_array', 'rocauc_array', 'f1_score_array', 'mcc_array', 'n_thresholds_array', 'accuracy_array', 'unique_grouping', 'confusion_matrix', 'df_feat_imp'])"
      ]
     },
     "execution_count": 10,
     "metadata": {},
     "output_type": "execute_result"
    }
   ],
   "source": [
    "m.keys()"
   ]
  },
  {
   "cell_type": "code",
   "execution_count": 27,
   "metadata": {},
   "outputs": [],
   "source": []
  },
  {
   "cell_type": "code",
   "execution_count": 31,
   "metadata": {},
   "outputs": [
    {
     "name": "stdout",
     "output_type": "stream",
     "text": [
      "0.9401568292715833\n"
     ]
    },
    {
     "data": {
      "image/png": "[encoded data removed]",
      "text/plain": [
       "<Figure size 432x288 with 1 Axes>"
      ]
     },
     "metadata": {
      "needs_background": "light"
     },
     "output_type": "display_data"
    }
   ],
   "source": [
    "precisions = m['precisions_array'][4]\n",
    "recalls = m['recalls_array'][4]\n",
    "\n",
    "print(auc(recalls, precisions))\n",
    "\n",
    "disp = PrecisionRecallDisplay(precision=precisions, recall=recalls)\n",
    "disp.plot()\n",
    "plt.show()"
   ]
  },
  {
   "cell_type": "code",
   "execution_count": 48,
   "metadata": {},
   "outputs": [
    {
     "data": {
      "text/plain": [
       "[<matplotlib.lines.Line2D at 0x7f89b4118190>]"
      ]
     },
     "execution_count": 48,
     "metadata": {},
     "output_type": "execute_result"
    },
    {
     "data": {
      "image/png": "[encoded data removed]",
      "text/plain": [
       "<Figure size 432x288 with 1 Axes>"
      ]
     },
     "metadata": {
      "needs_background": "light"
     },
     "output_type": "display_data"
    }
   ],
   "source": [
    "line_kwargs = {\"drawstyle\": \"steps-post\"}\n",
    "\n",
    "fig, ax = plt.subplots()\n",
    "ax.plot(recalls, precisions, drawstyle='steps-post')"
   ]
  },
  {
   "cell_type": "code",
   "execution_count": 127,
   "metadata": {},
   "outputs": [],
   "source": []
  },
  {
   "cell_type": "code",
   "execution_count": 128,
   "metadata": {},
   "outputs": [
    {
     "data": {
      "text/plain": [
       "[<matplotlib.lines.Line2D at 0x7f89b41f8490>]"
      ]
     },
     "execution_count": 128,
     "metadata": {},
     "output_type": "execute_result"
    },
    {
     "data": {
      "image/png": "[encoded data removed]",
      "text/plain": [
       "<Figure size 432x288 with 1 Axes>"
      ]
     },
     "metadata": {
      "needs_background": "light"
     },
     "output_type": "display_data"
    }
   ],
   "source": [
    "fig, ax = plt.subplots()\n",
    "ax.plot(recalls, precisions, drawstyle='steps-post')"
   ]
  },
  {
   "cell_type": "code",
   "execution_count": 124,
   "metadata": {},
   "outputs": [
    {
     "data": {
      "text/plain": [
       "array([0, 1])"
      ]
     },
     "execution_count": 124,
     "metadata": {},
     "output_type": "execute_result"
    }
   ],
   "source": [
    "window_segment"
   ]
  },
  {
   "cell_type": "code",
   "execution_count": 118,
   "metadata": {},
   "outputs": [],
   "source": [
    "def segment_line_by_sliding_window(x, y, x_axis_n=1000):\n",
    "\n",
    "    y_adj = []  # y values, adjusted\n",
    "    x_adj = []  # x values, adjusted\n",
    "\n",
    "    x = x[::-1]\n",
    "    y = y[::-1]\n",
    "    # break the x-axis up by moving a sliding window along it\n",
    "    for j, i in enumerate(sliding_window_view(np.linspace(0, 1, x_axis_n), 2)):\n",
    "        window_segment = np.where((x >= i[0]) & (x <= i[1]))[0]\n",
    "\n",
    "        # if there are no values in the window, then\n",
    "        # use the last precision value in the window\n",
    "        if len(window_segment) == 0:\n",
    "            x_adj.append(np.mean(i))\n",
    "            y_adj.append(y_adj[-1])\n",
    "        else:\n",
    "            x_adj.append(np.mean(i))\n",
    "            y_adj.append(np.min(y[window_segment]))\n",
    "\n",
    "    return np.array(x_adj), np.array(y_adj)"
   ]
  },
  {
   "cell_type": "code",
   "execution_count": 119,
   "metadata": {},
   "outputs": [
    {
     "data": {
      "text/plain": [
       "[<matplotlib.lines.Line2D at 0x7f89b37134f0>]"
      ]
     },
     "execution_count": 119,
     "metadata": {},
     "output_type": "execute_result"
    },
    {
     "data": {
      "image/png": "[encoded data removed]",
      "text/plain": [
       "<Figure size 432x288 with 1 Axes>"
      ]
     },
     "metadata": {
      "needs_background": "light"
     },
     "output_type": "display_data"
    }
   ],
   "source": [
    "r_adj, p_adj = segment_line_by_sliding_window(recalls, precisions, x_axis_n=10)\n",
    "fig, ax = plt.subplots()\n",
    "ax.plot(r_adj, p_adj, drawstyle='steps-post')"
   ]
  },
  {
   "cell_type": "code",
   "execution_count": 122,
   "metadata": {},
   "outputs": [
    {
     "name": "stdout",
     "output_type": "stream",
     "text": [
      "[3 4]\n",
      "[]\n",
      "[]\n",
      "[]\n",
      "[]\n",
      "[]\n",
      "[]\n",
      "[]\n",
      "[]\n",
      "[]\n",
      "[]\n",
      "[]\n",
      "[]\n",
      "[]\n",
      "[]\n",
      "[]\n",
      "[]\n",
      "[]\n",
      "[]\n",
      "[]\n",
      "[]\n",
      "[]\n",
      "[]\n",
      "[]\n",
      "[]\n",
      "[]\n",
      "[]\n",
      "[]\n",
      "[]\n",
      "[]\n",
      "[]\n",
      "[]\n",
      "[]\n",
      "[]\n",
      "[]\n",
      "[]\n",
      "[]\n",
      "[]\n",
      "[]\n",
      "[]\n",
      "[]\n",
      "[]\n",
      "[]\n",
      "[]\n",
      "[]\n",
      "[]\n",
      "[]\n",
      "[]\n",
      "[]\n",
      "[]\n",
      "[]\n",
      "[]\n",
      "[]\n",
      "[]\n",
      "[]\n",
      "[]\n",
      "[]\n",
      "[]\n",
      "[]\n",
      "[]\n",
      "[]\n",
      "[]\n",
      "[]\n",
      "[]\n",
      "[]\n",
      "[]\n",
      "[]\n",
      "[]\n",
      "[]\n",
      "[]\n",
      "[]\n",
      "[]\n",
      "[]\n",
      "[]\n",
      "[]\n",
      "[]\n",
      "[]\n",
      "[]\n",
      "[]\n",
      "[]\n",
      "[]\n",
      "[]\n",
      "[]\n",
      "[]\n",
      "[]\n",
      "[]\n",
      "[]\n",
      "[]\n",
      "[]\n",
      "[]\n",
      "[]\n",
      "[]\n",
      "[]\n",
      "[]\n",
      "[]\n",
      "[]\n",
      "[]\n",
      "[]\n",
      "[]\n",
      "[]\n",
      "[]\n",
      "[]\n",
      "[]\n",
      "[]\n",
      "[]\n",
      "[]\n",
      "[]\n",
      "[]\n",
      "[]\n",
      "[]\n",
      "[]\n",
      "[]\n",
      "[]\n",
      "[]\n",
      "[]\n",
      "[]\n",
      "[]\n",
      "[]\n",
      "[]\n",
      "[]\n",
      "[]\n",
      "[]\n",
      "[]\n",
      "[]\n",
      "[]\n",
      "[]\n",
      "[]\n",
      "[]\n",
      "[]\n",
      "[]\n",
      "[]\n",
      "[]\n",
      "[]\n",
      "[]\n",
      "[]\n",
      "[]\n",
      "[]\n",
      "[]\n",
      "[]\n",
      "[]\n",
      "[]\n",
      "[]\n",
      "[]\n",
      "[]\n",
      "[]\n",
      "[]\n",
      "[]\n",
      "[]\n",
      "[]\n",
      "[]\n",
      "[]\n",
      "[]\n",
      "[]\n",
      "[]\n",
      "[]\n",
      "[]\n",
      "[]\n",
      "[]\n",
      "[]\n",
      "[]\n",
      "[]\n",
      "[]\n",
      "[]\n",
      "[]\n",
      "[]\n",
      "[]\n",
      "[]\n",
      "[]\n",
      "[]\n",
      "[]\n",
      "[]\n",
      "[]\n",
      "[]\n",
      "[]\n",
      "[]\n",
      "[]\n",
      "[]\n",
      "[]\n",
      "[]\n",
      "[]\n",
      "[]\n",
      "[]\n",
      "[]\n",
      "[]\n",
      "[]\n",
      "[]\n",
      "[]\n",
      "[]\n",
      "[]\n",
      "[]\n",
      "[]\n",
      "[]\n",
      "[]\n",
      "[]\n",
      "[]\n",
      "[]\n",
      "[]\n",
      "[]\n",
      "[]\n",
      "[]\n",
      "[]\n",
      "[]\n",
      "[]\n",
      "[]\n",
      "[]\n",
      "[]\n",
      "[]\n",
      "[]\n",
      "[]\n",
      "[]\n",
      "[]\n",
      "[]\n",
      "[]\n",
      "[]\n",
      "[]\n",
      "[]\n",
      "[]\n",
      "[]\n",
      "[]\n",
      "[]\n",
      "[]\n",
      "[]\n",
      "[]\n",
      "[]\n",
      "[]\n",
      "[]\n",
      "[]\n",
      "[]\n",
      "[]\n",
      "[]\n",
      "[]\n",
      "[]\n",
      "[]\n",
      "[]\n",
      "[]\n",
      "[]\n",
      "[]\n",
      "[]\n",
      "[]\n",
      "[]\n",
      "[]\n",
      "[]\n",
      "[]\n",
      "[]\n",
      "[]\n",
      "[]\n",
      "[]\n",
      "[]\n",
      "[]\n",
      "[]\n",
      "[]\n",
      "[]\n",
      "[]\n",
      "[]\n",
      "[]\n",
      "[]\n",
      "[]\n",
      "[]\n",
      "[]\n",
      "[]\n",
      "[]\n",
      "[]\n",
      "[]\n",
      "[]\n",
      "[]\n",
      "[]\n",
      "[]\n",
      "[]\n",
      "[]\n",
      "[]\n",
      "[]\n",
      "[]\n",
      "[]\n",
      "[]\n",
      "[]\n",
      "[]\n",
      "[]\n",
      "[]\n",
      "[]\n",
      "[]\n",
      "[]\n",
      "[]\n",
      "[]\n",
      "[]\n",
      "[]\n",
      "[]\n",
      "[]\n",
      "[]\n",
      "[]\n",
      "[]\n",
      "[]\n",
      "[]\n",
      "[]\n",
      "[]\n",
      "[]\n",
      "[]\n",
      "[]\n",
      "[]\n",
      "[]\n",
      "[]\n",
      "[]\n",
      "[]\n",
      "[]\n",
      "[]\n",
      "[]\n",
      "[]\n",
      "[]\n",
      "[]\n",
      "[]\n",
      "[]\n",
      "[]\n",
      "[]\n",
      "[]\n",
      "[]\n",
      "[]\n",
      "[]\n",
      "[]\n",
      "[]\n",
      "[]\n",
      "[]\n",
      "[]\n",
      "[]\n",
      "[]\n",
      "[]\n",
      "[]\n",
      "[]\n",
      "[]\n",
      "[]\n",
      "[]\n",
      "[]\n",
      "[]\n",
      "[]\n",
      "[]\n",
      "[]\n",
      "[]\n",
      "[]\n",
      "[]\n",
      "[]\n",
      "[]\n",
      "[]\n",
      "[]\n",
      "[]\n",
      "[]\n",
      "[]\n",
      "[]\n",
      "[]\n",
      "[]\n",
      "[]\n",
      "[]\n",
      "[]\n",
      "[]\n",
      "[]\n",
      "[]\n",
      "[]\n",
      "[]\n",
      "[]\n",
      "[]\n",
      "[]\n",
      "[]\n",
      "[]\n",
      "[]\n",
      "[]\n",
      "[]\n",
      "[]\n",
      "[]\n",
      "[]\n",
      "[]\n",
      "[]\n",
      "[]\n",
      "[]\n",
      "[]\n",
      "[]\n",
      "[]\n",
      "[]\n",
      "[]\n",
      "[]\n",
      "[]\n",
      "[]\n",
      "[]\n",
      "[]\n",
      "[]\n",
      "[]\n",
      "[]\n",
      "[]\n",
      "[]\n",
      "[]\n",
      "[]\n",
      "[]\n",
      "[]\n",
      "[]\n",
      "[]\n",
      "[]\n",
      "[]\n",
      "[]\n",
      "[]\n",
      "[]\n",
      "[]\n",
      "[]\n",
      "[]\n",
      "[]\n",
      "[]\n",
      "[]\n",
      "[]\n",
      "[]\n",
      "[]\n",
      "[]\n",
      "[]\n",
      "[]\n",
      "[]\n",
      "[]\n",
      "[]\n",
      "[]\n",
      "[]\n",
      "[]\n",
      "[]\n",
      "[]\n",
      "[]\n",
      "[]\n",
      "[]\n",
      "[]\n",
      "[]\n",
      "[]\n",
      "[]\n",
      "[]\n",
      "[]\n",
      "[]\n",
      "[]\n",
      "[]\n",
      "[]\n",
      "[]\n",
      "[]\n",
      "[]\n",
      "[]\n",
      "[]\n",
      "[]\n",
      "[]\n",
      "[]\n",
      "[]\n",
      "[]\n",
      "[]\n",
      "[]\n",
      "[]\n",
      "[]\n",
      "[]\n",
      "[]\n",
      "[]\n",
      "[]\n",
      "[]\n",
      "[]\n",
      "[]\n",
      "[]\n",
      "[]\n",
      "[]\n",
      "[]\n",
      "[]\n",
      "[]\n",
      "[]\n",
      "[]\n",
      "[]\n",
      "[]\n",
      "[]\n",
      "[]\n",
      "[]\n",
      "[]\n",
      "[]\n",
      "[]\n",
      "[]\n",
      "[]\n",
      "[]\n",
      "[]\n",
      "[]\n",
      "[]\n",
      "[]\n",
      "[]\n",
      "[]\n",
      "[]\n",
      "[]\n",
      "[]\n",
      "[]\n",
      "[]\n",
      "[]\n",
      "[]\n",
      "[]\n",
      "[]\n",
      "[]\n",
      "[]\n",
      "[]\n",
      "[]\n",
      "[]\n",
      "[]\n",
      "[]\n",
      "[]\n",
      "[]\n",
      "[]\n",
      "[]\n",
      "[]\n",
      "[]\n",
      "[]\n",
      "[]\n",
      "[2]\n",
      "[]\n",
      "[]\n",
      "[]\n",
      "[]\n",
      "[]\n",
      "[]\n",
      "[]\n",
      "[]\n",
      "[]\n",
      "[]\n",
      "[]\n",
      "[]\n",
      "[]\n",
      "[]\n",
      "[]\n",
      "[]\n",
      "[]\n",
      "[]\n",
      "[]\n",
      "[]\n",
      "[]\n",
      "[]\n",
      "[]\n",
      "[]\n",
      "[]\n",
      "[]\n",
      "[]\n",
      "[]\n",
      "[]\n",
      "[]\n",
      "[]\n",
      "[]\n",
      "[]\n",
      "[]\n",
      "[]\n",
      "[]\n",
      "[]\n",
      "[]\n",
      "[]\n",
      "[]\n",
      "[]\n",
      "[]\n",
      "[]\n",
      "[]\n",
      "[]\n",
      "[]\n",
      "[]\n",
      "[]\n",
      "[]\n",
      "[]\n",
      "[]\n",
      "[]\n",
      "[]\n",
      "[]\n",
      "[]\n",
      "[]\n",
      "[]\n",
      "[]\n",
      "[]\n",
      "[]\n",
      "[]\n",
      "[]\n",
      "[]\n",
      "[]\n",
      "[]\n",
      "[]\n",
      "[]\n",
      "[]\n",
      "[]\n",
      "[]\n",
      "[]\n",
      "[]\n",
      "[]\n",
      "[]\n",
      "[]\n",
      "[]\n",
      "[]\n",
      "[]\n",
      "[]\n",
      "[]\n",
      "[]\n",
      "[]\n",
      "[]\n",
      "[]\n",
      "[]\n",
      "[]\n",
      "[]\n",
      "[]\n",
      "[]\n",
      "[]\n",
      "[]\n",
      "[]\n",
      "[]\n",
      "[]\n",
      "[]\n",
      "[]\n",
      "[]\n",
      "[]\n",
      "[]\n",
      "[]\n",
      "[]\n",
      "[]\n",
      "[]\n",
      "[]\n",
      "[]\n",
      "[]\n",
      "[]\n",
      "[]\n",
      "[]\n",
      "[]\n",
      "[]\n",
      "[]\n",
      "[]\n",
      "[]\n",
      "[]\n",
      "[]\n",
      "[]\n",
      "[]\n",
      "[]\n",
      "[]\n",
      "[]\n",
      "[]\n",
      "[]\n",
      "[]\n",
      "[]\n",
      "[]\n",
      "[]\n",
      "[]\n",
      "[]\n",
      "[]\n",
      "[]\n",
      "[]\n",
      "[]\n",
      "[]\n",
      "[]\n",
      "[]\n",
      "[]\n",
      "[]\n",
      "[]\n",
      "[]\n",
      "[]\n",
      "[]\n",
      "[]\n",
      "[]\n",
      "[]\n",
      "[]\n",
      "[]\n",
      "[]\n",
      "[]\n",
      "[]\n",
      "[]\n",
      "[]\n",
      "[]\n",
      "[]\n",
      "[]\n",
      "[]\n",
      "[]\n",
      "[]\n",
      "[]\n",
      "[]\n",
      "[]\n",
      "[]\n",
      "[]\n",
      "[]\n",
      "[]\n",
      "[]\n",
      "[]\n",
      "[]\n",
      "[]\n",
      "[]\n",
      "[]\n",
      "[]\n",
      "[]\n",
      "[]\n",
      "[]\n",
      "[]\n",
      "[]\n",
      "[]\n",
      "[]\n",
      "[]\n",
      "[]\n",
      "[]\n",
      "[]\n",
      "[]\n",
      "[]\n",
      "[]\n",
      "[]\n",
      "[]\n",
      "[]\n",
      "[]\n",
      "[]\n",
      "[]\n",
      "[]\n",
      "[]\n",
      "[]\n",
      "[]\n",
      "[]\n",
      "[]\n",
      "[]\n",
      "[]\n",
      "[]\n",
      "[]\n",
      "[]\n",
      "[]\n",
      "[]\n",
      "[]\n",
      "[]\n",
      "[]\n",
      "[]\n",
      "[]\n",
      "[]\n",
      "[]\n",
      "[]\n",
      "[]\n",
      "[]\n",
      "[]\n",
      "[]\n",
      "[]\n",
      "[]\n",
      "[]\n",
      "[]\n",
      "[]\n",
      "[]\n",
      "[]\n",
      "[]\n",
      "[]\n",
      "[]\n",
      "[]\n",
      "[]\n",
      "[]\n",
      "[]\n",
      "[]\n",
      "[]\n",
      "[]\n",
      "[]\n",
      "[]\n",
      "[]\n",
      "[]\n",
      "[]\n",
      "[]\n",
      "[]\n",
      "[]\n",
      "[]\n",
      "[]\n",
      "[]\n",
      "[]\n",
      "[]\n",
      "[]\n",
      "[]\n",
      "[]\n",
      "[]\n",
      "[]\n",
      "[]\n",
      "[]\n",
      "[]\n",
      "[]\n",
      "[]\n",
      "[]\n",
      "[]\n",
      "[]\n",
      "[]\n",
      "[]\n",
      "[]\n",
      "[]\n",
      "[]\n",
      "[]\n",
      "[]\n",
      "[]\n",
      "[]\n",
      "[]\n",
      "[]\n",
      "[]\n",
      "[]\n",
      "[]\n",
      "[]\n",
      "[]\n",
      "[]\n",
      "[]\n",
      "[]\n",
      "[]\n",
      "[]\n",
      "[]\n",
      "[]\n",
      "[]\n",
      "[]\n",
      "[]\n",
      "[]\n",
      "[]\n",
      "[]\n",
      "[]\n",
      "[]\n",
      "[]\n",
      "[]\n",
      "[]\n",
      "[]\n",
      "[]\n",
      "[]\n",
      "[]\n",
      "[]\n",
      "[]\n",
      "[]\n",
      "[]\n",
      "[]\n",
      "[]\n",
      "[]\n",
      "[]\n",
      "[]\n",
      "[]\n",
      "[]\n",
      "[]\n",
      "[]\n",
      "[]\n",
      "[]\n",
      "[]\n",
      "[]\n",
      "[]\n",
      "[]\n",
      "[]\n",
      "[]\n",
      "[]\n",
      "[]\n",
      "[]\n",
      "[]\n",
      "[]\n",
      "[]\n",
      "[]\n",
      "[]\n",
      "[]\n",
      "[]\n",
      "[]\n",
      "[]\n",
      "[]\n",
      "[]\n",
      "[]\n",
      "[]\n",
      "[]\n",
      "[]\n",
      "[]\n",
      "[]\n",
      "[]\n",
      "[]\n",
      "[]\n",
      "[]\n",
      "[]\n",
      "[]\n",
      "[]\n",
      "[]\n",
      "[]\n",
      "[]\n",
      "[]\n",
      "[]\n",
      "[]\n",
      "[]\n",
      "[]\n",
      "[]\n",
      "[]\n",
      "[]\n",
      "[]\n",
      "[]\n",
      "[]\n",
      "[]\n",
      "[]\n",
      "[]\n",
      "[]\n",
      "[]\n",
      "[]\n",
      "[]\n",
      "[]\n",
      "[]\n",
      "[]\n",
      "[]\n",
      "[]\n",
      "[]\n",
      "[]\n",
      "[]\n",
      "[]\n",
      "[]\n",
      "[]\n",
      "[]\n",
      "[]\n",
      "[]\n",
      "[]\n",
      "[]\n",
      "[]\n",
      "[]\n",
      "[]\n",
      "[]\n",
      "[]\n",
      "[]\n",
      "[]\n",
      "[]\n",
      "[]\n",
      "[]\n",
      "[]\n",
      "[]\n",
      "[]\n",
      "[]\n",
      "[]\n",
      "[]\n",
      "[]\n",
      "[]\n",
      "[]\n",
      "[]\n",
      "[]\n",
      "[]\n",
      "[]\n",
      "[]\n",
      "[]\n",
      "[]\n",
      "[]\n",
      "[]\n",
      "[]\n",
      "[]\n",
      "[]\n",
      "[]\n",
      "[]\n",
      "[]\n",
      "[]\n",
      "[]\n",
      "[]\n",
      "[]\n",
      "[]\n",
      "[]\n",
      "[]\n",
      "[]\n",
      "[]\n",
      "[]\n",
      "[]\n",
      "[]\n",
      "[]\n",
      "[]\n",
      "[]\n",
      "[]\n",
      "[]\n",
      "[]\n",
      "[]\n",
      "[]\n",
      "[]\n",
      "[]\n",
      "[]\n",
      "[]\n",
      "[]\n",
      "[]\n",
      "[]\n",
      "[]\n",
      "[]\n",
      "[]\n",
      "[]\n",
      "[]\n",
      "[]\n",
      "[]\n",
      "[]\n",
      "[]\n",
      "[]\n",
      "[]\n",
      "[]\n",
      "[]\n",
      "[]\n",
      "[]\n",
      "[]\n",
      "[]\n",
      "[]\n",
      "[]\n",
      "[]\n",
      "[]\n",
      "[]\n",
      "[]\n",
      "[]\n",
      "[]\n",
      "[]\n",
      "[]\n",
      "[]\n",
      "[]\n",
      "[]\n",
      "[]\n",
      "[]\n",
      "[]\n",
      "[]\n",
      "[]\n",
      "[]\n",
      "[]\n",
      "[]\n",
      "[]\n",
      "[]\n",
      "[]\n",
      "[]\n",
      "[]\n",
      "[]\n",
      "[]\n",
      "[]\n",
      "[]\n",
      "[]\n",
      "[]\n",
      "[]\n",
      "[]\n",
      "[]\n",
      "[]\n",
      "[]\n",
      "[0 1]\n"
     ]
    }
   ],
   "source": [
    "x = recalls\n",
    "\n",
    "x_axis_n = 10\n",
    "\n",
    "for j, i in enumerate(sliding_window_view(np.linspace(0, 1, x_axis_n), 2)):\n",
    "    window_segment = np.where((x >= i[0]) & (x <= i[1]))[0]\n",
    "    print(window_segment)"
   ]
  },
  {
   "cell_type": "code",
   "execution_count": 80,
   "metadata": {},
   "outputs": [
    {
     "data": {
      "text/plain": [
       "array([[0.      , 0.001001],\n",
       "       [0.001001, 0.002002],\n",
       "       [0.002002, 0.003003],\n",
       "       ...,\n",
       "       [0.996997, 0.997998],\n",
       "       [0.997998, 0.998999],\n",
       "       [0.998999, 1.      ]])"
      ]
     },
     "execution_count": 80,
     "metadata": {},
     "output_type": "execute_result"
    }
   ],
   "source": [
    "sliding_window_view(np.linspace(0, 1, x_axis_n), 2)"
   ]
  },
  {
   "cell_type": "code",
   "execution_count": 87,
   "metadata": {},
   "outputs": [],
   "source": [
    "window_segment = np.where((x >= i[0]) & (x <= i[1]))[0]"
   ]
  },
  {
   "cell_type": "code",
   "execution_count": 88,
   "metadata": {},
   "outputs": [
    {
     "data": {
      "text/plain": [
       "array([  0,   1,   2,   3,   4,   5,   6,   7,   8,   9,  10,  11,  12,\n",
       "        13,  14,  15,  16,  17,  18,  19,  20,  21,  22,  23,  24,  25,\n",
       "        26,  27,  28,  29,  30,  31,  32,  33,  34,  35,  36,  37,  38,\n",
       "        39,  40,  41,  42,  43,  44,  45,  46,  47,  48,  49,  50,  51,\n",
       "        52,  53,  54,  55,  56,  57,  58,  59,  60,  61,  62,  63,  64,\n",
       "        65,  66,  67,  68,  69,  70,  71,  72,  73,  74,  75,  76,  77,\n",
       "        78,  79,  80,  81,  82,  83,  84,  85,  86,  87,  88,  89,  90,\n",
       "        91,  92,  93,  94,  95,  96,  97,  98,  99, 100, 101, 102, 103,\n",
       "       104, 105, 106, 107, 108, 109, 110, 111, 112, 113, 114, 115, 116,\n",
       "       117, 118, 119, 120, 121, 122, 123, 124, 125, 126, 127, 128, 129,\n",
       "       130, 131, 132, 133, 134, 135, 136, 137, 138, 139, 140, 141, 142,\n",
       "       143, 144, 145, 146, 147, 148, 149, 150, 151, 152, 153, 154, 155,\n",
       "       156, 157, 158, 159, 160, 161, 162, 163, 164, 165, 166, 167, 168,\n",
       "       169, 170, 171, 172, 173, 174, 175, 176, 177, 178, 179, 180, 181,\n",
       "       182, 183, 184, 185, 186, 187, 188, 189, 190, 191, 192, 193, 194,\n",
       "       195, 196, 197, 198, 199, 200, 201, 202, 203, 204, 205, 206, 207,\n",
       "       208, 209, 210, 211, 212, 213, 214, 215, 216, 217, 218, 219, 220,\n",
       "       221, 222, 223, 224])"
      ]
     },
     "execution_count": 88,
     "metadata": {},
     "output_type": "execute_result"
    }
   ],
   "source": [
    "window_segment"
   ]
  },
  {
   "cell_type": "code",
   "execution_count": 90,
   "metadata": {},
   "outputs": [],
   "source": []
  },
  {
   "cell_type": "code",
   "execution_count": 91,
   "metadata": {},
   "outputs": [
    {
     "data": {
      "text/plain": [
       "[<matplotlib.lines.Line2D at 0x7f89b3d691f0>]"
      ]
     },
     "execution_count": 91,
     "metadata": {},
     "output_type": "execute_result"
    },
    {
     "data": {
      "image/png": "[encoded data removed]",
      "text/plain": [
       "<Figure size 432x288 with 1 Axes>"
      ]
     },
     "metadata": {
      "needs_background": "light"
     },
     "output_type": "display_data"
    }
   ],
   "source": []
  },
  {
   "cell_type": "code",
   "execution_count": null,
   "metadata": {},
   "outputs": [],
   "source": []
  }
 ],
 "metadata": {
  "kernelspec": {
   "display_name": "Python 3.8.13 ('featstore')",
   "language": "python",
   "name": "python3"
  },
  "language_info": {
   "codemirror_mode": {
    "name": "ipython",
    "version": 3
   },
   "file_extension": ".py",
   "mimetype": "text/x-python",
   "name": "python",
   "nbconvert_exporter": "python",
   "pygments_lexer": "ipython3",
   "version": "3.8.13"
  },
  "orig_nbformat": 4,
  "vscode": {
   "interpreter": {
    "hash": "daff1afd4d675d5e247c0a95a5de0c03bd87d8f7edee7cb37c539016070f1c16"
   }
  }
 },
 "nbformat": 4,
 "nbformat_minor": 2
}
