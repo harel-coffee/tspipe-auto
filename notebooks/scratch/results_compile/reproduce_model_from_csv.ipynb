{
 "cells": [
  {
   "cell_type": "code",
   "execution_count": 48,
   "metadata": {},
   "outputs": [
    {
     "name": "stdout",
     "output_type": "stream",
     "text": [
      "The autoreload extension is already loaded. To reload it, use:\n",
      "  %reload_ext autoreload\n"
     ]
    }
   ],
   "source": [
    "import pandas as pd\n",
    "import numpy as np\n",
    "from pathlib import Path\n",
    "import matplotlib.pyplot as plt\n",
    "from src.models.train import train_single_model\n",
    "from src.models.utils import milling_add_y_label_anomaly, get_model_metrics_df\n",
    "from ast import literal_eval\n",
    "from src.visualization.visualize import plot_pr_roc_curves_kfolds\n",
    "%load_ext autoreload\n",
    "%autoreload 2"
   ]
  },
  {
   "cell_type": "code",
   "execution_count": 2,
   "metadata": {},
   "outputs": [],
   "source": [
    "proj_dir = Path.cwd().parent.parent.parent\n",
    "scratch_dir = Path.home() / \"scratch\""
   ]
  },
  {
   "cell_type": "code",
   "execution_count": 76,
   "metadata": {},
   "outputs": [
    {
     "data": {
      "text/html": [
       "<div>\n",
       "<style scoped>\n",
       "    .dataframe tbody tr th:only-of-type {\n",
       "        vertical-align: middle;\n",
       "    }\n",
       "\n",
       "    .dataframe tbody tr th {\n",
       "        vertical-align: top;\n",
       "    }\n",
       "\n",
       "    .dataframe thead th {\n",
       "        text-align: right;\n",
       "    }\n",
       "</style>\n",
       "<table border=\"1\" class=\"dataframe\">\n",
       "  <thead>\n",
       "    <tr style=\"text-align: right;\">\n",
       "      <th></th>\n",
       "      <th>uo_method</th>\n",
       "      <th>scaler_method</th>\n",
       "      <th>imbalance_ratio</th>\n",
       "      <th>classifier</th>\n",
       "      <th>sampler_seed</th>\n",
       "      <th>feat_col_list</th>\n",
       "      <th>date_time</th>\n",
       "      <th>dataset</th>\n",
       "      <th>precision_score_min</th>\n",
       "      <th>precision_score_max</th>\n",
       "      <th>...</th>\n",
       "      <th>SGDClassifier_loss</th>\n",
       "      <th>SGDClassifier_penalty</th>\n",
       "      <th>RandomForestClassifier_bootstrap</th>\n",
       "      <th>RandomForestClassifier_class_weight</th>\n",
       "      <th>RandomForestClassifier_criterion</th>\n",
       "      <th>RandomForestClassifier_max_depth</th>\n",
       "      <th>RandomForestClassifier_min_samples_leaf</th>\n",
       "      <th>RandomForestClassifier_min_samples_split</th>\n",
       "      <th>RandomForestClassifier_n_estimators</th>\n",
       "      <th>SVC_degree</th>\n",
       "    </tr>\n",
       "  </thead>\n",
       "  <tbody>\n",
       "    <tr>\n",
       "      <th>0</th>\n",
       "      <td>smote</td>\n",
       "      <td>standard</td>\n",
       "      <td>0.7</td>\n",
       "      <td>knn</td>\n",
       "      <td>3611799</td>\n",
       "      <td>['smcdc__kurtosis', 'smcac__kurtosis', 'vib_sp...</td>\n",
       "      <td>2022-05-04-1150-40</td>\n",
       "      <td>milling</td>\n",
       "      <td>1.000000</td>\n",
       "      <td>1.000000</td>\n",
       "      <td>...</td>\n",
       "      <td>NaN</td>\n",
       "      <td>NaN</td>\n",
       "      <td>NaN</td>\n",
       "      <td>NaN</td>\n",
       "      <td>NaN</td>\n",
       "      <td>NaN</td>\n",
       "      <td>NaN</td>\n",
       "      <td>NaN</td>\n",
       "      <td>NaN</td>\n",
       "      <td>NaN</td>\n",
       "    </tr>\n",
       "    <tr>\n",
       "      <th>1</th>\n",
       "      <td>smote</td>\n",
       "      <td>standard</td>\n",
       "      <td>0.7</td>\n",
       "      <td>rf</td>\n",
       "      <td>24069445</td>\n",
       "      <td>['smcdc__kurtosis', 'smcac__kurtosis', 'vib_sp...</td>\n",
       "      <td>2022-05-04-1150-40</td>\n",
       "      <td>milling</td>\n",
       "      <td>0.404096</td>\n",
       "      <td>0.414997</td>\n",
       "      <td>...</td>\n",
       "      <td>NaN</td>\n",
       "      <td>NaN</td>\n",
       "      <td>True</td>\n",
       "      <td>balanced_subsample</td>\n",
       "      <td>entropy</td>\n",
       "      <td>411.0</td>\n",
       "      <td>9.0</td>\n",
       "      <td>3.0</td>\n",
       "      <td>460.0</td>\n",
       "      <td>NaN</td>\n",
       "    </tr>\n",
       "    <tr>\n",
       "      <th>2</th>\n",
       "      <td>NaN</td>\n",
       "      <td>standard</td>\n",
       "      <td>0.5</td>\n",
       "      <td>svm</td>\n",
       "      <td>14188175</td>\n",
       "      <td>['smcdc__kurtosis', 'smcac__kurtosis', 'vib_sp...</td>\n",
       "      <td>2022-05-04-1150-40</td>\n",
       "      <td>milling</td>\n",
       "      <td>0.000000</td>\n",
       "      <td>0.000000</td>\n",
       "      <td>...</td>\n",
       "      <td>NaN</td>\n",
       "      <td>NaN</td>\n",
       "      <td>NaN</td>\n",
       "      <td>NaN</td>\n",
       "      <td>NaN</td>\n",
       "      <td>NaN</td>\n",
       "      <td>NaN</td>\n",
       "      <td>NaN</td>\n",
       "      <td>NaN</td>\n",
       "      <td>NaN</td>\n",
       "    </tr>\n",
       "    <tr>\n",
       "      <th>3</th>\n",
       "      <td>random_under</td>\n",
       "      <td>standard</td>\n",
       "      <td>0.5</td>\n",
       "      <td>ridge</td>\n",
       "      <td>20394116</td>\n",
       "      <td>['smcdc__kurtosis', 'smcac__kurtosis', 'vib_sp...</td>\n",
       "      <td>2022-05-04-1150-40</td>\n",
       "      <td>milling</td>\n",
       "      <td>0.122677</td>\n",
       "      <td>0.196796</td>\n",
       "      <td>...</td>\n",
       "      <td>NaN</td>\n",
       "      <td>NaN</td>\n",
       "      <td>NaN</td>\n",
       "      <td>NaN</td>\n",
       "      <td>NaN</td>\n",
       "      <td>NaN</td>\n",
       "      <td>NaN</td>\n",
       "      <td>NaN</td>\n",
       "      <td>NaN</td>\n",
       "      <td>NaN</td>\n",
       "    </tr>\n",
       "    <tr>\n",
       "      <th>4</th>\n",
       "      <td>smote</td>\n",
       "      <td>standard</td>\n",
       "      <td>0.3</td>\n",
       "      <td>lr</td>\n",
       "      <td>9519807</td>\n",
       "      <td>['smcdc__kurtosis', 'smcac__kurtosis', 'vib_sp...</td>\n",
       "      <td>2022-05-04-1150-40</td>\n",
       "      <td>milling</td>\n",
       "      <td>0.111231</td>\n",
       "      <td>0.161108</td>\n",
       "      <td>...</td>\n",
       "      <td>NaN</td>\n",
       "      <td>NaN</td>\n",
       "      <td>NaN</td>\n",
       "      <td>NaN</td>\n",
       "      <td>NaN</td>\n",
       "      <td>NaN</td>\n",
       "      <td>NaN</td>\n",
       "      <td>NaN</td>\n",
       "      <td>NaN</td>\n",
       "      <td>NaN</td>\n",
       "    </tr>\n",
       "  </tbody>\n",
       "</table>\n",
       "<p>5 rows × 69 columns</p>\n",
       "</div>"
      ],
      "text/plain": [
       "      uo_method scaler_method  imbalance_ratio classifier  sampler_seed  \\\n",
       "0         smote      standard              0.7        knn       3611799   \n",
       "1         smote      standard              0.7         rf      24069445   \n",
       "2           NaN      standard              0.5        svm      14188175   \n",
       "3  random_under      standard              0.5      ridge      20394116   \n",
       "4         smote      standard              0.3         lr       9519807   \n",
       "\n",
       "                                       feat_col_list           date_time  \\\n",
       "0  ['smcdc__kurtosis', 'smcac__kurtosis', 'vib_sp...  2022-05-04-1150-40   \n",
       "1  ['smcdc__kurtosis', 'smcac__kurtosis', 'vib_sp...  2022-05-04-1150-40   \n",
       "2  ['smcdc__kurtosis', 'smcac__kurtosis', 'vib_sp...  2022-05-04-1150-40   \n",
       "3  ['smcdc__kurtosis', 'smcac__kurtosis', 'vib_sp...  2022-05-04-1150-40   \n",
       "4  ['smcdc__kurtosis', 'smcac__kurtosis', 'vib_sp...  2022-05-04-1150-40   \n",
       "\n",
       "   dataset  precision_score_min  precision_score_max  ...  SGDClassifier_loss  \\\n",
       "0  milling             1.000000             1.000000  ...                 NaN   \n",
       "1  milling             0.404096             0.414997  ...                 NaN   \n",
       "2  milling             0.000000             0.000000  ...                 NaN   \n",
       "3  milling             0.122677             0.196796  ...                 NaN   \n",
       "4  milling             0.111231             0.161108  ...                 NaN   \n",
       "\n",
       "   SGDClassifier_penalty  RandomForestClassifier_bootstrap  \\\n",
       "0                    NaN                               NaN   \n",
       "1                    NaN                              True   \n",
       "2                    NaN                               NaN   \n",
       "3                    NaN                               NaN   \n",
       "4                    NaN                               NaN   \n",
       "\n",
       "   RandomForestClassifier_class_weight  RandomForestClassifier_criterion  \\\n",
       "0                                  NaN                               NaN   \n",
       "1                   balanced_subsample                           entropy   \n",
       "2                                  NaN                               NaN   \n",
       "3                                  NaN                               NaN   \n",
       "4                                  NaN                               NaN   \n",
       "\n",
       "   RandomForestClassifier_max_depth  RandomForestClassifier_min_samples_leaf  \\\n",
       "0                               NaN                                      NaN   \n",
       "1                             411.0                                      9.0   \n",
       "2                               NaN                                      NaN   \n",
       "3                               NaN                                      NaN   \n",
       "4                               NaN                                      NaN   \n",
       "\n",
       "   RandomForestClassifier_min_samples_split  \\\n",
       "0                                       NaN   \n",
       "1                                       3.0   \n",
       "2                                       NaN   \n",
       "3                                       NaN   \n",
       "4                                       NaN   \n",
       "\n",
       "   RandomForestClassifier_n_estimators  SVC_degree  \n",
       "0                                  NaN         NaN  \n",
       "1                                460.0         NaN  \n",
       "2                                  NaN         NaN  \n",
       "3                                  NaN         NaN  \n",
       "4                                  NaN         NaN  \n",
       "\n",
       "[5 rows x 69 columns]"
      ]
     },
     "execution_count": 76,
     "metadata": {},
     "output_type": "execute_result"
    }
   ],
   "source": [
    "df = pd.read_csv('compiled_results.csv',)\n",
    "df = df[df['scaler_method'] != \"minmax\"].reset_index(drop=True)\n",
    "df.head()"
   ]
  },
  {
   "cell_type": "code",
   "execution_count": 77,
   "metadata": {},
   "outputs": [
    {
     "name": "stdout",
     "output_type": "stream",
     "text": [
      "[0 1]\n"
     ]
    },
    {
     "data": {
      "text/html": [
       "<div>\n",
       "<style scoped>\n",
       "    .dataframe tbody tr th:only-of-type {\n",
       "        vertical-align: middle;\n",
       "    }\n",
       "\n",
       "    .dataframe tbody tr th {\n",
       "        vertical-align: top;\n",
       "    }\n",
       "\n",
       "    .dataframe thead th {\n",
       "        text-align: right;\n",
       "    }\n",
       "</style>\n",
       "<table border=\"1\" class=\"dataframe\">\n",
       "  <thead>\n",
       "    <tr style=\"text-align: right;\">\n",
       "      <th></th>\n",
       "      <th>cut_id</th>\n",
       "      <th>ae_spindle__length</th>\n",
       "      <th>ae_spindle__kurtosis</th>\n",
       "      <th>ae_table__length</th>\n",
       "      <th>ae_table__kurtosis</th>\n",
       "      <th>vib_spindle__length</th>\n",
       "      <th>vib_spindle__kurtosis</th>\n",
       "      <th>vib_table__length</th>\n",
       "      <th>vib_table__kurtosis</th>\n",
       "      <th>smcdc__length</th>\n",
       "      <th>smcdc__kurtosis</th>\n",
       "      <th>smcac__length</th>\n",
       "      <th>smcac__kurtosis</th>\n",
       "      <th>cut_no</th>\n",
       "      <th>case</th>\n",
       "      <th>tool_class</th>\n",
       "      <th>y</th>\n",
       "    </tr>\n",
       "  </thead>\n",
       "  <tbody>\n",
       "    <tr>\n",
       "      <th>0</th>\n",
       "      <td>50_23</td>\n",
       "      <td>64.0</td>\n",
       "      <td>-0.536421</td>\n",
       "      <td>64.0</td>\n",
       "      <td>1.023564</td>\n",
       "      <td>64.0</td>\n",
       "      <td>0.052618</td>\n",
       "      <td>64.0</td>\n",
       "      <td>-1.182274</td>\n",
       "      <td>64.0</td>\n",
       "      <td>-0.741543</td>\n",
       "      <td>64.0</td>\n",
       "      <td>-1.379993</td>\n",
       "      <td>50</td>\n",
       "      <td>4</td>\n",
       "      <td>1</td>\n",
       "      <td>0</td>\n",
       "    </tr>\n",
       "    <tr>\n",
       "      <th>1</th>\n",
       "      <td>50_24</td>\n",
       "      <td>64.0</td>\n",
       "      <td>0.580646</td>\n",
       "      <td>64.0</td>\n",
       "      <td>-0.248433</td>\n",
       "      <td>64.0</td>\n",
       "      <td>-0.477432</td>\n",
       "      <td>64.0</td>\n",
       "      <td>-1.185010</td>\n",
       "      <td>64.0</td>\n",
       "      <td>-0.906486</td>\n",
       "      <td>64.0</td>\n",
       "      <td>-1.373383</td>\n",
       "      <td>50</td>\n",
       "      <td>4</td>\n",
       "      <td>1</td>\n",
       "      <td>0</td>\n",
       "    </tr>\n",
       "    <tr>\n",
       "      <th>2</th>\n",
       "      <td>50_25</td>\n",
       "      <td>64.0</td>\n",
       "      <td>-0.335575</td>\n",
       "      <td>64.0</td>\n",
       "      <td>-0.117931</td>\n",
       "      <td>64.0</td>\n",
       "      <td>0.385026</td>\n",
       "      <td>64.0</td>\n",
       "      <td>-1.320485</td>\n",
       "      <td>64.0</td>\n",
       "      <td>-1.051426</td>\n",
       "      <td>64.0</td>\n",
       "      <td>-1.398157</td>\n",
       "      <td>50</td>\n",
       "      <td>4</td>\n",
       "      <td>1</td>\n",
       "      <td>0</td>\n",
       "    </tr>\n",
       "    <tr>\n",
       "      <th>3</th>\n",
       "      <td>50_26</td>\n",
       "      <td>64.0</td>\n",
       "      <td>-1.180998</td>\n",
       "      <td>64.0</td>\n",
       "      <td>-0.227941</td>\n",
       "      <td>64.0</td>\n",
       "      <td>0.198078</td>\n",
       "      <td>64.0</td>\n",
       "      <td>-1.123297</td>\n",
       "      <td>64.0</td>\n",
       "      <td>-0.680110</td>\n",
       "      <td>64.0</td>\n",
       "      <td>-1.348922</td>\n",
       "      <td>50</td>\n",
       "      <td>4</td>\n",
       "      <td>1</td>\n",
       "      <td>0</td>\n",
       "    </tr>\n",
       "    <tr>\n",
       "      <th>4</th>\n",
       "      <td>50_27</td>\n",
       "      <td>64.0</td>\n",
       "      <td>-0.074406</td>\n",
       "      <td>64.0</td>\n",
       "      <td>-0.431231</td>\n",
       "      <td>64.0</td>\n",
       "      <td>-0.430192</td>\n",
       "      <td>64.0</td>\n",
       "      <td>-1.300146</td>\n",
       "      <td>64.0</td>\n",
       "      <td>-0.387458</td>\n",
       "      <td>64.0</td>\n",
       "      <td>-1.363613</td>\n",
       "      <td>50</td>\n",
       "      <td>4</td>\n",
       "      <td>1</td>\n",
       "      <td>0</td>\n",
       "    </tr>\n",
       "  </tbody>\n",
       "</table>\n",
       "</div>"
      ],
      "text/plain": [
       "  cut_id  ae_spindle__length  ae_spindle__kurtosis  ae_table__length  \\\n",
       "0  50_23                64.0             -0.536421              64.0   \n",
       "1  50_24                64.0              0.580646              64.0   \n",
       "2  50_25                64.0             -0.335575              64.0   \n",
       "3  50_26                64.0             -1.180998              64.0   \n",
       "4  50_27                64.0             -0.074406              64.0   \n",
       "\n",
       "   ae_table__kurtosis  vib_spindle__length  vib_spindle__kurtosis  \\\n",
       "0            1.023564                 64.0               0.052618   \n",
       "1           -0.248433                 64.0              -0.477432   \n",
       "2           -0.117931                 64.0               0.385026   \n",
       "3           -0.227941                 64.0               0.198078   \n",
       "4           -0.431231                 64.0              -0.430192   \n",
       "\n",
       "   vib_table__length  vib_table__kurtosis  smcdc__length  smcdc__kurtosis  \\\n",
       "0               64.0            -1.182274           64.0        -0.741543   \n",
       "1               64.0            -1.185010           64.0        -0.906486   \n",
       "2               64.0            -1.320485           64.0        -1.051426   \n",
       "3               64.0            -1.123297           64.0        -0.680110   \n",
       "4               64.0            -1.300146           64.0        -0.387458   \n",
       "\n",
       "   smcac__length  smcac__kurtosis  cut_no  case  tool_class  y  \n",
       "0           64.0        -1.379993      50     4           1  0  \n",
       "1           64.0        -1.373383      50     4           1  0  \n",
       "2           64.0        -1.398157      50     4           1  0  \n",
       "3           64.0        -1.348922      50     4           1  0  \n",
       "4           64.0        -1.363613      50     4           1  0  "
      ]
     },
     "execution_count": 77,
     "metadata": {},
     "output_type": "execute_result"
    }
   ],
   "source": [
    "mill_feature_path = scratch_dir / \"feat-store\" / \"data/processed/milling/milling_features.csv.gz\"\n",
    "df_feat = pd.read_csv(mill_feature_path, compression='gzip')\n",
    "df_feat = milling_add_y_label_anomaly(df_feat)\n",
    "print(df_feat[\"y\"].unique())\n",
    "df_feat.head()"
   ]
  },
  {
   "cell_type": "code",
   "execution_count": 78,
   "metadata": {},
   "outputs": [],
   "source": [
    "def rebuild_params_clf(df, row_idx):\n",
    "    classifier_string = df.iloc[row_idx]['classifier']\n",
    "    if classifier_string == \"rf\":\n",
    "        prefix = 'RandomForestClassifier'\n",
    "\n",
    "    elif classifier_string == \"xgb\":\n",
    "        prefix = 'XGB'\n",
    "\n",
    "    elif classifier_string == \"knn\":\n",
    "        prefix = 'KNeighborsClassifier'\n",
    "\n",
    "    elif classifier_string == \"lr\":\n",
    "        prefix = 'LogisticRegression'\n",
    "\n",
    "    elif classifier_string == \"sgd\":\n",
    "        prefix = 'SGDClassifier'\n",
    "\n",
    "    elif classifier_string == \"ridge\":\n",
    "        prefix = 'RidgeClassifier'\n",
    "\n",
    "    elif classifier_string == \"svm\":\n",
    "        prefix = 'SVC'\n",
    "\n",
    "    elif classifier_string == \"nb\":\n",
    "        prefix = 'GaussianNB'\n",
    "\n",
    "    params_clf = {c.replace(f\"{prefix}_\",\"\"): df.iloc[row_idx][c]  for c in df.iloc[row_idx].dropna().index if c.startswith(prefix)}\n",
    "\n",
    "    # convert any whole numbers in clf_cols to int\n",
    "    for k in params_clf.keys():\n",
    "        if isinstance(params_clf[k], float) and params_clf[k].is_integer():\n",
    "            params_clf[k] = int(params_clf[k])\n",
    "\n",
    "    return {k: [params_clf[k]] for k in params_clf.keys()} # put each value in a list\n",
    "\n",
    "def rebuild_general_params(df, row_idx, general_param_keys=None):\n",
    "    if general_param_keys is None:\n",
    "        general_param_keys = ['scaler_method', 'uo_method', 'imbalance_ratio', 'classifier']\n",
    "    return {k: [df.iloc[row_idx][k]] for k in general_param_keys}    "
   ]
  },
  {
   "cell_type": "code",
   "execution_count": 80,
   "metadata": {},
   "outputs": [
    {
     "name": "stdout",
     "output_type": "stream",
     "text": [
      "{'alpha': [4.154462082]}\n",
      "{'scaler_method': ['standard'], 'uo_method': ['random_under'], 'imbalance_ratio': [0.5], 'classifier': ['ridge']}\n",
      "20394116\n",
      "classifier: ridge, uo_method: random_under, imbalance_ratio: 0.5\n",
      "\n",
      " {'RidgeClassifier_alpha': 4.154462082}\n",
      "0\n",
      "scaling - standard\n",
      "min x_train -2.7868497764747113\n",
      "max x_train 42.333429536680384\n",
      "min x_test -2.7868497764747113\n",
      "max x_test 42.333429536680384\n",
      "x_train shape: (2082, 5)\n",
      "1\n",
      "scaling - standard\n",
      "min x_train -2.784962282784538\n",
      "max x_train 41.49832537682044\n",
      "min x_test -2.784962282784538\n",
      "max x_test 41.49832537682044\n",
      "x_train shape: (2148, 5)\n",
      "2\n",
      "scaling - standard\n",
      "min x_train -2.8023898364477784\n",
      "max x_train 38.86082519989638\n",
      "min x_test -2.8023898364477784\n",
      "max x_test 38.86082519989638\n",
      "x_train shape: (2082, 5)\n",
      "3\n",
      "scaling - standard\n",
      "min x_train -2.7458886457231673\n",
      "max x_train 42.108371907821336\n",
      "min x_test -2.7458886457231673\n",
      "max x_test 42.108371907821336\n",
      "x_train shape: (1917, 5)\n",
      "4\n",
      "scaling - standard\n",
      "min x_train -2.7054299570121354\n",
      "max x_train 44.10640341758334\n",
      "min x_test -2.7054299570121354\n",
      "max x_test 44.10640341758334\n",
      "x_train shape: (1899, 5)\n"
     ]
    }
   ],
   "source": [
    "row_idx = 3\n",
    "\n",
    "params_clf = rebuild_params_clf(df, row_idx)\n",
    "print(params_clf)\n",
    "\n",
    "general_params = rebuild_general_params(df, row_idx)\n",
    "print(general_params)\n",
    "\n",
    "meta_label_cols = [\"cut_id\", \"cut_no\", \"case\", \"tool_class\"]\n",
    "stratification_grouping_col = \"cut_no\"\n",
    "y_label_col = \"y\"\n",
    "feat_selection = True\n",
    "feat_col_list = literal_eval(df.iloc[row_idx][\"feat_col_list\"])\n",
    "sampler_seed = int(df.iloc[row_idx][\"sampler_seed\"])\n",
    "print(sampler_seed)\n",
    "\n",
    "(\n",
    "    model_metrics_dict,\n",
    "    params_dict_clf_named,\n",
    "    params_dict_train_setup,\n",
    "    feat_col_list\n",
    ") = train_single_model(\n",
    "    df_feat,\n",
    "    sampler_seed,\n",
    "    meta_label_cols,\n",
    "    stratification_grouping_col,\n",
    "    y_label_col,\n",
    "    feat_selection,\n",
    "    feat_col_list,\n",
    "    general_params=general_params,\n",
    "    params_clf=params_clf,\n",
    ")"
   ]
  },
  {
   "cell_type": "code",
   "execution_count": 81,
   "metadata": {},
   "outputs": [
    {
     "data": {
      "text/plain": [
       "{'uo_method': 'random_under',\n",
       " 'scaler_method': 'standard',\n",
       " 'imbalance_ratio': 0.5,\n",
       " 'classifier': 'ridge',\n",
       " 'sampler_seed': 20394116}"
      ]
     },
     "execution_count": 81,
     "metadata": {},
     "output_type": "execute_result"
    }
   ],
   "source": [
    "params_dict_train_setup"
   ]
  },
  {
   "cell_type": "code",
   "execution_count": 82,
   "metadata": {},
   "outputs": [
    {
     "data": {
      "text/html": [
       "<div>\n",
       "<style scoped>\n",
       "    .dataframe tbody tr th:only-of-type {\n",
       "        vertical-align: middle;\n",
       "    }\n",
       "\n",
       "    .dataframe tbody tr th {\n",
       "        vertical-align: top;\n",
       "    }\n",
       "\n",
       "    .dataframe thead th {\n",
       "        text-align: right;\n",
       "    }\n",
       "</style>\n",
       "<table border=\"1\" class=\"dataframe\">\n",
       "  <thead>\n",
       "    <tr style=\"text-align: right;\">\n",
       "      <th></th>\n",
       "      <th>precision_score_min</th>\n",
       "      <th>precision_score_max</th>\n",
       "      <th>precision_score_avg</th>\n",
       "      <th>precision_score_std</th>\n",
       "      <th>recall_score_min</th>\n",
       "      <th>recall_score_max</th>\n",
       "      <th>recall_score_avg</th>\n",
       "      <th>recall_score_std</th>\n",
       "      <th>f1_score_min</th>\n",
       "      <th>f1_score_max</th>\n",
       "      <th>...</th>\n",
       "      <th>prauc_min</th>\n",
       "      <th>prauc_max</th>\n",
       "      <th>prauc_avg</th>\n",
       "      <th>prauc_std</th>\n",
       "      <th>accuracy_min</th>\n",
       "      <th>accuracy_max</th>\n",
       "      <th>accuracy_avg</th>\n",
       "      <th>accuracy_std</th>\n",
       "      <th>n_thresholds_min</th>\n",
       "      <th>n_thresholds_max</th>\n",
       "    </tr>\n",
       "  </thead>\n",
       "  <tbody>\n",
       "    <tr>\n",
       "      <th>3</th>\n",
       "      <td>0.122677</td>\n",
       "      <td>0.196796</td>\n",
       "      <td>0.157074</td>\n",
       "      <td>0.025479</td>\n",
       "      <td>0.046089</td>\n",
       "      <td>0.123919</td>\n",
       "      <td>0.082649</td>\n",
       "      <td>0.02536</td>\n",
       "      <td>0.067005</td>\n",
       "      <td>0.152078</td>\n",
       "      <td>...</td>\n",
       "      <td>0.105609</td>\n",
       "      <td>0.140297</td>\n",
       "      <td>0.11858</td>\n",
       "      <td>0.01268</td>\n",
       "      <td>0.896122</td>\n",
       "      <td>0.905134</td>\n",
       "      <td>0.901591</td>\n",
       "      <td>0.003077</td>\n",
       "      <td>9220</td>\n",
       "      <td>9350</td>\n",
       "    </tr>\n",
       "  </tbody>\n",
       "</table>\n",
       "<p>1 rows × 26 columns</p>\n",
       "</div>"
      ],
      "text/plain": [
       "   precision_score_min  precision_score_max  precision_score_avg  \\\n",
       "3             0.122677             0.196796             0.157074   \n",
       "\n",
       "   precision_score_std  recall_score_min  recall_score_max  recall_score_avg  \\\n",
       "3             0.025479          0.046089          0.123919          0.082649   \n",
       "\n",
       "   recall_score_std  f1_score_min  f1_score_max  ...  prauc_min  prauc_max  \\\n",
       "3           0.02536      0.067005      0.152078  ...   0.105609   0.140297   \n",
       "\n",
       "   prauc_avg  prauc_std  accuracy_min  accuracy_max  accuracy_avg  \\\n",
       "3    0.11858    0.01268      0.896122      0.905134      0.901591   \n",
       "\n",
       "   accuracy_std  n_thresholds_min  n_thresholds_max  \n",
       "3      0.003077              9220              9350  \n",
       "\n",
       "[1 rows x 26 columns]"
      ]
     },
     "execution_count": 82,
     "metadata": {},
     "output_type": "execute_result"
    }
   ],
   "source": [
    "dfr = get_model_metrics_df(model_metrics_dict)\n",
    "cols_select = list(dfr.columns)\n",
    "\n",
    "df[cols_select][row_idx:row_idx+1]"
   ]
  },
  {
   "cell_type": "code",
   "execution_count": 83,
   "metadata": {},
   "outputs": [
    {
     "data": {
      "text/html": [
       "<div>\n",
       "<style scoped>\n",
       "    .dataframe tbody tr th:only-of-type {\n",
       "        vertical-align: middle;\n",
       "    }\n",
       "\n",
       "    .dataframe tbody tr th {\n",
       "        vertical-align: top;\n",
       "    }\n",
       "\n",
       "    .dataframe thead th {\n",
       "        text-align: right;\n",
       "    }\n",
       "</style>\n",
       "<table border=\"1\" class=\"dataframe\">\n",
       "  <thead>\n",
       "    <tr style=\"text-align: right;\">\n",
       "      <th></th>\n",
       "      <th>precision_score_min</th>\n",
       "      <th>precision_score_max</th>\n",
       "      <th>precision_score_avg</th>\n",
       "      <th>precision_score_std</th>\n",
       "      <th>recall_score_min</th>\n",
       "      <th>recall_score_max</th>\n",
       "      <th>recall_score_avg</th>\n",
       "      <th>recall_score_std</th>\n",
       "      <th>f1_score_min</th>\n",
       "      <th>f1_score_max</th>\n",
       "      <th>...</th>\n",
       "      <th>prauc_min</th>\n",
       "      <th>prauc_max</th>\n",
       "      <th>prauc_avg</th>\n",
       "      <th>prauc_std</th>\n",
       "      <th>accuracy_min</th>\n",
       "      <th>accuracy_max</th>\n",
       "      <th>accuracy_avg</th>\n",
       "      <th>accuracy_std</th>\n",
       "      <th>n_thresholds_min</th>\n",
       "      <th>n_thresholds_max</th>\n",
       "    </tr>\n",
       "  </thead>\n",
       "  <tbody>\n",
       "    <tr>\n",
       "      <th>0</th>\n",
       "      <td>0.122677</td>\n",
       "      <td>0.196796</td>\n",
       "      <td>0.157074</td>\n",
       "      <td>0.025479</td>\n",
       "      <td>0.046089</td>\n",
       "      <td>0.123919</td>\n",
       "      <td>0.082649</td>\n",
       "      <td>0.02536</td>\n",
       "      <td>0.067005</td>\n",
       "      <td>0.152078</td>\n",
       "      <td>...</td>\n",
       "      <td>0.105609</td>\n",
       "      <td>0.140297</td>\n",
       "      <td>0.11858</td>\n",
       "      <td>0.01268</td>\n",
       "      <td>0.896122</td>\n",
       "      <td>0.905134</td>\n",
       "      <td>0.901591</td>\n",
       "      <td>0.003077</td>\n",
       "      <td>9220.0</td>\n",
       "      <td>9350.0</td>\n",
       "    </tr>\n",
       "  </tbody>\n",
       "</table>\n",
       "<p>1 rows × 26 columns</p>\n",
       "</div>"
      ],
      "text/plain": [
       "   precision_score_min  precision_score_max  precision_score_avg  \\\n",
       "0             0.122677             0.196796             0.157074   \n",
       "\n",
       "   precision_score_std  recall_score_min  recall_score_max  recall_score_avg  \\\n",
       "0             0.025479          0.046089          0.123919          0.082649   \n",
       "\n",
       "   recall_score_std  f1_score_min  f1_score_max  ...  prauc_min  prauc_max  \\\n",
       "0           0.02536      0.067005      0.152078  ...   0.105609   0.140297   \n",
       "\n",
       "   prauc_avg  prauc_std  accuracy_min  accuracy_max  accuracy_avg  \\\n",
       "0    0.11858    0.01268      0.896122      0.905134      0.901591   \n",
       "\n",
       "   accuracy_std  n_thresholds_min  n_thresholds_max  \n",
       "0      0.003077            9220.0            9350.0  \n",
       "\n",
       "[1 rows x 26 columns]"
      ]
     },
     "execution_count": 83,
     "metadata": {},
     "output_type": "execute_result"
    }
   ],
   "source": [
    "dfr"
   ]
  },
  {
   "cell_type": "code",
   "execution_count": 84,
   "metadata": {},
   "outputs": [
    {
     "data": {
      "text/plain": [
       "dict_keys(['precisions_array', 'recalls_array', 'precision_score_array', 'recall_score_array', 'fpr_array', 'tpr_array', 'prauc_array', 'rocauc_array', 'f1_score_array', 'n_thresholds_array', 'accuracy_array'])"
      ]
     },
     "execution_count": 84,
     "metadata": {},
     "output_type": "execute_result"
    }
   ],
   "source": [
    "model_metrics_dict.keys()"
   ]
  },
  {
   "cell_type": "code",
   "execution_count": 85,
   "metadata": {},
   "outputs": [
    {
     "data": {
      "image/png": "[encoded data removed]",
      "text/plain": [
       "<Figure size 1800x900 with 2 Axes>"
      ]
     },
     "metadata": {},
     "output_type": "display_data"
    }
   ],
   "source": [
    "plot_pr_roc_curves_kfolds(\n",
    "    model_metrics_dict[\"precisions_array\"],\n",
    "    model_metrics_dict[\"recalls_array\"],\n",
    "    model_metrics_dict[\"fpr_array\"],\n",
    "    model_metrics_dict[\"tpr_array\"],\n",
    "    model_metrics_dict[\"rocauc_array\"],\n",
    "    model_metrics_dict[\"prauc_array\"],\n",
    "    percent_anomalies_truth=0.073,\n",
    ")"
   ]
  },
  {
   "cell_type": "code",
   "execution_count": 47,
   "metadata": {},
   "outputs": [
    {
     "name": "stdout",
     "output_type": "stream",
     "text": [
      "0.113482585\n",
      "0.100452925\n",
      "0.659100636\n"
     ]
    }
   ],
   "source": [
    "print(df.iloc[row_idx][\"prauc_avg\"])\n",
    "print(df.iloc[row_idx][\"prauc_min\"])\n",
    "print(df.iloc[row_idx][\"rocauc_avg\"])"
   ]
  },
  {
   "cell_type": "code",
   "execution_count": 39,
   "metadata": {},
   "outputs": [
    {
     "data": {
      "text/plain": [
       "Index(['uo_method', 'scaler_method', 'imbalance_ratio', 'classifier',\n",
       "       'sampler_seed', 'feat_col_list', 'date_time', 'dataset',\n",
       "       'precision_score_min', 'precision_score_max', 'precision_score_avg',\n",
       "       'precision_score_std', 'recall_score_min', 'recall_score_max',\n",
       "       'recall_score_avg', 'recall_score_std', 'f1_score_min', 'f1_score_max',\n",
       "       'f1_score_avg', 'f1_score_std', 'rocauc_min', 'rocauc_max',\n",
       "       'rocauc_avg', 'rocauc_std', 'prauc_min', 'prauc_max', 'prauc_avg',\n",
       "       'prauc_std', 'accuracy_min', 'accuracy_max', 'accuracy_avg',\n",
       "       'accuracy_std', 'n_thresholds_min', 'n_thresholds_max', 'SVC_C',\n",
       "       'SVC_kernel', 'SVC_max_iter', 'SVC_verbose', 'RidgeClassifier_alpha',\n",
       "       'XGB_alpha', 'XGB_eta', 'XGB_eval_metric', 'XGB_lambda',\n",
       "       'XGB_max_depth', 'XGB_objective', 'XGB_scale_pos_weight', 'XGB_seed',\n",
       "       'KNeighborsClassifier_metric', 'KNeighborsClassifier_n_neighbors',\n",
       "       'KNeighborsClassifier_weights', 'LogisticRegression_class_weight',\n",
       "       'LogisticRegression_l1_ratio', 'LogisticRegression_max_iter',\n",
       "       'LogisticRegression_penalty', 'LogisticRegression_solver',\n",
       "       'SGDClassifier_eta0', 'SGDClassifier_fit_intercept',\n",
       "       'SGDClassifier_l1_ratio', 'SGDClassifier_learning_rate',\n",
       "       'SGDClassifier_loss', 'SGDClassifier_penalty',\n",
       "       'RandomForestClassifier_bootstrap',\n",
       "       'RandomForestClassifier_class_weight',\n",
       "       'RandomForestClassifier_criterion', 'RandomForestClassifier_max_depth',\n",
       "       'RandomForestClassifier_min_samples_leaf',\n",
       "       'RandomForestClassifier_min_samples_split',\n",
       "       'RandomForestClassifier_n_estimators', 'SVC_degree'],\n",
       "      dtype='object')"
      ]
     },
     "execution_count": 39,
     "metadata": {},
     "output_type": "execute_result"
    }
   ],
   "source": [
    "df.iloc[row_idx].index"
   ]
  },
  {
   "cell_type": "markdown",
   "metadata": {},
   "source": [
    "# Scratch"
   ]
  },
  {
   "cell_type": "code",
   "execution_count": 6,
   "metadata": {},
   "outputs": [
    {
     "data": {
      "text/plain": [
       "dict_keys(['scaler_method', 'uo_method', 'imbalance_ratio', 'classifier'])"
      ]
     },
     "execution_count": 6,
     "metadata": {},
     "output_type": "execute_result"
    }
   ],
   "source": [
    "from src.models.random_search_setup import (\n",
    "    rf_params,\n",
    "    xgb_params,\n",
    "    knn_params,\n",
    "    lr_params,\n",
    "    sgd_params,\n",
    "    ridge_params,\n",
    "    svm_params,\n",
    "    nb_params,\n",
    "    general_params\n",
    ")\n",
    "\n",
    "general_params.keys()"
   ]
  },
  {
   "cell_type": "code",
   "execution_count": 7,
   "metadata": {},
   "outputs": [],
   "source": [
    "general_params_single = {}\n",
    "for k in general_params.keys():\n",
    "    general_params_single[k] = [df.iloc[0][k]]"
   ]
  },
  {
   "cell_type": "code",
   "execution_count": 8,
   "metadata": {},
   "outputs": [
    {
     "data": {
      "text/plain": [
       "{'scaler_method': ['minmax'],\n",
       " 'uo_method': ['smote'],\n",
       " 'imbalance_ratio': [0.5],\n",
       " 'classifier': ['svm']}"
      ]
     },
     "execution_count": 8,
     "metadata": {},
     "output_type": "execute_result"
    }
   ],
   "source": [
    "# make a dict comprehension for general_params_single\n",
    "general_params_single = {k: [df.iloc[0][k]] for k in general_params.keys()}\n",
    "general_params_single"
   ]
  },
  {
   "cell_type": "code",
   "execution_count": 9,
   "metadata": {},
   "outputs": [
    {
     "data": {
      "text/plain": [
       "{}"
      ]
     },
     "execution_count": 9,
     "metadata": {},
     "output_type": "execute_result"
    }
   ],
   "source": [
    "# find all columns in df that begin with \"RandomForestClassifier\"\n",
    "prestring = 'RandomForestClassifier'\n",
    "clf_cols = {c.replace(f\"{prestring}_\",\"\"): df.iloc[0][c]  for c in df.iloc[0].dropna().index if c.startswith(prestring)}\n",
    "clf_cols"
   ]
  },
  {
   "cell_type": "code",
   "execution_count": 10,
   "metadata": {},
   "outputs": [],
   "source": [
    "# convert any whole numbers in clf_cols to int\n",
    "for k in clf_cols.keys():\n",
    "    if isinstance(clf_cols[k], float) and clf_cols[k].is_integer():\n",
    "        clf_cols[k] = int(clf_cols[k])\n"
   ]
  },
  {
   "cell_type": "code",
   "execution_count": 11,
   "metadata": {},
   "outputs": [
    {
     "data": {
      "text/plain": [
       "{}"
      ]
     },
     "execution_count": 11,
     "metadata": {},
     "output_type": "execute_result"
    }
   ],
   "source": [
    "clf_cols"
   ]
  },
  {
   "cell_type": "code",
   "execution_count": 12,
   "metadata": {},
   "outputs": [],
   "source": []
  },
  {
   "cell_type": "code",
   "execution_count": 13,
   "metadata": {},
   "outputs": [
    {
     "data": {
      "text/plain": [
       "{'C': [1.31], 'kernel': ['sigmoid'], 'max_iter': [25000], 'verbose': [False]}"
      ]
     },
     "execution_count": 13,
     "metadata": {},
     "output_type": "execute_result"
    }
   ],
   "source": [
    "params_clf = rebuild_params_clf(df, 0)\n",
    "params_clf"
   ]
  },
  {
   "cell_type": "code",
   "execution_count": null,
   "metadata": {},
   "outputs": [],
   "source": []
  }
 ],
 "metadata": {
  "interpreter": {
   "hash": "bb5c389ed065b0664b086eb1393fdb5729447cbf21b18fded646434c15c951b5"
  },
  "kernelspec": {
   "display_name": "Python 3 (ipykernel)",
   "language": "python",
   "name": "python3"
  },
  "language_info": {
   "codemirror_mode": {
    "name": "ipython",
    "version": 3
   },
   "file_extension": ".py",
   "mimetype": "text/x-python",
   "name": "python",
   "nbconvert_exporter": "python",
   "pygments_lexer": "ipython3",
   "version": "3.8.10"
  }
 },
 "nbformat": 4,
 "nbformat_minor": 4
}
