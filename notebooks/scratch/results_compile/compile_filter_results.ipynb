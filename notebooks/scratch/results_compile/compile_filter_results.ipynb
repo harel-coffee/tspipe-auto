{
 "cells": [
  {
   "cell_type": "code",
   "execution_count": 1,
   "metadata": {},
   "outputs": [],
   "source": [
    "import pandas as pd\n",
    "import numpy as np\n",
    "import os\n",
    "from pathlib import Path\n",
    "import seaborn as sns\n",
    "import matplotlib.pyplot as plt\n",
    "from multiprocessing import Pool"
   ]
  },
  {
   "cell_type": "code",
   "execution_count": 2,
   "metadata": {},
   "outputs": [],
   "source": [
    "def read_csv(filename):\n",
    "    \"converts a filename to a pandas dataframe\"\n",
    "    return pd.read_csv(filename)\n",
    "\n",
    "def main(results_dir_path):\n",
    "\n",
    "    # get a list of file names\n",
    "    files = os.listdir(results_dir_path)\n",
    "    file_list = [\n",
    "        results_dir_path / filename for filename in files if filename.endswith(\".csv\")\n",
    "    ]\n",
    "\n",
    "    # set up your pool\n",
    "    with Pool(processes=2) as pool:  # or whatever your hardware can support\n",
    "\n",
    "        # have your pool map the file names to dataframes\n",
    "        df = pool.map(read_csv, file_list)\n",
    "\n",
    "        # reduce the list of dataframes to a single dataframe\n",
    "        combined_df = pd.concat(df, ignore_index=True)\n",
    "\n",
    "        return combined_df"
   ]
  },
  {
   "cell_type": "code",
   "execution_count": 3,
   "metadata": {},
   "outputs": [
    {
     "data": {
      "text/plain": [
       "PosixPath('/project/6047694/tvhahn/feat-store/notebooks/scratch/results_compile/interim_results_2022-05-04-1150-40')"
      ]
     },
     "execution_count": 3,
     "metadata": {},
     "output_type": "execute_result"
    }
   ],
   "source": [
    "results_dir_path = Path.cwd() / \"interim_results_2022-05-04-1150-40\"\n",
    "results_dir_path"
   ]
  },
  {
   "cell_type": "code",
   "execution_count": 9,
   "metadata": {},
   "outputs": [
    {
     "data": {
      "text/plain": [
       "[PosixPath('/project/6047694/tvhahn/feat-store/notebooks/scratch/results_compile/interim_results_2022-05-04-1150-40/results_9811435.csv'),\n",
       " PosixPath('/project/6047694/tvhahn/feat-store/notebooks/scratch/results_compile/interim_results_2022-05-04-1150-40/results_4604013.csv'),\n",
       " PosixPath('/project/6047694/tvhahn/feat-store/notebooks/scratch/results_compile/interim_results_2022-05-04-1150-40/results_21612324.csv'),\n",
       " PosixPath('/project/6047694/tvhahn/feat-store/notebooks/scratch/results_compile/interim_results_2022-05-04-1150-40/results_32442344.csv'),\n",
       " PosixPath('/project/6047694/tvhahn/feat-store/notebooks/scratch/results_compile/interim_results_2022-05-04-1150-40/results_20895090.csv'),\n",
       " PosixPath('/project/6047694/tvhahn/feat-store/notebooks/scratch/results_compile/interim_results_2022-05-04-1150-40/results_22993695.csv'),\n",
       " PosixPath('/project/6047694/tvhahn/feat-store/notebooks/scratch/results_compile/interim_results_2022-05-04-1150-40/results_11717905.csv'),\n",
       " PosixPath('/project/6047694/tvhahn/feat-store/notebooks/scratch/results_compile/interim_results_2022-05-04-1150-40/results_27401686.csv'),\n",
       " PosixPath('/project/6047694/tvhahn/feat-store/notebooks/scratch/results_compile/interim_results_2022-05-04-1150-40/results_3622378.csv'),\n",
       " PosixPath('/project/6047694/tvhahn/feat-store/notebooks/scratch/results_compile/interim_results_2022-05-04-1150-40/results_23581340.csv')]"
      ]
     },
     "execution_count": 9,
     "metadata": {},
     "output_type": "execute_result"
    }
   ],
   "source": [
    "files = os.listdir(results_dir_path)\n",
    "file_list = [\n",
    "    results_dir_path / filename for filename in files if filename.endswith(\".csv\")\n",
    "]\n",
    "file_list"
   ]
  },
  {
   "cell_type": "code",
   "execution_count": 15,
   "metadata": {},
   "outputs": [
    {
     "name": "stdout",
     "output_type": "stream",
     "text": [
      "(441, 69)\n",
      "['uo_method', 'scaler_method', 'imbalance_ratio', 'classifier', 'sampler_seed', 'feat_col_list', 'date_time', 'dataset', 'precision_score_min', 'precision_score_max', 'precision_score_avg', 'precision_score_std', 'recall_score_min', 'recall_score_max', 'recall_score_avg', 'recall_score_std', 'f1_score_min', 'f1_score_max', 'f1_score_avg', 'f1_score_std', 'rocauc_min', 'rocauc_max', 'rocauc_avg', 'rocauc_std', 'prauc_min', 'prauc_max', 'prauc_avg', 'prauc_std', 'accuracy_min', 'accuracy_max', 'accuracy_avg', 'accuracy_std', 'n_thresholds_min', 'n_thresholds_max', 'SVC_C', 'SVC_kernel', 'SVC_max_iter', 'SVC_verbose', 'RidgeClassifier_alpha', 'XGB_alpha', 'XGB_eta', 'XGB_eval_metric', 'XGB_lambda', 'XGB_max_depth', 'XGB_objective', 'XGB_scale_pos_weight', 'XGB_seed', 'KNeighborsClassifier_metric', 'KNeighborsClassifier_n_neighbors', 'KNeighborsClassifier_weights', 'LogisticRegression_class_weight', 'LogisticRegression_l1_ratio', 'LogisticRegression_max_iter', 'LogisticRegression_penalty', 'LogisticRegression_solver', 'SGDClassifier_eta0', 'SGDClassifier_fit_intercept', 'SGDClassifier_l1_ratio', 'SGDClassifier_learning_rate', 'SGDClassifier_loss', 'SGDClassifier_penalty', 'RandomForestClassifier_bootstrap', 'RandomForestClassifier_class_weight', 'RandomForestClassifier_criterion', 'RandomForestClassifier_max_depth', 'RandomForestClassifier_min_samples_leaf', 'RandomForestClassifier_min_samples_split', 'RandomForestClassifier_n_estimators', 'SVC_degree']\n"
     ]
    }
   ],
   "source": [
    "if __name__ == '__main__':\n",
    "    df = main(results_dir_path)\n",
    "    \n",
    "df.to_csv('compiled_results.csv')\n",
    "    \n",
    "print(df.shape)\n",
    "print(list(df.columns))"
   ]
  },
  {
   "cell_type": "code",
   "execution_count": 12,
   "metadata": {},
   "outputs": [],
   "source": [
    "# filter results based on criteria\n",
    "dfr = df[\n",
    "    (df[\"precision_score_min\"] > 0)\n",
    "    & (df[\"precision_score_max\"] < 1)\n",
    "    & (df[\"precision_score_std\"] > 0)\n",
    "    & (df[\"recall_score_min\"] > 0)\n",
    "    & (df[\"recall_score_max\"] < 1)\n",
    "    & (df[\"recall_score_std\"] > 0)\n",
    "    & (df[\"f1_score_min\"] > 0)\n",
    "    & (df[\"f1_score_max\"] < 1)\n",
    "    & (df[\"f1_score_std\"] > 0)\n",
    "    & (df[\"rocauc_min\"] < 1)\n",
    "    & (df[\"rocauc_max\"] < 1)\n",
    "    & (df[\"rocauc_avg\"] < 1)\n",
    "    & (df[\"rocauc_std\"] > 0)\n",
    "    & (df[\"prauc_min\"] < 1)\n",
    "    & (df[\"prauc_max\"] < 1)\n",
    "    & (df[\"prauc_avg\"] < 1)\n",
    "    & (df[\"prauc_std\"] > 0)\n",
    "    & (df[\"accuracy_min\"] < 1)\n",
    "    & (df[\"accuracy_max\"] < 1)\n",
    "    & (df[\"accuracy_avg\"] < 1)\n",
    "    & (df[\"accuracy_std\"] > 0)\n",
    "    & (df[\"n_thresholds_min\"] > 2)\n",
    "    & (df[\"n_thresholds_max\"] > 2)\n",
    "][:]\n"
   ]
  },
  {
   "cell_type": "code",
   "execution_count": 13,
   "metadata": {},
   "outputs": [
    {
     "data": {
      "text/plain": [
       "(269, 69)"
      ]
     },
     "execution_count": 13,
     "metadata": {},
     "output_type": "execute_result"
    }
   ],
   "source": [
    "dfr.shape"
   ]
  },
  {
   "cell_type": "code",
   "execution_count": null,
   "metadata": {},
   "outputs": [],
   "source": []
  }
 ],
 "metadata": {
  "interpreter": {
   "hash": "bb5c389ed065b0664b086eb1393fdb5729447cbf21b18fded646434c15c951b5"
  },
  "kernelspec": {
   "display_name": "Python 3 (ipykernel)",
   "language": "python",
   "name": "python3"
  },
  "language_info": {
   "codemirror_mode": {
    "name": "ipython",
    "version": 3
   },
   "file_extension": ".py",
   "mimetype": "text/x-python",
   "name": "python",
   "nbconvert_exporter": "python",
   "pygments_lexer": "ipython3",
   "version": "3.8.10"
  }
 },
 "nbformat": 4,
 "nbformat_minor": 4
}
