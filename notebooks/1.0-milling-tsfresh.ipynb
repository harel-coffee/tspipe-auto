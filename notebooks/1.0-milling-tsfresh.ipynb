{
 "cells": [
  {
   "cell_type": "markdown",
   "id": "fe40f11b-8681-4591-883b-6f88190a8798",
   "metadata": {},
   "source": [
    "We will use [tsfresh](https://tsfresh.readthedocs.io/) to create features. The module takes flat dataframes, as described [in the docs](https://tsfresh.readthedocs.io/en/latest/text/data_formats.html).\n",
    "\n",
    "We will take the UC Berkeley milling data set and create a flat dataframe from it."
   ]
  },
  {
   "cell_type": "code",
   "execution_count": 1,
   "id": "5d1a4d75-a802-4b03-a9ad-fa11eec3e461",
   "metadata": {},
   "outputs": [],
   "source": [
    "import pathlib\n",
    "from pathlib import Path\n",
    "import scipy.io as sio\n",
    "import numpy as np\n",
    "import pandas as pd\n",
    "import zipfile\n",
    "import matplotlib.pyplot as plt\n",
    "import seaborn as sns\n",
    "\n",
    "%matplotlib inline\n",
    "%load_ext autoreload\n",
    "%autoreload 2"
   ]
  },
  {
   "cell_type": "markdown",
   "id": "1b5b8d7c",
   "metadata": {},
   "source": [
    "Set folder paths."
   ]
  },
  {
   "cell_type": "code",
   "execution_count": 2,
   "id": "b5749e2f",
   "metadata": {},
   "outputs": [
    {
     "name": "stdout",
     "output_type": "stream",
     "text": [
      "c:\\_Python\\feat-store\n",
      "c:\\_Python\\feat-store\\data\\raw\\milling\n"
     ]
    }
   ],
   "source": [
    "root_dir = Path.cwd().parent\n",
    "print(root_dir)\n",
    "\n",
    "folder_raw_data_milling = root_dir / 'data/raw/milling'\n",
    "folder_processed_data_milling = root_dir / 'data/processed/milling'\n",
    "print(folder_raw_data_milling)"
   ]
  },
  {
   "cell_type": "code",
   "execution_count": 3,
   "id": "a0c3fa4f",
   "metadata": {},
   "outputs": [],
   "source": [
    "# extract mill.zip if not already extracted\n",
    "data_path = folder_raw_data_milling / 'mill.mat'\n",
    "if not data_path.exists():\n",
    "    with zipfile.ZipFile(folder_raw_data_milling / 'mill.zip', 'r') as zip_ref:\n",
    "        zip_ref.extractall(folder_raw_data_milling)"
   ]
  },
  {
   "cell_type": "code",
   "execution_count": 4,
   "id": "5c08fe50",
   "metadata": {},
   "outputs": [],
   "source": [
    "# load the data from the matlab file\n",
    "m = sio.loadmat(data_path, struct_as_record=True)\n",
    "\n",
    "# store the 'mill' data in a seperate np array\n",
    "data = m['mill']\n"
   ]
  },
  {
   "cell_type": "markdown",
   "id": "0cbf307a",
   "metadata": {},
   "source": [
    "Get an idea of the stucture of the data array."
   ]
  },
  {
   "cell_type": "code",
   "execution_count": 5,
   "id": "3bee3e87",
   "metadata": {},
   "outputs": [
    {
     "name": "stdout",
     "output_type": "stream",
     "text": [
      "Keys in the matlab dict file: \n",
      " dict_keys(['__header__', '__version__', '__globals__', 'mill']) \n",
      "\n",
      "List of the field names:\n",
      " ('case', 'run', 'VB', 'time', 'DOC', 'feed', 'material', 'smcAC', 'smcDC', 'vib_table', 'vib_spindle', 'AE_table', 'AE_spindle')\n"
     ]
    }
   ],
   "source": [
    "# show some of the info from the matlab file\n",
    "print('Keys in the matlab dict file: \\n', m.keys(), '\\n')\n",
    "\n",
    "# store the field names in the data np array in a tuple, l\n",
    "l = data.dtype.names\n",
    "print('List of the field names:\\n',l)"
   ]
  },
  {
   "cell_type": "code",
   "execution_count": 6,
   "id": "3ad9b3ed",
   "metadata": {},
   "outputs": [
    {
     "data": {
      "text/plain": [
       "(1, 167)"
      ]
     },
     "execution_count": 6,
     "metadata": {},
     "output_type": "execute_result"
    }
   ],
   "source": [
    "data['time'].shape"
   ]
  },
  {
   "cell_type": "code",
   "execution_count": 7,
   "id": "4c185e9e",
   "metadata": {},
   "outputs": [
    {
     "data": {
      "text/html": [
       "<div>\n",
       "<style scoped>\n",
       "    .dataframe tbody tr th:only-of-type {\n",
       "        vertical-align: middle;\n",
       "    }\n",
       "\n",
       "    .dataframe tbody tr th {\n",
       "        vertical-align: top;\n",
       "    }\n",
       "\n",
       "    .dataframe thead th {\n",
       "        text-align: right;\n",
       "    }\n",
       "</style>\n",
       "<table border=\"1\" class=\"dataframe\">\n",
       "  <thead>\n",
       "    <tr style=\"text-align: right;\">\n",
       "      <th></th>\n",
       "      <th>case</th>\n",
       "      <th>run</th>\n",
       "      <th>VB</th>\n",
       "      <th>time</th>\n",
       "      <th>DOC</th>\n",
       "      <th>feed</th>\n",
       "      <th>material</th>\n",
       "      <th>cut_no</th>\n",
       "    </tr>\n",
       "  </thead>\n",
       "  <tbody>\n",
       "    <tr>\n",
       "      <th>0</th>\n",
       "      <td>1</td>\n",
       "      <td>1</td>\n",
       "      <td>0.00</td>\n",
       "      <td>2</td>\n",
       "      <td>1.5</td>\n",
       "      <td>0.5</td>\n",
       "      <td>1</td>\n",
       "      <td>0</td>\n",
       "    </tr>\n",
       "    <tr>\n",
       "      <th>1</th>\n",
       "      <td>1</td>\n",
       "      <td>2</td>\n",
       "      <td>NaN</td>\n",
       "      <td>4</td>\n",
       "      <td>1.5</td>\n",
       "      <td>0.5</td>\n",
       "      <td>1</td>\n",
       "      <td>1</td>\n",
       "    </tr>\n",
       "    <tr>\n",
       "      <th>2</th>\n",
       "      <td>1</td>\n",
       "      <td>3</td>\n",
       "      <td>NaN</td>\n",
       "      <td>6</td>\n",
       "      <td>1.5</td>\n",
       "      <td>0.5</td>\n",
       "      <td>1</td>\n",
       "      <td>2</td>\n",
       "    </tr>\n",
       "    <tr>\n",
       "      <th>3</th>\n",
       "      <td>1</td>\n",
       "      <td>4</td>\n",
       "      <td>0.11</td>\n",
       "      <td>7</td>\n",
       "      <td>1.5</td>\n",
       "      <td>0.5</td>\n",
       "      <td>1</td>\n",
       "      <td>3</td>\n",
       "    </tr>\n",
       "    <tr>\n",
       "      <th>4</th>\n",
       "      <td>1</td>\n",
       "      <td>5</td>\n",
       "      <td>NaN</td>\n",
       "      <td>11</td>\n",
       "      <td>1.5</td>\n",
       "      <td>0.5</td>\n",
       "      <td>1</td>\n",
       "      <td>4</td>\n",
       "    </tr>\n",
       "  </tbody>\n",
       "</table>\n",
       "</div>"
      ],
      "text/plain": [
       "   case  run    VB  time  DOC  feed  material  cut_no\n",
       "0     1    1  0.00     2  1.5   0.5         1       0\n",
       "1     1    2   NaN     4  1.5   0.5         1       1\n",
       "2     1    3   NaN     6  1.5   0.5         1       2\n",
       "3     1    4  0.11     7  1.5   0.5         1       3\n",
       "4     1    5   NaN    11  1.5   0.5         1       4"
      ]
     },
     "execution_count": 7,
     "metadata": {},
     "output_type": "execute_result"
    }
   ],
   "source": [
    "# store the field names in the data np array in a tuple, l\n",
    "l = data.dtype.names\n",
    "\n",
    "# create empty dataframe for the labels\n",
    "df_labels = pd.DataFrame()\n",
    "\n",
    "# get the labels from the original .mat file and put in dataframe\n",
    "for i in range(7):\n",
    "    # list for storing the label data for each field\n",
    "    x = []\n",
    "    \n",
    "    # iterate through each of the unique cuts\n",
    "    for j in range(167):\n",
    "        x.append(data[0,j][i][0][0])\n",
    "    x = np.array(x)\n",
    "    df_labels[str(i)] = x\n",
    "\n",
    "# add column names to the dataframe\n",
    "df_labels.columns = l[0:7]\n",
    "    \n",
    "# create a column with the unique cut number\n",
    "df_labels['cut_no'] = [i for i in range(167)]\n",
    "\n",
    "df_labels.head()"
   ]
  },
  {
   "cell_type": "markdown",
   "id": "78cc1630",
   "metadata": {},
   "source": [
    "Make a simple plot to look at some of the data."
   ]
  },
  {
   "cell_type": "code",
   "execution_count": 8,
   "id": "77263d2f",
   "metadata": {},
   "outputs": [
    {
     "data": {
      "text/plain": [
       "<matplotlib.legend.Legend at 0x12e22f5ec20>"
      ]
     },
     "execution_count": 8,
     "metadata": {},
     "output_type": "execute_result"
    },
    {
     "data": {
      "image/png": "[encoded data removed]",
      "text/plain": [
       "<Figure size 432x288 with 1 Axes>"
      ]
     },
     "metadata": {
      "needs_background": "light"
     },
     "output_type": "display_data"
    }
   ],
   "source": [
    "# look at cut number 167 (index 166)\n",
    "fig, ax = plt.subplots()\n",
    "\n",
    "ax.plot(data[0,166]['smcAC'],'g-',label='smcAC')\n",
    "ax.plot(data[0,166]['smcDC'],color='orange',label='smcDC')\n",
    "\n",
    "plt.legend()"
   ]
  },
  {
   "cell_type": "markdown",
   "id": "c92b8204",
   "metadata": {},
   "source": [
    "# Create a Milling Data Prep Class\n",
    "Borrow shamelessly from previous work at [ml-tool-wear](https://github.com/tvhahn/ml-tool-wear).\n",
    "\n",
    "tsfresh likes a dataframe, but deep learning models, like those build in PyTorch, like to work with arrays. Our class will create the numpy array first, and then produce a flat dataframe from that."
   ]
  },
  {
   "cell_type": "code",
   "execution_count": 9,
   "id": "172519e3",
   "metadata": {},
   "outputs": [
    {
     "name": "stdout",
     "output_type": "stream",
     "text": [
      "('AE_spindle', 'AE_table', 'vib_spindle', 'vib_table', 'smcDC', 'smcAC')\n"
     ]
    }
   ],
   "source": [
    "m = sio.loadmat(data_path, struct_as_record=True)\n",
    "\n",
    "# store the 'mill' data in a seperate np array\n",
    "data = m['mill']\n",
    "\n",
    "signal_names = data.dtype.names\n",
    "signal_names = signal_names[7:][::-1]\n",
    "print(signal_names)\n"
   ]
  },
  {
   "cell_type": "code",
   "execution_count": 10,
   "id": "239a9e00",
   "metadata": {},
   "outputs": [
    {
     "data": {
      "text/plain": [
       "(9000, 1)"
      ]
     },
     "execution_count": 10,
     "metadata": {},
     "output_type": "execute_result"
    }
   ],
   "source": [
    "cut_index = 97\n",
    "c = data[0, cut_index][signal_names[0]].reshape((9000, 1))\n",
    "c.shape"
   ]
  },
  {
   "cell_type": "code",
   "execution_count": 11,
   "id": "398c4fc0",
   "metadata": {},
   "outputs": [
    {
     "data": {
      "text/plain": [
       "[<matplotlib.lines.Line2D at 0x12e255d8df0>]"
      ]
     },
     "execution_count": 11,
     "metadata": {},
     "output_type": "execute_result"
    },
    {
     "data": {
      "image/png": "[encoded data removed]",
      "text/plain": [
       "<Figure size 432x288 with 1 Axes>"
      ]
     },
     "metadata": {
      "needs_background": "light"
     },
     "output_type": "display_data"
    }
   ],
   "source": [
    "plt.plot(c)"
   ]
  },
  {
   "cell_type": "code",
   "execution_count": 12,
   "id": "e734902b",
   "metadata": {},
   "outputs": [],
   "source": [
    "# create a numpy array of each signal, \n",
    "# with a final array shape like [no. cuts, len cuts, no. signals]\n",
    "cut_no = 145\n",
    "cut = data[0, cut_no]\n",
    "\n",
    "\n",
    "for i, signal_name in enumerate(signal_names):\n",
    "    if i == 0:\n",
    "        cut_array = cut[signal_name].reshape((9000, 1))\n",
    "    else:\n",
    "        cut_array = np.concatenate((cut_array, cut[signal_name].reshape((9000, 1))), axis=1)\n",
    "\n"
   ]
  },
  {
   "cell_type": "code",
   "execution_count": 13,
   "id": "c0bc1733",
   "metadata": {},
   "outputs": [
    {
     "data": {
      "text/plain": [
       "(9000, 6)"
      ]
     },
     "execution_count": 13,
     "metadata": {},
     "output_type": "execute_result"
    }
   ],
   "source": [
    "cut_array.shape"
   ]
  },
  {
   "cell_type": "code",
   "execution_count": 14,
   "id": "af22f123",
   "metadata": {},
   "outputs": [],
   "source": [
    "def plot_cut(cut_signal):\n",
    "\n",
    "    # define colour palette and seaborn style\n",
    "    pal = sns.cubehelix_palette(6, rot=-0.25, light=0.7)\n",
    "    sns.set(style=\"white\", context=\"notebook\")\n",
    "\n",
    "    fig, axes = plt.subplots(\n",
    "        6, 1, dpi=150, figsize=(5, 6), sharex=True, constrained_layout=True,\n",
    "    )\n",
    "\n",
    "    # the \"revised\" signal names so it looks good on the chart\n",
    "    signal_names_revised = [\n",
    "        \"AE Spindle\",\n",
    "        \"AE Table\",\n",
    "        \"Vibe Spindle\",\n",
    "        \"Vibe Table\",\n",
    "        \"DC Current\",\n",
    "        \"AC Current\",\n",
    "    ]\n",
    "\n",
    "    # go through each of the signals\n",
    "    for i in range(6):\n",
    "        # plot the signal\n",
    "        # note, we take the length of the signal (9000 data point)\n",
    "        # and divide it by the frequency (250 Hz) to get the x-axis\n",
    "        # into seconds\n",
    "        axes[i].plot(np.arange(0,cut_signal.shape[0])/250.0, \n",
    "                     cut_signal[:,i], \n",
    "                     color=pal[i], \n",
    "                     linewidth=0.5, \n",
    "                     alpha=1)\n",
    "        \n",
    "        axis_label = signal_names_revised[i]\n",
    "        \n",
    "        axes[i].set_ylabel(\n",
    "            axis_label, fontsize=7,\n",
    "        )\n",
    "\n",
    "        # if it's not the last signal on the plot\n",
    "        # we don't want to show the subplot outlines\n",
    "        if i != 5:\n",
    "            axes[i].spines[\"top\"].set_visible(False)\n",
    "            axes[i].spines[\"right\"].set_visible(False)\n",
    "            axes[i].spines[\"left\"].set_visible(False)\n",
    "            axes[i].spines[\"bottom\"].set_visible(False)\n",
    "            axes[i].set_yticks([]) # also remove the y-ticks, cause ugly\n",
    "        \n",
    "        # for the last signal we will show the x-axis labels\n",
    "        # which are the length (in seconds) of the signal\n",
    "        else:\n",
    "            axes[i].spines[\"top\"].set_visible(False)\n",
    "            axes[i].spines[\"right\"].set_visible(False)\n",
    "            axes[i].spines[\"left\"].set_visible(False)\n",
    "            axes[i].spines[\"bottom\"].set_visible(False)\n",
    "            axes[i].set_yticks([])\n",
    "            axes[i].tick_params(axis=\"x\", labelsize=7)\n",
    "            axes[i].set_xlabel('Seconds', size=5)\n",
    "\n",
    "    plt.show()"
   ]
  },
  {
   "cell_type": "code",
   "execution_count": 15,
   "id": "48880ef8",
   "metadata": {},
   "outputs": [
    {
     "data": {
      "image/png": "[encoded data removed]",
      "text/plain": [
       "<Figure size 750x900 with 6 Axes>"
      ]
     },
     "metadata": {},
     "output_type": "display_data"
    }
   ],
   "source": [
    "plot_cut(cut_array)"
   ]
  },
  {
   "cell_type": "code",
   "execution_count": 16,
   "id": "85cb08cb",
   "metadata": {},
   "outputs": [
    {
     "name": "stdout",
     "output_type": "stream",
     "text": [
      "Index(['case', 'run', 'VB', 'time', 'DOC', 'feed', 'material', 'cut_no',\n",
      "       'tool_class', 'window_start', 'window_end'],\n",
      "      dtype='object')\n"
     ]
    }
   ],
   "source": [
    "# create a numpy array of each signal, \n",
    "# with a final array shape like [no. cuts, len cuts, no. signals]\n",
    "cut_no = 145\n",
    "cut = data[0, cut_no]\n",
    "\n",
    "\n",
    "df_labels = pd.read_csv(\n",
    "    folder_processed_data_milling / \"labels_with_tool_class.csv\"\n",
    ")\n",
    "\n",
    "print(df_labels.columns)\n",
    "\n",
    "\n",
    "for i, signal_name in enumerate(signal_names):\n",
    "    if i == 0:\n",
    "        cut_array = cut[signal_name].reshape((9000, 1))\n",
    "    else:\n",
    "        cut_array = np.concatenate((cut_array, cut[signal_name].reshape((9000, 1))), axis=1)\n",
    "\n",
    "# select the start and end of the cut\n",
    "start = df_labels[df_labels[\"cut_no\"] == cut_no][\"window_start\"].values[0]\n",
    "end = df_labels[df_labels[\"cut_no\"] == cut_no][\"window_end\"].values[0]\n",
    "cut_array = cut_array[start:end,:]\n",
    "\n",
    "# reshape into a 3D tensor\n",
    "# cut_array = cut_array.reshape((1, cut_array.shape[0], cut_array.shape[1]))\n",
    "# cut_array.shape\n",
    "# window the cut_array\n",
    "window_size = 64\n",
    "stride = 64\n",
    "\n",
    "sub_cut_list = []\n",
    "sub_cut_id_list = []\n",
    "sub_cut_label_list = []"
   ]
  },
  {
   "cell_type": "code",
   "execution_count": 17,
   "id": "9eea3ced",
   "metadata": {},
   "outputs": [
    {
     "name": "stdout",
     "output_type": "stream",
     "text": [
      "4480\n",
      "sub_cut_array.shape: (70, 64, 6)\n",
      "sub_cut_ids.shape: (70, 64)\n",
      "sub_cut_labels.shape: (70, 64)\n",
      "sub_cut_times.shape: (70, 64)\n"
     ]
    }
   ],
   "source": [
    "label = df_labels[df_labels[\"cut_no\"] == cut_no][\"tool_class\"].values[0]\n",
    "\n",
    "# fit the strided windows into the dummy_array until the length\n",
    "# of the window does not equal the proper length (better way to do this?)\n",
    "print(cut_array.shape[0])\n",
    "for i in range(cut_array.shape[0]):\n",
    "    windowed_signal = cut_array[i * stride : i * stride + window_size]\n",
    "\n",
    "    # if the windowed signal is the proper length, add it to the list\n",
    "    if windowed_signal.shape == (window_size, 6):\n",
    "        sub_cut_list.append(windowed_signal)\n",
    "\n",
    "        # create sub_cut_id fstring to keep track of the cut_id and the window_id\n",
    "        sub_cut_id_list.append(f\"{cut_no}_{i}\")\n",
    "\n",
    "        # create the sub_cut_label and append it to the list\n",
    "        sub_cut_label_list.append(int(label))\n",
    "\n",
    "    else:\n",
    "        break\n",
    "\n",
    "sub_cut_array = np.array(sub_cut_list)\n",
    "\n",
    "sub_cut_ids = np.expand_dims(np.array(sub_cut_id_list, dtype=str), axis=1)\n",
    "sub_cut_ids = np.repeat(sub_cut_ids, sub_cut_array.shape[1], axis=1)\n",
    "\n",
    "sub_cut_labels = np.expand_dims(np.array(sub_cut_label_list, dtype=int), axis=1)\n",
    "sub_cut_labels = np.repeat(sub_cut_labels, sub_cut_array.shape[1], axis=1)\n",
    "\n",
    "# take the length of the signals in the sub_cut_array\n",
    "# and divide it by the frequency (250 Hz) to get the time (seconds) of each sub-cut\n",
    "sub_cut_times = np.expand_dims(np.arange(0, sub_cut_array.shape[1])/250.0, axis=0)\n",
    "\n",
    "# duplicate the sub_cut_time by the number of samples in the sub_cut_array to make it a 2D array\n",
    "sub_cut_times = np.repeat(sub_cut_times, sub_cut_array.shape[0], axis = 0)\n",
    "\n",
    "print('sub_cut_array.shape:', sub_cut_array.shape)\n",
    "print('sub_cut_ids.shape:', sub_cut_ids.shape)\n",
    "print('sub_cut_labels.shape:', sub_cut_labels.shape)\n",
    "print('sub_cut_times.shape:', sub_cut_times.shape)\n"
   ]
  },
  {
   "cell_type": "code",
   "execution_count": 18,
   "id": "3cf172ef-7090-4fb9-8bde-4789cc66965c",
   "metadata": {},
   "outputs": [
    {
     "data": {
      "text/plain": [
       "array([0.   , 0.004, 0.008, 0.012, 0.016, 0.02 , 0.024, 0.028, 0.032,\n",
       "       0.036, 0.04 , 0.044, 0.048, 0.052, 0.056, 0.06 , 0.064, 0.068,\n",
       "       0.072, 0.076, 0.08 , 0.084, 0.088, 0.092, 0.096, 0.1  , 0.104,\n",
       "       0.108, 0.112, 0.116, 0.12 , 0.124, 0.128, 0.132, 0.136, 0.14 ,\n",
       "       0.144, 0.148, 0.152, 0.156, 0.16 , 0.164, 0.168, 0.172, 0.176,\n",
       "       0.18 , 0.184, 0.188, 0.192, 0.196, 0.2  , 0.204, 0.208, 0.212,\n",
       "       0.216, 0.22 , 0.224, 0.228, 0.232, 0.236, 0.24 , 0.244, 0.248,\n",
       "       0.252])"
      ]
     },
     "execution_count": 18,
     "metadata": {},
     "output_type": "execute_result"
    }
   ],
   "source": [
    "sub_cut_times[1,:]"
   ]
  },
  {
   "cell_type": "code",
   "execution_count": 19,
   "id": "c688e62a",
   "metadata": {},
   "outputs": [],
   "source": [
    "folder_raw_data_milling = root_dir / 'data/raw/milling'\n",
    "folder_processed_data_milling = root_dir / 'data/processed/milling'"
   ]
  },
  {
   "cell_type": "code",
   "execution_count": 21,
   "id": "ecb98d28",
   "metadata": {},
   "outputs": [],
   "source": [
    "class MillingDataPrep:\n",
    "    def __init__(self, path_raw_data, path_df_labels=None, window_size=64, stride=64, cut_drop_list=[17, 94]):\n",
    "        \"\"\"Prepare the UC Berkeley Milling dataset for training.\n",
    "\n",
    "        Parameters\n",
    "        ----------\n",
    "        path_raw_data : pathlib\n",
    "            Path to the raw data folder.\n",
    "\n",
    "        path_df_labels : pathlib, optional\n",
    "            Path to the dataframe with the labels. If not provided, the dataframe must be created.\n",
    "\n",
    "        window_size : int\n",
    "            Size of the window to be used for the sliding window.\n",
    "\n",
    "        stride : int\n",
    "            Size of the stride to be used for the sliding window.\n",
    "\n",
    "        cut_drop_list : list\n",
    "            List of cut numbers to be dropped from the dataset. cut_no 17 and 94 are erroneous.\n",
    "        \n",
    "        \"\"\"\n",
    "\n",
    "        self.data_file = path_raw_data / 'mill.mat' # path to the raw data file\n",
    "        self.window_size = window_size # size of the window\n",
    "        self.stride = stride # stride between windows\n",
    "\n",
    "        if path_df_labels is None:\n",
    "            print(\"Warning: no csv defined for creating labels\")\n",
    "        else:\n",
    "            self.df_labels = pd.read_csv(path_df_labels) # path to the labels file with tool class\n",
    "            self.df_labels.drop(cut_drop_list, inplace=True) # drop the cuts that are bad\n",
    "            self.df_labels.reset_index(drop=True, inplace=True) # reset the index\n",
    "\n",
    "        # load the data from the matlab file\n",
    "        m = sio.loadmat(self.data_file, struct_as_record=True)\n",
    "\n",
    "        # store the 'mill' data in a seperate np array\n",
    "        self.data = m[\"mill\"]\n",
    "\n",
    "        self.field_names = self.data.dtype.names\n",
    "        self.signal_names = self.field_names[7:][::-1]\n",
    "\n",
    "    def create_labels(self):\n",
    "        \"\"\"Function that will create the label dataframe from the mill data set\"\"\"\n",
    "\n",
    "        # create empty dataframe for the labels\n",
    "        df_labels = pd.DataFrame()\n",
    "\n",
    "        # get the labels from the original .mat file and put in dataframe\n",
    "        for i in range(7):\n",
    "            # list for storing the label data for each field\n",
    "            x = []\n",
    "\n",
    "            # iterate through each of the unique cuts\n",
    "            for j in range(167):\n",
    "                x.append(self.data[0, j][i][0][0])\n",
    "            x = np.array(x)\n",
    "            df_labels[str(i)] = x\n",
    "\n",
    "        # add column names to the dataframe\n",
    "        df_labels.columns = self.field_names[0:7]\n",
    "\n",
    "        # create a column with the unique cut number\n",
    "        df_labels[\"cut_no\"] = [i for i in range(167)]\n",
    "\n",
    "        def tool_state(cols):\n",
    "            \"\"\"Add the label to the cut. \n",
    "            \n",
    "            Categories are:\n",
    "            Healthy Sate (label=0): 0~0.2mm flank wear\n",
    "            Degredation State (label=1): 0.2~0.7mm flank wear\n",
    "            Failure State (label=2): >0.7mm flank wear \n",
    "            \"\"\"\n",
    "            # pass in the tool wear, VB, column\n",
    "            vb = cols\n",
    "\n",
    "            if vb < 0.2:\n",
    "                return 0\n",
    "            elif vb >= 0.2 and vb < 0.7:\n",
    "                return 1\n",
    "            elif pd.isnull(vb):\n",
    "                pass\n",
    "            else:\n",
    "                return 2\n",
    "\n",
    "        # apply the label to the dataframe\n",
    "        df_labels[\"tool_class\"] = df_labels[\"VB\"].apply(tool_state)\n",
    "\n",
    "        return df_labels\n",
    "\n",
    "    def create_data_array(self, cut_no):\n",
    "        \"\"\"Create an array from a cut sample.\n",
    "\n",
    "        Parameters\n",
    "        ===========\n",
    "        cut_no : int\n",
    "            Index of the cut to be used.\n",
    "\n",
    "        Returns\n",
    "        ===========\n",
    "        sub_cut_array : np.array\n",
    "            Array of the cut samples. Shape of [n0. samples, sample len, features/sample]\n",
    "\n",
    "        sub_cut_labels : np.array\n",
    "            Array of the labels for the cut samples. Shape of [# samples, # features/sample]\n",
    "\n",
    "        \"\"\"\n",
    "        \n",
    "        assert cut_no in self.df_labels[\"cut_no\"].values, \"Cut number must be in the dataframe\"\n",
    "\n",
    "        # create a numpy array of the cut \n",
    "        # with a final array shape like [no. cuts, len cuts, no. signals]\n",
    "        cut = self.data[0, cut_no]\n",
    "        for i, signal_name in enumerate(self.signal_names):\n",
    "            if i == 0:\n",
    "                cut_array = cut[signal_name].reshape((9000, 1))\n",
    "            else:\n",
    "                cut_array = np.concatenate((cut_array, cut[signal_name].reshape((9000, 1))), axis=1)\n",
    "\n",
    "        # select the start and end of the cut\n",
    "        start = self.df_labels[self.df_labels[\"cut_no\"] == cut_no][\"window_start\"].values[0]\n",
    "        end = self.df_labels[self.df_labels[\"cut_no\"] == cut_no][\"window_end\"].values[0]\n",
    "        cut_array = cut_array[start:end,:]\n",
    "\n",
    "        # instantiate the \"temporary\" list to store the sub-cuts and metadata\n",
    "        sub_cut_list = []\n",
    "        sub_cut_id_list = []\n",
    "        sub_cut_label_list = []\n",
    "\n",
    "        # get the labels for the cut\n",
    "        label = self.df_labels[self.df_labels[\"cut_no\"] == cut_no][\"tool_class\"].values[0]\n",
    "\n",
    "        # fit the strided windows into the dummy_array until the length\n",
    "        # of the window does not equal the proper length (better way to do this???)\n",
    "        for i in range(cut_array.shape[0]):\n",
    "            windowed_signal = cut_array[i * self.stride : i * self.stride + self.window_size]\n",
    "\n",
    "            # if the windowed signal is the proper length, add it to the list\n",
    "            if windowed_signal.shape == (self.window_size, 6):\n",
    "                sub_cut_list.append(windowed_signal)\n",
    "\n",
    "                # create sub_cut_id fstring to keep track of the cut_id and the window_id\n",
    "                sub_cut_id_list.append(f\"{cut_no}_{i}\")\n",
    "\n",
    "                # create the sub_cut_label and append it to the list\n",
    "                sub_cut_label_list.append(int(label))\n",
    "\n",
    "            else:\n",
    "                break\n",
    "\n",
    "        sub_cut_array = np.array(sub_cut_list)\n",
    "\n",
    "        sub_cut_ids = np.expand_dims(np.array(sub_cut_id_list, dtype=str), axis=1)\n",
    "        sub_cut_ids = np.repeat(sub_cut_ids, sub_cut_array.shape[1], axis=1)\n",
    "\n",
    "        sub_cut_labels = np.expand_dims(np.array(sub_cut_label_list, dtype=int), axis=1)\n",
    "        sub_cut_labels = np.repeat(sub_cut_labels, sub_cut_array.shape[1], axis=1)\n",
    "\n",
    "        # take the length of the signals in the sub_cut_array\n",
    "        # and divide it by the frequency (250 Hz) to get the time (seconds) of each sub-cut\n",
    "        sub_cut_times = np.expand_dims(np.arange(0, sub_cut_array.shape[1])/250.0, axis=0)\n",
    "        sub_cut_times = np.repeat(sub_cut_times, sub_cut_array.shape[0], axis = 0,)\n",
    "        \n",
    "        sub_cut_labels_ids_times = np.stack((sub_cut_labels, sub_cut_ids, sub_cut_times), axis=2)\n",
    "\n",
    "        return sub_cut_array, sub_cut_labels, sub_cut_ids, sub_cut_times, sub_cut_labels_ids_times\n",
    "\n",
    "    def create_xy_arrays(self):\n",
    "\n",
    "        # create a list to store the x and y arrays\n",
    "        x = []  # instantiate X's\n",
    "        y_labels_ids_times = []  # instantiate y's\n",
    "        \n",
    "\n",
    "        # iterate throught the df_labels\n",
    "        for i in self.df_labels.itertuples():\n",
    "            (sub_cut_array, sub_cut_labels, sub_cut_ids, \n",
    "            sub_cut_times, sub_cut_labels_ids_times) = self.create_data_array(i.cut_no)\n",
    "        \n",
    "            x.append(sub_cut_array)\n",
    "            y_labels_ids_times.append(sub_cut_labels_ids_times)\n",
    "\n",
    "        return np.vstack(x), np.vstack(y_labels_ids_times)\n",
    "\n",
    "    def create_xy_dataframe(self):\n",
    "        pass\n",
    "    \n",
    "        \n",
    "\n",
    "        \n",
    "        \n",
    "\n"
   ]
  },
  {
   "cell_type": "code",
   "execution_count": 24,
   "id": "08c5a515",
   "metadata": {},
   "outputs": [],
   "source": [
    "root_dir = Path.cwd().parent\n",
    "\n",
    "folder_raw_data_milling = root_dir / 'data/raw/milling'\n",
    "folder_processed_data_milling = root_dir / 'data/processed/milling'\n",
    "df_label_path=folder_processed_data_milling / \"labels_with_tool_class.csv\"\n",
    "\n",
    "milldata = MillingDataPrep(folder_raw_data_milling, path_df_labels=df_label_path, window_size=64, stride=64)"
   ]
  },
  {
   "cell_type": "code",
   "execution_count": 25,
   "id": "e5a1e307",
   "metadata": {},
   "outputs": [],
   "source": [
    "sub_cut_array, sub_cut_labels, sub_cut_ids, sub_cut_times, sub_cut_labels_ids_times = milldata.create_data_array(1)"
   ]
  },
  {
   "cell_type": "code",
   "execution_count": 33,
   "metadata": {},
   "outputs": [],
   "source": [
    "x, y_labels_ids_times = milldata.create_xy_arrays()"
   ]
  },
  {
   "cell_type": "code",
   "execution_count": 34,
   "metadata": {},
   "outputs": [
    {
     "data": {
      "text/plain": [
       "(11570, 64, 6)"
      ]
     },
     "execution_count": 34,
     "metadata": {},
     "output_type": "execute_result"
    }
   ],
   "source": [
    "x.shape"
   ]
  },
  {
   "cell_type": "code",
   "execution_count": 29,
   "metadata": {},
   "outputs": [
    {
     "name": "stdout",
     "output_type": "stream",
     "text": [
      "(64, 6)\n"
     ]
    }
   ],
   "source": [
    "# create a dataframe from the x array\n",
    "for sub_cut in x:\n",
    "    print(sub_cut.shape)\n",
    "    break"
   ]
  },
  {
   "cell_type": "code",
   "execution_count": 36,
   "metadata": {},
   "outputs": [],
   "source": [
    "df_x = pd.DataFrame(x[0,:,:])"
   ]
  },
  {
   "cell_type": "code",
   "execution_count": 41,
   "metadata": {},
   "outputs": [
    {
     "data": {
      "text/plain": [
       "(64, 3)"
      ]
     },
     "execution_count": 41,
     "metadata": {},
     "output_type": "execute_result"
    }
   ],
   "source": [
    "y_labels_ids_times[0,:,:].shape"
   ]
  },
  {
   "cell_type": "code",
   "execution_count": 46,
   "metadata": {},
   "outputs": [
    {
     "data": {
      "text/plain": [
       "(64, 9)"
      ]
     },
     "execution_count": 46,
     "metadata": {},
     "output_type": "execute_result"
    }
   ],
   "source": [
    "c = np.concatenate((x[0,:,:], y_labels_ids_times[0,:,:]), axis=1)\n",
    "c.shape"
   ]
  },
  {
   "cell_type": "code",
   "execution_count": 53,
   "metadata": {},
   "outputs": [
    {
     "data": {
      "text/html": [
       "<div>\n",
       "<style scoped>\n",
       "    .dataframe tbody tr th:only-of-type {\n",
       "        vertical-align: middle;\n",
       "    }\n",
       "\n",
       "    .dataframe tbody tr th {\n",
       "        vertical-align: top;\n",
       "    }\n",
       "\n",
       "    .dataframe thead th {\n",
       "        text-align: right;\n",
       "    }\n",
       "</style>\n",
       "<table border=\"1\" class=\"dataframe\">\n",
       "  <thead>\n",
       "    <tr style=\"text-align: right;\">\n",
       "      <th></th>\n",
       "      <th>AE_spindle</th>\n",
       "      <th>AE_table</th>\n",
       "      <th>vib_spindle</th>\n",
       "      <th>vib_table</th>\n",
       "      <th>smcDC</th>\n",
       "      <th>smcAC</th>\n",
       "      <th>tool_class</th>\n",
       "      <th>cut_id</th>\n",
       "      <th>time</th>\n",
       "    </tr>\n",
       "  </thead>\n",
       "  <tbody>\n",
       "    <tr>\n",
       "      <th>0</th>\n",
       "      <td>0.219727</td>\n",
       "      <td>0.2728271484375</td>\n",
       "      <td>0.733642578125</td>\n",
       "      <td>2.11669921875</td>\n",
       "      <td>6.8408203125</td>\n",
       "      <td>0.12451171875</td>\n",
       "      <td>0</td>\n",
       "      <td>0_0</td>\n",
       "      <td>0.0</td>\n",
       "    </tr>\n",
       "    <tr>\n",
       "      <th>1</th>\n",
       "      <td>0.246582</td>\n",
       "      <td>0.322265625</td>\n",
       "      <td>0.77880859375</td>\n",
       "      <td>2.27783203125</td>\n",
       "      <td>6.66015625</td>\n",
       "      <td>-0.5615234375</td>\n",
       "      <td>0</td>\n",
       "      <td>0_0</td>\n",
       "      <td>0.004</td>\n",
       "    </tr>\n",
       "    <tr>\n",
       "      <th>2</th>\n",
       "      <td>0.294189</td>\n",
       "      <td>0.2838134765625</td>\n",
       "      <td>0.758056640625</td>\n",
       "      <td>2.34375</td>\n",
       "      <td>6.5087890625</td>\n",
       "      <td>-2.099609375</td>\n",
       "      <td>0</td>\n",
       "      <td>0_0</td>\n",
       "      <td>0.008</td>\n",
       "    </tr>\n",
       "    <tr>\n",
       "      <th>3</th>\n",
       "      <td>0.323486</td>\n",
       "      <td>0.260009765625</td>\n",
       "      <td>0.726318359375</td>\n",
       "      <td>2.44873046875</td>\n",
       "      <td>6.54296875</td>\n",
       "      <td>-2.73193359375</td>\n",
       "      <td>0</td>\n",
       "      <td>0_0</td>\n",
       "      <td>0.012</td>\n",
       "    </tr>\n",
       "    <tr>\n",
       "      <th>4</th>\n",
       "      <td>0.290527</td>\n",
       "      <td>0.2532958984375</td>\n",
       "      <td>0.653076171875</td>\n",
       "      <td>2.54638671875</td>\n",
       "      <td>6.62109375</td>\n",
       "      <td>-3.505859375</td>\n",
       "      <td>0</td>\n",
       "      <td>0_0</td>\n",
       "      <td>0.016</td>\n",
       "    </tr>\n",
       "  </tbody>\n",
       "</table>\n",
       "</div>"
      ],
      "text/plain": [
       "   AE_spindle         AE_table     vib_spindle      vib_table         smcDC  \\\n",
       "0    0.219727  0.2728271484375  0.733642578125  2.11669921875  6.8408203125   \n",
       "1    0.246582      0.322265625   0.77880859375  2.27783203125    6.66015625   \n",
       "2    0.294189  0.2838134765625  0.758056640625        2.34375  6.5087890625   \n",
       "3    0.323486   0.260009765625  0.726318359375  2.44873046875    6.54296875   \n",
       "4    0.290527  0.2532958984375  0.653076171875  2.54638671875    6.62109375   \n",
       "\n",
       "            smcAC tool_class cut_id   time  \n",
       "0   0.12451171875          0    0_0    0.0  \n",
       "1   -0.5615234375          0    0_0  0.004  \n",
       "2    -2.099609375          0    0_0  0.008  \n",
       "3  -2.73193359375          0    0_0  0.012  \n",
       "4    -3.505859375          0    0_0  0.016  "
      ]
     },
     "execution_count": 53,
     "metadata": {},
     "output_type": "execute_result"
    }
   ],
   "source": [
    "dfc = pd.DataFrame(c, columns=list(signal_names) + [\"tool_class\", \"cut_id\", \"time\"], ).astype({\"AE_spindle\": float})\n",
    "dfc.head()"
   ]
  },
  {
   "cell_type": "code",
   "execution_count": 54,
   "metadata": {},
   "outputs": [
    {
     "data": {
      "text/plain": [
       "0     0.219727\n",
       "1     0.246582\n",
       "2     0.294189\n",
       "3     0.323486\n",
       "4     0.290527\n",
       "        ...   \n",
       "59    0.324097\n",
       "60    0.256958\n",
       "61    0.232544\n",
       "62    0.233765\n",
       "63    0.215454\n",
       "Name: AE_spindle, Length: 64, dtype: float64"
      ]
     },
     "execution_count": 54,
     "metadata": {},
     "output_type": "execute_result"
    }
   ],
   "source": [
    "dfc['AE_spindle']"
   ]
  },
  {
   "cell_type": "code",
   "execution_count": 79,
   "metadata": {},
   "outputs": [
    {
     "data": {
      "text/plain": [
       "(11570, 64, 6)"
      ]
     },
     "execution_count": 79,
     "metadata": {},
     "output_type": "execute_result"
    }
   ],
   "source": [
    "x.shape"
   ]
  },
  {
   "cell_type": "code",
   "execution_count": 81,
   "metadata": {},
   "outputs": [
    {
     "data": {
      "text/plain": [
       "(11570, 64, 3)"
      ]
     },
     "execution_count": 81,
     "metadata": {},
     "output_type": "execute_result"
    }
   ],
   "source": [
    "y_labels_ids_times.shape"
   ]
  },
  {
   "cell_type": "code",
   "execution_count": 24,
   "id": "04b8bead-7f98-4d2c-bdb9-a43353f4748b",
   "metadata": {},
   "outputs": [
    {
     "data": {
      "text/plain": [
       "array([0.   , 0.004, 0.008, 0.012, 0.016, 0.02 , 0.024, 0.028, 0.032,\n",
       "       0.036, 0.04 , 0.044, 0.048, 0.052, 0.056, 0.06 , 0.064, 0.068,\n",
       "       0.072, 0.076, 0.08 , 0.084, 0.088, 0.092, 0.096, 0.1  , 0.104,\n",
       "       0.108, 0.112, 0.116, 0.12 , 0.124, 0.128, 0.132, 0.136, 0.14 ,\n",
       "       0.144, 0.148, 0.152, 0.156, 0.16 , 0.164, 0.168, 0.172, 0.176,\n",
       "       0.18 , 0.184, 0.188, 0.192, 0.196, 0.2  , 0.204, 0.208, 0.212,\n",
       "       0.216, 0.22 , 0.224, 0.228, 0.232, 0.236, 0.24 , 0.244, 0.248,\n",
       "       0.252])"
      ]
     },
     "execution_count": 24,
     "metadata": {},
     "output_type": "execute_result"
    }
   ],
   "source": [
    "sub_cut_times[1,:]"
   ]
  },
  {
   "cell_type": "code",
   "execution_count": 25,
   "id": "e76fced9-1cbf-4a71-b8b5-f2b659577666",
   "metadata": {},
   "outputs": [
    {
     "data": {
      "text/plain": [
       "(30, 64, 3)"
      ]
     },
     "execution_count": 25,
     "metadata": {},
     "output_type": "execute_result"
    }
   ],
   "source": [
    "sub_cut_labels_ids_times.shape"
   ]
  },
  {
   "cell_type": "code",
   "execution_count": 26,
   "id": "ee988384-b537-4e35-ab58-44e73e889952",
   "metadata": {},
   "outputs": [
    {
     "data": {
      "text/plain": [
       "array(['0', '0', '0', '0', '0', '0', '0', '0', '0', '0', '0', '0', '0',\n",
       "       '0', '0', '0', '0', '0', '0', '0', '0', '0', '0', '0', '0', '0',\n",
       "       '0', '0', '0', '0', '0', '0', '0', '0', '0', '0', '0', '0', '0',\n",
       "       '0', '0', '0', '0', '0', '0', '0', '0', '0', '0', '0', '0', '0',\n",
       "       '0', '0', '0', '0', '0', '0', '0', '0', '0', '0', '0', '0'],\n",
       "      dtype='<U32')"
      ]
     },
     "execution_count": 26,
     "metadata": {},
     "output_type": "execute_result"
    }
   ],
   "source": [
    "sub_cut_labels_ids_times[1,:,0]"
   ]
  },
  {
   "cell_type": "code",
   "execution_count": null,
   "id": "d3afd5ca-c2dd-4b43-a1b3-f27918a5f953",
   "metadata": {},
   "outputs": [],
   "source": []
  },
  {
   "cell_type": "code",
   "execution_count": 69,
   "id": "6e9968c9",
   "metadata": {},
   "outputs": [
    {
     "data": {
      "text/plain": [
       "(30, 64, 3)"
      ]
     },
     "execution_count": 69,
     "metadata": {},
     "output_type": "execute_result"
    }
   ],
   "source": [
    "a = np.stack((sub_cut_labels, sub_cut_ids, sub_cut_times), axis=2)\n",
    "a.shape"
   ]
  },
  {
   "cell_type": "code",
   "execution_count": 77,
   "id": "1caf0098-c4a7-4bed-a8ea-5d1e1184dabb",
   "metadata": {},
   "outputs": [
    {
     "data": {
      "text/plain": [
       "array(['22_3', '22_3', '22_3', '22_3', '22_3', '22_3', '22_3', '22_3',\n",
       "       '22_3', '22_3', '22_3', '22_3', '22_3', '22_3', '22_3', '22_3',\n",
       "       '22_3', '22_3', '22_3', '22_3', '22_3', '22_3', '22_3', '22_3',\n",
       "       '22_3', '22_3', '22_3', '22_3', '22_3', '22_3', '22_3', '22_3',\n",
       "       '22_3', '22_3', '22_3', '22_3', '22_3', '22_3', '22_3', '22_3',\n",
       "       '22_3', '22_3', '22_3', '22_3', '22_3', '22_3', '22_3', '22_3',\n",
       "       '22_3', '22_3', '22_3', '22_3', '22_3', '22_3', '22_3', '22_3',\n",
       "       '22_3', '22_3', '22_3', '22_3', '22_3', '22_3', '22_3', '22_3'],\n",
       "      dtype='<U32')"
      ]
     },
     "execution_count": 77,
     "metadata": {},
     "output_type": "execute_result"
    }
   ],
   "source": [
    "a[3,:,1]"
   ]
  },
  {
   "cell_type": "code",
   "execution_count": 31,
   "id": "49bf37eb",
   "metadata": {},
   "outputs": [
    {
     "data": {
      "text/plain": [
       "(30, 64)"
      ]
     },
     "execution_count": 31,
     "metadata": {},
     "output_type": "execute_result"
    }
   ],
   "source": [
    "sub_cut_ids.shape"
   ]
  },
  {
   "cell_type": "code",
   "execution_count": 24,
   "id": "2f8bcc53",
   "metadata": {},
   "outputs": [
    {
     "data": {
      "text/plain": [
       "array(['22_1', '22_1', '22_1', '22_1', '22_1', '22_1', '22_1', '22_1',\n",
       "       '22_1', '22_1', '22_1', '22_1', '22_1', '22_1', '22_1', '22_1',\n",
       "       '22_1', '22_1', '22_1', '22_1', '22_1', '22_1', '22_1', '22_1',\n",
       "       '22_1', '22_1', '22_1', '22_1', '22_1', '22_1', '22_1', '22_1',\n",
       "       '22_1', '22_1', '22_1', '22_1', '22_1', '22_1', '22_1', '22_1',\n",
       "       '22_1', '22_1', '22_1', '22_1', '22_1', '22_1', '22_1', '22_1',\n",
       "       '22_1', '22_1', '22_1', '22_1', '22_1', '22_1', '22_1', '22_1',\n",
       "       '22_1', '22_1', '22_1', '22_1', '22_1', '22_1', '22_1', '22_1'],\n",
       "      dtype='<U5')"
      ]
     },
     "execution_count": 24,
     "metadata": {},
     "output_type": "execute_result"
    }
   ],
   "source": [
    "sub_cut_ids[1,:]"
   ]
  },
  {
   "cell_type": "code",
   "execution_count": 136,
   "id": "9d0b3389",
   "metadata": {},
   "outputs": [
    {
     "data": {
      "text/plain": [
       "array([0.   , 0.004, 0.008, 0.012, 0.016, 0.02 , 0.024, 0.028, 0.032,\n",
       "       0.036, 0.04 , 0.044, 0.048, 0.052, 0.056, 0.06 , 0.064, 0.068,\n",
       "       0.072, 0.076, 0.08 , 0.084, 0.088, 0.092, 0.096, 0.1  , 0.104,\n",
       "       0.108, 0.112, 0.116, 0.12 , 0.124, 0.128, 0.132, 0.136, 0.14 ,\n",
       "       0.144, 0.148, 0.152, 0.156, 0.16 , 0.164, 0.168, 0.172, 0.176,\n",
       "       0.18 , 0.184, 0.188, 0.192, 0.196, 0.2  , 0.204, 0.208, 0.212,\n",
       "       0.216, 0.22 , 0.224, 0.228, 0.232, 0.236, 0.24 , 0.244, 0.248,\n",
       "       0.252])"
      ]
     },
     "execution_count": 136,
     "metadata": {},
     "output_type": "execute_result"
    }
   ],
   "source": [
    "sub_cut_times[1,:]"
   ]
  },
  {
   "cell_type": "code",
   "execution_count": 102,
   "id": "0b04562e",
   "metadata": {},
   "outputs": [
    {
     "data": {
      "text/plain": [
       "(70, 64)"
      ]
     },
     "execution_count": 102,
     "metadata": {},
     "output_type": "execute_result"
    }
   ],
   "source": [
    "sub_cut_time.shape"
   ]
  },
  {
   "cell_type": "code",
   "execution_count": 50,
   "id": "2f8ebfc4",
   "metadata": {},
   "outputs": [
    {
     "data": {
      "text/plain": [
       "(70, 1)"
      ]
     },
     "execution_count": 50,
     "metadata": {},
     "output_type": "execute_result"
    }
   ],
   "source": [
    "sub_cut_time.shape"
   ]
  },
  {
   "cell_type": "code",
   "execution_count": 51,
   "id": "eb6c2c76",
   "metadata": {},
   "outputs": [
    {
     "data": {
      "text/plain": [
       "array([[0.   ],\n",
       "       [0.004],\n",
       "       [0.008],\n",
       "       [0.012],\n",
       "       [0.016],\n",
       "       [0.02 ],\n",
       "       [0.024],\n",
       "       [0.028],\n",
       "       [0.032],\n",
       "       [0.036],\n",
       "       [0.04 ],\n",
       "       [0.044],\n",
       "       [0.048],\n",
       "       [0.052],\n",
       "       [0.056],\n",
       "       [0.06 ],\n",
       "       [0.064],\n",
       "       [0.068],\n",
       "       [0.072],\n",
       "       [0.076],\n",
       "       [0.08 ],\n",
       "       [0.084],\n",
       "       [0.088],\n",
       "       [0.092],\n",
       "       [0.096],\n",
       "       [0.1  ],\n",
       "       [0.104],\n",
       "       [0.108],\n",
       "       [0.112],\n",
       "       [0.116],\n",
       "       [0.12 ],\n",
       "       [0.124],\n",
       "       [0.128],\n",
       "       [0.132],\n",
       "       [0.136],\n",
       "       [0.14 ],\n",
       "       [0.144],\n",
       "       [0.148],\n",
       "       [0.152],\n",
       "       [0.156],\n",
       "       [0.16 ],\n",
       "       [0.164],\n",
       "       [0.168],\n",
       "       [0.172],\n",
       "       [0.176],\n",
       "       [0.18 ],\n",
       "       [0.184],\n",
       "       [0.188],\n",
       "       [0.192],\n",
       "       [0.196],\n",
       "       [0.2  ],\n",
       "       [0.204],\n",
       "       [0.208],\n",
       "       [0.212],\n",
       "       [0.216],\n",
       "       [0.22 ],\n",
       "       [0.224],\n",
       "       [0.228],\n",
       "       [0.232],\n",
       "       [0.236],\n",
       "       [0.24 ],\n",
       "       [0.244],\n",
       "       [0.248],\n",
       "       [0.252],\n",
       "       [0.256],\n",
       "       [0.26 ],\n",
       "       [0.264],\n",
       "       [0.268],\n",
       "       [0.272],\n",
       "       [0.276]])"
      ]
     },
     "execution_count": 51,
     "metadata": {},
     "output_type": "execute_result"
    }
   ],
   "source": [
    "sub_cut_time"
   ]
  },
  {
   "cell_type": "code",
   "execution_count": 29,
   "id": "d2ddbbd1",
   "metadata": {},
   "outputs": [
    {
     "data": {
      "text/plain": [
       "(70, 64, 6)"
      ]
     },
     "execution_count": 29,
     "metadata": {},
     "output_type": "execute_result"
    }
   ],
   "source": [
    "cut_array_windowed.shape"
   ]
  },
  {
   "cell_type": "code",
   "execution_count": null,
   "id": "25e82ba3",
   "metadata": {},
   "outputs": [],
   "source": []
  }
 ],
 "metadata": {
  "interpreter": {
   "hash": "bb5c389ed065b0664b086eb1393fdb5729447cbf21b18fded646434c15c951b5"
  },
  "kernelspec": {
   "display_name": "Python 3.10.0 64-bit ('featstore': conda)",
   "name": "python3"
  },
  "language_info": {
   "codemirror_mode": {
    "name": "ipython",
    "version": 3
   },
   "file_extension": ".py",
   "mimetype": "text/x-python",
   "name": "python",
   "nbconvert_exporter": "python",
   "pygments_lexer": "ipython3",
   "version": "3.10.0"
  }
 },
 "nbformat": 4,
 "nbformat_minor": 5
}
