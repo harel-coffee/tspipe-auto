{
 "cells": [
  {
   "cell_type": "markdown",
   "id": "fe40f11b-8681-4591-883b-6f88190a8798",
   "metadata": {},
   "source": [
    "We will use [tsfresh](https://tsfresh.readthedocs.io/) to create features. The module takes flat dataframes, as described [in the docs](https://tsfresh.readthedocs.io/en/latest/text/data_formats.html).\n",
    "\n",
    "We will take the UC Berkeley milling data set and create a flat dataframe from it."
   ]
  },
  {
   "cell_type": "code",
   "execution_count": null,
   "id": "c10fdb2c",
   "metadata": {},
   "outputs": [],
   "source": []
  },
  {
   "cell_type": "code",
   "execution_count": 27,
   "id": "5d1a4d75-a802-4b03-a9ad-fa11eec3e461",
   "metadata": {},
   "outputs": [
    {
     "name": "stdout",
     "output_type": "stream",
     "text": [
      "The autoreload extension is already loaded. To reload it, use:\n",
      "  %reload_ext autoreload\n"
     ]
    }
   ],
   "source": [
    "import pathlib\n",
    "from pathlib import Path\n",
    "import scipy.io as sio\n",
    "import numpy as np\n",
    "import pandas as pd\n",
    "import zipfile\n",
    "import matplotlib.pyplot as plt\n",
    "import seaborn as sns\n",
    "\n",
    "%matplotlib inline\n",
    "%load_ext autoreload\n",
    "%autoreload 2"
   ]
  },
  {
   "cell_type": "code",
   "execution_count": 16,
   "id": "b5749e2f",
   "metadata": {},
   "outputs": [
    {
     "name": "stdout",
     "output_type": "stream",
     "text": [
      "/home/tim/Documents/feat-store\n",
      "/home/tim/Documents/feat-store/data/raw/milling\n"
     ]
    }
   ],
   "source": [
    "root_dir = Path.cwd().parent\n",
    "print(root_dir)\n",
    "\n",
    "folder_raw_data_milling = root_dir / 'data/raw/milling'\n",
    "print(folder_raw_data_milling)"
   ]
  },
  {
   "cell_type": "code",
   "execution_count": 18,
   "id": "a0c3fa4f",
   "metadata": {},
   "outputs": [],
   "source": [
    "# extract mill.zip if not already extracted\n",
    "data_path = folder_raw_data_milling / 'mill.mat'\n",
    "if not data_path.exists():\n",
    "    with zipfile.ZipFile(folder_raw_data_milling / 'mill.zip', 'r') as zip_ref:\n",
    "        zip_ref.extractall(folder_raw_data_milling)"
   ]
  },
  {
   "cell_type": "code",
   "execution_count": 23,
   "id": "5c08fe50",
   "metadata": {},
   "outputs": [],
   "source": [
    "# load the data from the matlab file\n",
    "m = sio.loadmat(data_path, struct_as_record=True)\n",
    "\n",
    "# store the 'mill' data in a seperate np array\n",
    "data = m['mill']"
   ]
  },
  {
   "cell_type": "markdown",
   "id": "0cbf307a",
   "metadata": {},
   "source": [
    "Get an idea of the stucture of the data array."
   ]
  },
  {
   "cell_type": "code",
   "execution_count": 24,
   "id": "3bee3e87",
   "metadata": {},
   "outputs": [
    {
     "name": "stdout",
     "output_type": "stream",
     "text": [
      "Keys in the matlab dict file: \n",
      " dict_keys(['__header__', '__version__', '__globals__', 'mill']) \n",
      "\n",
      "List of the field names:\n",
      " ('case', 'run', 'VB', 'time', 'DOC', 'feed', 'material', 'smcAC', 'smcDC', 'vib_table', 'vib_spindle', 'AE_table', 'AE_spindle')\n"
     ]
    }
   ],
   "source": [
    "# show some of the info from the matlab file\n",
    "print('Keys in the matlab dict file: \\n', m.keys(), '\\n')\n",
    "\n",
    "# store the field names in the data np array in a tuple, l\n",
    "l = data.dtype.names\n",
    "print('List of the field names:\\n',l)"
   ]
  },
  {
   "cell_type": "code",
   "execution_count": 25,
   "id": "4c185e9e",
   "metadata": {},
   "outputs": [
    {
     "data": {
      "text/html": [
       "<div>\n",
       "<style scoped>\n",
       "    .dataframe tbody tr th:only-of-type {\n",
       "        vertical-align: middle;\n",
       "    }\n",
       "\n",
       "    .dataframe tbody tr th {\n",
       "        vertical-align: top;\n",
       "    }\n",
       "\n",
       "    .dataframe thead th {\n",
       "        text-align: right;\n",
       "    }\n",
       "</style>\n",
       "<table border=\"1\" class=\"dataframe\">\n",
       "  <thead>\n",
       "    <tr style=\"text-align: right;\">\n",
       "      <th></th>\n",
       "      <th>case</th>\n",
       "      <th>run</th>\n",
       "      <th>VB</th>\n",
       "      <th>time</th>\n",
       "      <th>DOC</th>\n",
       "      <th>feed</th>\n",
       "      <th>material</th>\n",
       "      <th>cut_no</th>\n",
       "    </tr>\n",
       "  </thead>\n",
       "  <tbody>\n",
       "    <tr>\n",
       "      <th>0</th>\n",
       "      <td>1</td>\n",
       "      <td>1</td>\n",
       "      <td>0.00</td>\n",
       "      <td>2</td>\n",
       "      <td>1.5</td>\n",
       "      <td>0.5</td>\n",
       "      <td>1</td>\n",
       "      <td>0</td>\n",
       "    </tr>\n",
       "    <tr>\n",
       "      <th>1</th>\n",
       "      <td>1</td>\n",
       "      <td>2</td>\n",
       "      <td>NaN</td>\n",
       "      <td>4</td>\n",
       "      <td>1.5</td>\n",
       "      <td>0.5</td>\n",
       "      <td>1</td>\n",
       "      <td>1</td>\n",
       "    </tr>\n",
       "    <tr>\n",
       "      <th>2</th>\n",
       "      <td>1</td>\n",
       "      <td>3</td>\n",
       "      <td>NaN</td>\n",
       "      <td>6</td>\n",
       "      <td>1.5</td>\n",
       "      <td>0.5</td>\n",
       "      <td>1</td>\n",
       "      <td>2</td>\n",
       "    </tr>\n",
       "    <tr>\n",
       "      <th>3</th>\n",
       "      <td>1</td>\n",
       "      <td>4</td>\n",
       "      <td>0.11</td>\n",
       "      <td>7</td>\n",
       "      <td>1.5</td>\n",
       "      <td>0.5</td>\n",
       "      <td>1</td>\n",
       "      <td>3</td>\n",
       "    </tr>\n",
       "    <tr>\n",
       "      <th>4</th>\n",
       "      <td>1</td>\n",
       "      <td>5</td>\n",
       "      <td>NaN</td>\n",
       "      <td>11</td>\n",
       "      <td>1.5</td>\n",
       "      <td>0.5</td>\n",
       "      <td>1</td>\n",
       "      <td>4</td>\n",
       "    </tr>\n",
       "  </tbody>\n",
       "</table>\n",
       "</div>"
      ],
      "text/plain": [
       "   case  run    VB  time  DOC  feed  material  cut_no\n",
       "0     1    1  0.00     2  1.5   0.5         1       0\n",
       "1     1    2   NaN     4  1.5   0.5         1       1\n",
       "2     1    3   NaN     6  1.5   0.5         1       2\n",
       "3     1    4  0.11     7  1.5   0.5         1       3\n",
       "4     1    5   NaN    11  1.5   0.5         1       4"
      ]
     },
     "execution_count": 25,
     "metadata": {},
     "output_type": "execute_result"
    }
   ],
   "source": [
    "# store the field names in the data np array in a tuple, l\n",
    "l = data.dtype.names\n",
    "\n",
    "# create empty dataframe for the labels\n",
    "df_labels = pd.DataFrame()\n",
    "\n",
    "# get the labels from the original .mat file and put in dataframe\n",
    "for i in range(7):\n",
    "    # list for storing the label data for each field\n",
    "    x = []\n",
    "    \n",
    "    # iterate through each of the unique cuts\n",
    "    for j in range(167):\n",
    "        x.append(data[0,j][i][0][0])\n",
    "    x = np.array(x)\n",
    "    df_labels[str(i)] = x\n",
    "\n",
    "# add column names to the dataframe\n",
    "df_labels.columns = l[0:7]\n",
    "    \n",
    "# create a column with the unique cut number\n",
    "df_labels['cut_no'] = [i for i in range(167)]\n",
    "\n",
    "df_labels.head()"
   ]
  },
  {
   "cell_type": "markdown",
   "id": "78cc1630",
   "metadata": {},
   "source": [
    "Make a simple plot to look at some of the data."
   ]
  },
  {
   "cell_type": "code",
   "execution_count": 28,
   "id": "77263d2f",
   "metadata": {},
   "outputs": [
    {
     "data": {
      "text/plain": [
       "<matplotlib.legend.Legend at 0x7f70624bb880>"
      ]
     },
     "execution_count": 28,
     "metadata": {},
     "output_type": "execute_result"
    },
    {
     "data": {
      "image/png": "[encoded data removed]",
      "text/plain": [
       "<Figure size 432x288 with 1 Axes>"
      ]
     },
     "metadata": {
      "needs_background": "light"
     },
     "output_type": "display_data"
    }
   ],
   "source": [
    "# look at cut number 167 (index 166)\n",
    "fig, ax = plt.subplots()\n",
    "\n",
    "ax.plot(data[0,166]['smcAC'],'g-',label='smcAC')\n",
    "ax.plot(data[0,166]['smcDC'],color='orange',label='smcDC')\n",
    "\n",
    "plt.legend()"
   ]
  },
  {
   "cell_type": "markdown",
   "id": "c92b8204",
   "metadata": {},
   "source": [
    "# Create a Milling Data Prep Class\n",
    "Borrow shamelessly from previous work at [ml-tool-wear](https://github.com/tvhahn/ml-tool-wear).\n",
    "\n",
    "tsfresh likes a dataframe, but deep learning models, like those build in PyTorch, like to work with arrays. Our class will create the numpy array first, and then produce a flat dataframe from that."
   ]
  },
  {
   "cell_type": "code",
   "execution_count": 29,
   "id": "172519e3",
   "metadata": {},
   "outputs": [],
   "source": [
    "m = sio.loadmat(data_path, struct_as_record=True)\n",
    "\n",
    "# store the 'mill' data in a seperate np array\n",
    "data = m['mill']\n",
    "\n",
    "field_names = data.dtype.names\n"
   ]
  },
  {
   "cell_type": "code",
   "execution_count": null,
   "id": "7119e313",
   "metadata": {},
   "outputs": [],
   "source": [
    "def create_tensor(\n",
    "        data_sample, signal_names, start, end, window_size, stride=8\n",
    "    ):\n",
    "        \"\"\"Create a tensor from a cut sample. Final tensor will have shape: \n",
    "        [# samples, # sample len, # features/sample]\n",
    "\n",
    "        Parameters\n",
    "        ===========\n",
    "        data_sample : ndarray\n",
    "            single data sample (individual cut) containing all the signals\n",
    "\n",
    "        signal_names : tuple\n",
    "            tuple of all the signals that will be added into the tensor\n",
    "\n",
    "        start : int\n",
    "            starting index (e.g. the first 2000 \"samples\" in the cut may be from\n",
    "            when the tool is not up to speed, so should be ignored)\n",
    "\n",
    "        end : int\n",
    "            ending index\n",
    "        \n",
    "        window_size : int\n",
    "            size of the window to be used to make the sub-cuts\n",
    "\n",
    "        stride : int\n",
    "            length to move the window at each iteration\n",
    "\n",
    "        Returns\n",
    "        ===========\n",
    "        c : ndarray\n",
    "            array of the sub-cuts\n",
    "\n",
    "        \"\"\"\n",
    "\n",
    "        s = signal_names[::-1]  # only include the six signals, and reverse order\n",
    "        c = data_sample[s[0]].reshape((9000, 1))\n",
    "\n"
   ]
  }
 ],
 "metadata": {
  "kernelspec": {
   "display_name": "Python 3 (ipykernel)",
   "language": "python",
   "name": "python3"
  },
  "language_info": {
   "codemirror_mode": {
    "name": "ipython",
    "version": 3
   },
   "file_extension": ".py",
   "mimetype": "text/x-python",
   "name": "python",
   "nbconvert_exporter": "python",
   "pygments_lexer": "ipython3",
   "version": "3.8.12"
  }
 },
 "nbformat": 4,
 "nbformat_minor": 5
}
