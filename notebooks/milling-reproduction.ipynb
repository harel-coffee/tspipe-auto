{
 "cells": [
  {
   "cell_type": "markdown",
   "metadata": {},
   "source": [
    "# UC Berkeley Milling Dataset\n",
    "> Reproduces the results from the UC Berkeley Milling Dataset.\n",
    "\n",
    "Here, we will reproduce the results, figures, and tables from the experiment using the UC Berekely Milling Dataset. You can find dataset on the [NASA Prognostics Repository](https://www.nasa.gov/content/prognostics-center-of-excellence-data-set-repository).\n",
    "\n",
    "A detailed description of the dataset is found in the [PyPHM example notebook](https://github.com/tvhahn/PyPHM/blob/master/notebooks/milling_example.ipynb) (which you can also [run on Google Colab](https://colab.research.google.com/github/tvhahn/PyPHM/blob/master/notebooks/milling_example.ipynb)).\n",
    "\n",
    "First step to reproduce the results is to get the proper environment setup and download the data.\n",
    "\n",
    "## Table of Contents\n",
    "* [1. Setup Notebook](#1.-Setup-Notebook) - clone the repo and import require packages\n",
    "* [2. Explore Data](#2.-Explore-Data) - download the raw data and see how it looks\n",
    "* [3. Create Train/Val/Test Sets](#3.-Create-Train/Val/Test-Sets) - create the data splits (if you want) and visualize them\n",
    "* [4. Train Models with a Random Search](#4.-Train-Models-with-a-Random-Search) - train the models\n",
    "* [5. Summarize Results](#5.-Summarize-Results) - summarize the results of the random search to find the most effective loss functions\n",
    "\n",
    "\n",
    "# 1. Setup Notebook\n",
    "**For Google Colab:**\n",
    "To run the notebook on google colab you must clone the repo an download the data using PyPHM. This can be done by running the following cell."
   ]
  },
  {
   "cell_type": "code",
   "execution_count": null,
   "metadata": {},
   "outputs": [],
   "source": [
    "# ONLY RUN IF YOU'RE USING GOOGLE COLAB\n",
    "!git clone https://github.com/tvhahn/tspipe\n",
    "\n",
    "# move into project folder\n",
    "%cd tspipe\n",
    "\n",
    "!pip install pyphm\n",
    "!pip install -e ."
   ]
  },
  {
   "cell_type": "markdown",
   "metadata": {},
   "source": [
    "**Import Packages:**\n",
    "Don't skip this step! Needed for Google Colab and if run locally."
   ]
  },
  {
   "cell_type": "code",
   "execution_count": 1,
   "metadata": {},
   "outputs": [],
   "source": [
    "from pyphm.datasets.milling import MillingPrepMethodA\n",
    "import matplotlib.pyplot as plt\n",
    "import numpy as np\n",
    "import pandas as pd\n",
    "from pathlib import Path\n",
    "\n",
    "import warnings\n",
    "warnings.filterwarnings(\"ignore\") # supress all the matplotlib deprecation warnings\n",
    "%load_ext autoreload\n",
    "%autoreload 2"
   ]
  },
  {
   "cell_type": "code",
   "execution_count": 2,
   "metadata": {},
   "outputs": [
    {
     "name": "stdout",
     "output_type": "stream",
     "text": [
      "/home/tim/Documents/feat-store\n"
     ]
    }
   ],
   "source": [
    "# set the root (parent folder) and the data folder locations\n",
    "path_colab = Path.cwd().parent.parent / 'content'\n",
    "\n",
    "if path_colab.exists():\n",
    "    proj_dir = Path.cwd() # get projet folder of repository - use if on colab\n",
    "else:\n",
    "    proj_dir = Path.cwd().parent # on local machine in ./notebooks folder\n",
    "\n",
    "print(proj_dir) "
   ]
  },
  {
   "cell_type": "code",
   "execution_count": 4,
   "metadata": {},
   "outputs": [
    {
     "name": "stdout",
     "output_type": "stream",
     "text": [
      "2022-10-24 11:31:51,508 - __main__ - INFO - Download the datasets\n",
      "Downloading milling data...\n"
     ]
    }
   ],
   "source": [
    "!python {proj_dir}/src/dataprep/download_data.py -p {proj_dir}"
   ]
  },
  {
   "cell_type": "code",
   "execution_count": null,
   "metadata": {},
   "outputs": [],
   "source": []
  }
 ],
 "metadata": {
  "kernelspec": {
   "display_name": "Python 3.8.13 ('featstore')",
   "language": "python",
   "name": "python3"
  },
  "language_info": {
   "codemirror_mode": {
    "name": "ipython",
    "version": 3
   },
   "file_extension": ".py",
   "mimetype": "text/x-python",
   "name": "python",
   "nbconvert_exporter": "python",
   "pygments_lexer": "ipython3",
   "version": "3.8.13"
  },
  "orig_nbformat": 4,
  "vscode": {
   "interpreter": {
    "hash": "daff1afd4d675d5e247c0a95a5de0c03bd87d8f7edee7cb37c539016070f1c16"
   }
  }
 },
 "nbformat": 4,
 "nbformat_minor": 2
}
