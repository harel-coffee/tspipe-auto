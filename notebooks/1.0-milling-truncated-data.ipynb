{
 "cells": [
  {
   "cell_type": "markdown",
   "id": "fe40f11b-8681-4591-883b-6f88190a8798",
   "metadata": {},
   "source": [
    "We will use [tsfresh](https://tsfresh.readthedocs.io/) to create features. The module takes flat dataframes, as described [in the docs](https://tsfresh.readthedocs.io/en/latest/text/data_formats.html).\n",
    "\n",
    "We will take the UC Berkeley milling data set and create a flat dataframe from it."
   ]
  },
  {
   "cell_type": "code",
   "execution_count": 1,
   "id": "5d1a4d75-a802-4b03-a9ad-fa11eec3e461",
   "metadata": {},
   "outputs": [],
   "source": [
    "import pathlib\n",
    "from pathlib import Path\n",
    "import scipy.io as sio\n",
    "import numpy as np\n",
    "import pandas as pd\n",
    "import zipfile\n",
    "import matplotlib.pyplot as plt\n",
    "import seaborn as sns\n",
    "from src.data.data_prep_utils import MillingDataPrep\n",
    "\n",
    "%matplotlib inline\n",
    "%load_ext autoreload\n",
    "%autoreload 2"
   ]
  },
  {
   "cell_type": "markdown",
   "id": "1b5b8d7c",
   "metadata": {},
   "source": [
    "Set folder paths."
   ]
  },
  {
   "cell_type": "code",
   "execution_count": 11,
   "id": "b5749e2f",
   "metadata": {},
   "outputs": [
    {
     "name": "stdout",
     "output_type": "stream",
     "text": [
      "c:\\_Python\\feat-store\n",
      "c:\\_Python\\feat-store\\data\\raw\\milling\n"
     ]
    },
    {
     "data": {
      "text/plain": [
       "True"
      ]
     },
     "execution_count": 11,
     "metadata": {},
     "output_type": "execute_result"
    }
   ],
   "source": [
    "root_dir = Path.cwd().parent\n",
    "print(root_dir)\n",
    "\n",
    "folder_raw_data_milling = root_dir / 'data/raw/milling'\n",
    "folder_processed_data_milling = root_dir / 'data/processed/milling'\n",
    "df_label_path=folder_processed_data_milling / \"labels_with_tool_class_truncated.csv\"\n",
    "print(folder_raw_data_milling)\n",
    "df_label_path.exists()"
   ]
  },
  {
   "cell_type": "code",
   "execution_count": 14,
   "id": "0eb176a0",
   "metadata": {},
   "outputs": [],
   "source": [
    "milldata = MillingDataPrep(folder_raw_data_milling / 'mill_truncated.mat', path_df_labels=df_label_path, window_size=64, stride=64, cut_drop_list=None)"
   ]
  },
  {
   "cell_type": "code",
   "execution_count": 15,
   "id": "83ec0d5d",
   "metadata": {},
   "outputs": [],
   "source": [
    "df = milldata.create_xy_dataframe()\n"
   ]
  },
  {
   "cell_type": "code",
   "execution_count": 19,
   "id": "f7e209f9",
   "metadata": {},
   "outputs": [
    {
     "data": {
      "text/html": [
       "<div>\n",
       "<style scoped>\n",
       "    .dataframe tbody tr th:only-of-type {\n",
       "        vertical-align: middle;\n",
       "    }\n",
       "\n",
       "    .dataframe tbody tr th {\n",
       "        vertical-align: top;\n",
       "    }\n",
       "\n",
       "    .dataframe thead th {\n",
       "        text-align: right;\n",
       "    }\n",
       "</style>\n",
       "<table border=\"1\" class=\"dataframe\">\n",
       "  <thead>\n",
       "    <tr style=\"text-align: right;\">\n",
       "      <th></th>\n",
       "      <th>cut_id</th>\n",
       "      <th>case</th>\n",
       "      <th>time</th>\n",
       "      <th>ae_spindle</th>\n",
       "      <th>ae_table</th>\n",
       "      <th>vib_spindle</th>\n",
       "      <th>vib_table</th>\n",
       "      <th>smcdc</th>\n",
       "      <th>smcac</th>\n",
       "      <th>tool_class</th>\n",
       "    </tr>\n",
       "  </thead>\n",
       "  <tbody>\n",
       "    <tr>\n",
       "      <th>8955</th>\n",
       "      <td>1_69</td>\n",
       "      <td>1</td>\n",
       "      <td>0.236</td>\n",
       "      <td>0.239258</td>\n",
       "      <td>0.179443</td>\n",
       "      <td>0.625000</td>\n",
       "      <td>1.770020</td>\n",
       "      <td>7.182617</td>\n",
       "      <td>0.043945</td>\n",
       "      <td>0</td>\n",
       "    </tr>\n",
       "    <tr>\n",
       "      <th>8956</th>\n",
       "      <td>1_69</td>\n",
       "      <td>1</td>\n",
       "      <td>0.240</td>\n",
       "      <td>0.213013</td>\n",
       "      <td>0.175781</td>\n",
       "      <td>0.622559</td>\n",
       "      <td>1.691895</td>\n",
       "      <td>7.016602</td>\n",
       "      <td>0.485840</td>\n",
       "      <td>0</td>\n",
       "    </tr>\n",
       "    <tr>\n",
       "      <th>8957</th>\n",
       "      <td>1_69</td>\n",
       "      <td>1</td>\n",
       "      <td>0.244</td>\n",
       "      <td>0.225220</td>\n",
       "      <td>0.243530</td>\n",
       "      <td>0.672607</td>\n",
       "      <td>1.806641</td>\n",
       "      <td>6.938477</td>\n",
       "      <td>1.142578</td>\n",
       "      <td>0</td>\n",
       "    </tr>\n",
       "    <tr>\n",
       "      <th>8958</th>\n",
       "      <td>1_69</td>\n",
       "      <td>1</td>\n",
       "      <td>0.248</td>\n",
       "      <td>0.270386</td>\n",
       "      <td>0.296631</td>\n",
       "      <td>0.671387</td>\n",
       "      <td>1.884766</td>\n",
       "      <td>7.075195</td>\n",
       "      <td>1.328125</td>\n",
       "      <td>0</td>\n",
       "    </tr>\n",
       "    <tr>\n",
       "      <th>8959</th>\n",
       "      <td>1_69</td>\n",
       "      <td>1</td>\n",
       "      <td>0.252</td>\n",
       "      <td>0.323486</td>\n",
       "      <td>0.245972</td>\n",
       "      <td>0.740967</td>\n",
       "      <td>1.945801</td>\n",
       "      <td>7.011719</td>\n",
       "      <td>2.521973</td>\n",
       "      <td>0</td>\n",
       "    </tr>\n",
       "  </tbody>\n",
       "</table>\n",
       "</div>"
      ],
      "text/plain": [
       "     cut_id case   time  ae_spindle  ae_table  vib_spindle  vib_table  \\\n",
       "8955   1_69    1  0.236    0.239258  0.179443     0.625000   1.770020   \n",
       "8956   1_69    1  0.240    0.213013  0.175781     0.622559   1.691895   \n",
       "8957   1_69    1  0.244    0.225220  0.243530     0.672607   1.806641   \n",
       "8958   1_69    1  0.248    0.270386  0.296631     0.671387   1.884766   \n",
       "8959   1_69    1  0.252    0.323486  0.245972     0.740967   1.945801   \n",
       "\n",
       "         smcdc     smcac  tool_class  \n",
       "8955  7.182617  0.043945           0  \n",
       "8956  7.016602  0.485840           0  \n",
       "8957  6.938477  1.142578           0  \n",
       "8958  7.075195  1.328125           0  \n",
       "8959  7.011719  2.521973           0  "
      ]
     },
     "execution_count": 19,
     "metadata": {},
     "output_type": "execute_result"
    }
   ],
   "source": [
    "df.tail()"
   ]
  },
  {
   "cell_type": "code",
   "execution_count": 18,
   "id": "2440bcc4",
   "metadata": {},
   "outputs": [
    {
     "data": {
      "text/plain": [
       "(8960, 10)"
      ]
     },
     "execution_count": 18,
     "metadata": {},
     "output_type": "execute_result"
    }
   ],
   "source": [
    "df.shape"
   ]
  },
  {
   "cell_type": "code",
   "execution_count": null,
   "id": "b6f3825d",
   "metadata": {},
   "outputs": [],
   "source": []
  },
  {
   "cell_type": "code",
   "execution_count": null,
   "id": "54229967",
   "metadata": {},
   "outputs": [],
   "source": []
  },
  {
   "cell_type": "code",
   "execution_count": null,
   "id": "917fa2cb",
   "metadata": {},
   "outputs": [],
   "source": []
  }
 ],
 "metadata": {
  "interpreter": {
   "hash": "bb5c389ed065b0664b086eb1393fdb5729447cbf21b18fded646434c15c951b5"
  },
  "kernelspec": {
   "display_name": "Python 3.10.0 64-bit ('featstore': conda)",
   "name": "python3"
  },
  "language_info": {
   "codemirror_mode": {
    "name": "ipython",
    "version": 3
   },
   "file_extension": ".py",
   "mimetype": "text/x-python",
   "name": "python",
   "nbconvert_exporter": "python",
   "pygments_lexer": "ipython3",
   "version": "3.8.12"
  }
 },
 "nbformat": 4,
 "nbformat_minor": 5
}
